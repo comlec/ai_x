{
 "cells": [
  {
   "cell_type": "code",
   "execution_count": 1,
   "id": "a0d970e3",
   "metadata": {},
   "outputs": [
    {
     "data": {
      "text/html": [
       "\n",
       "<style>\n",
       "div.container{width:90% !important;}\n",
       "div.cell.code_cell.rendered{width:100%;}\n",
       "div.input_prompt{padding:0px;}\n",
       "div.CodeMirror {font-family:Consolas; font-size:25pt;}\n",
       "div.text_cell_render.rendered_html{font-size:18pt;}\n",
       "div.output {font-size:24pt; font-weight:bold;}\n",
       "div.input {font-family:Consolas; font-size:12pt;}\n",
       "div.prompt {min-width:70px;}\n",
       "div#toc-wrapper{padding-top:120px;}\n",
       "div.text_cell_render ul li{font-size:21pt;padding:5px;}\n",
       "table.dataframe{font-size:24px;}\n",
       "</style>\n"
      ],
      "text/plain": [
       "<IPython.core.display.HTML object>"
      ]
     },
     "metadata": {},
     "output_type": "display_data"
    }
   ],
   "source": [
    "from IPython.display import display, HTML\n",
    "display(HTML(\"\"\"\n",
    "<style>\n",
    "div.container{width:90% !important;}\n",
    "div.cell.code_cell.rendered{width:100%;}\n",
    "div.input_prompt{padding:0px;}\n",
    "div.CodeMirror {font-family:Consolas; font-size:25pt;}\n",
    "div.text_cell_render.rendered_html{font-size:18pt;}\n",
    "div.output {font-size:24pt; font-weight:bold;}\n",
    "div.input {font-family:Consolas; font-size:12pt;}\n",
    "div.prompt {min-width:70px;}\n",
    "div#toc-wrapper{padding-top:120px;}\n",
    "div.text_cell_render ul li{font-size:21pt;padding:5px;}\n",
    "table.dataframe{font-size:24px;}\n",
    "</style>\n",
    "\"\"\"))"
   ]
  },
  {
   "cell_type": "markdown",
   "id": "807517f5",
   "metadata": {},
   "source": [
    "<b><font color=\"red\" size=\"5\">ch05. 함수</font></b>\n",
    "- 사용할 코드를 묶어 놓고 그것에 이름을 붙인 것\n",
    "- 오버로딩(함수 이름이 같고, 매개변수의 갯수로 다른 함수를 허용하는 것) 불가\n",
    "- 함수 정의\n",
    "```\n",
    "def 함수명([매개변수1, .. 매개변수n]):\n",
    "    명령어1\n",
    "    명령어2\n",
    "    명령어n\n",
    "```\n",
    "# 1절. 함수의 정의 및 사용\n",
    "## 1.1 함수 정의"
   ]
  },
  {
   "cell_type": "code",
   "execution_count": 2,
   "id": "5b5744f8",
   "metadata": {},
   "outputs": [],
   "source": [
    "# 함수 정의\n",
    "def my_message(x, msg): # msg를 x번 출력하는 함수\n",
    "    for i in range(x):\n",
    "        print(msg)"
   ]
  },
  {
   "cell_type": "code",
   "execution_count": 3,
   "id": "b995128e",
   "metadata": {},
   "outputs": [
    {
     "name": "stdout",
     "output_type": "stream",
     "text": [
      "Hello\n",
      "Hello\n",
      "Hello\n",
      "Hello\n",
      "Hello\n"
     ]
    }
   ],
   "source": [
    "# 함수 사용\n",
    "my_message(5, 'Hello')"
   ]
  },
  {
   "cell_type": "code",
   "execution_count": 4,
   "id": "b1f2c277",
   "metadata": {},
   "outputs": [
    {
     "name": "stdout",
     "output_type": "stream",
     "text": [
      "hello\n",
      "hello\n",
      "hello\n"
     ]
    }
   ],
   "source": [
    "my_msg = my_message\n",
    "my_msg(3, 'hello')"
   ]
  },
  {
   "cell_type": "code",
   "execution_count": 5,
   "id": "e11ccb90",
   "metadata": {},
   "outputs": [
    {
     "data": {
      "text/plain": [
       "(function, function)"
      ]
     },
     "execution_count": 5,
     "metadata": {},
     "output_type": "execute_result"
    }
   ],
   "source": [
    "type(my_msg), type(my_message)"
   ]
  },
  {
   "cell_type": "code",
   "execution_count": 1,
   "id": "bd3427bf",
   "metadata": {},
   "outputs": [
    {
     "name": "stdout",
     "output_type": "stream",
     "text": [
      "Hello\n",
      "Hello\n"
     ]
    }
   ],
   "source": [
    "print('Hello') # 파이썬 내장함수(import 하지 않고 사용할 수 있는 함수)\n",
    "print = 5\n",
    "# print('Hello')\n",
    "del print\n",
    "print('Hello')"
   ]
  },
  {
   "cell_type": "code",
   "execution_count": 9,
   "id": "03681cdc",
   "metadata": {},
   "outputs": [
    {
     "name": "stdout",
     "output_type": "stream",
     "text": [
      "Hello\n",
      "Hello\n"
     ]
    }
   ],
   "source": [
    "my_message(2, 'Hello')"
   ]
  },
  {
   "cell_type": "code",
   "execution_count": 10,
   "id": "1e7cb32f",
   "metadata": {},
   "outputs": [],
   "source": [
    "my_message = 5"
   ]
  },
  {
   "cell_type": "code",
   "execution_count": 11,
   "id": "fb3b684e",
   "metadata": {},
   "outputs": [
    {
     "ename": "TypeError",
     "evalue": "'int' object is not callable",
     "output_type": "error",
     "traceback": [
      "\u001b[1;31m---------------------------------------------------------------------\u001b[0m",
      "\u001b[1;31mTypeError\u001b[0m                           Traceback (most recent call last)",
      "Cell \u001b[1;32mIn[11], line 1\u001b[0m\n\u001b[1;32m----> 1\u001b[0m \u001b[43mmy_message\u001b[49m\u001b[43m(\u001b[49m\u001b[38;5;241;43m2\u001b[39;49m\u001b[43m,\u001b[49m\u001b[43m \u001b[49m\u001b[38;5;124;43m'\u001b[39;49m\u001b[38;5;124;43mHello\u001b[39;49m\u001b[38;5;124;43m'\u001b[39;49m\u001b[43m)\u001b[49m\n",
      "\u001b[1;31mTypeError\u001b[0m: 'int' object is not callable"
     ]
    }
   ],
   "source": [
    "my_message(2, 'Hello')"
   ]
  },
  {
   "cell_type": "code",
   "execution_count": 12,
   "id": "48ed8e27",
   "metadata": {},
   "outputs": [],
   "source": [
    "del my_message\n",
    "# 변수를 삭제해도 함수 사용불가(파이썬 내장함수가 아니라서)"
   ]
  },
  {
   "cell_type": "code",
   "execution_count": 13,
   "id": "66f77d51",
   "metadata": {},
   "outputs": [
    {
     "ename": "NameError",
     "evalue": "name 'my_message' is not defined",
     "output_type": "error",
     "traceback": [
      "\u001b[1;31m---------------------------------------------------------------------\u001b[0m",
      "\u001b[1;31mNameError\u001b[0m                           Traceback (most recent call last)",
      "Cell \u001b[1;32mIn[13], line 1\u001b[0m\n\u001b[1;32m----> 1\u001b[0m \u001b[43mmy_message\u001b[49m(\u001b[38;5;241m2\u001b[39m, \u001b[38;5;124m'\u001b[39m\u001b[38;5;124mHello\u001b[39m\u001b[38;5;124m'\u001b[39m)\n",
      "\u001b[1;31mNameError\u001b[0m: name 'my_message' is not defined"
     ]
    }
   ],
   "source": [
    "my_message(2, 'Hello')"
   ]
  },
  {
   "cell_type": "code",
   "execution_count": 4,
   "id": "6e02225d",
   "metadata": {},
   "outputs": [],
   "source": [
    "# 함수 정의 : 4월16일(수)\n",
    "def my_hello():\n",
    "    print('Hello, Python')\n",
    "    print('Hello, World')\n",
    "def my_hello(cnt):\n",
    "    for i in range(cnt):\n",
    "        print('Hello, Python')\n",
    "        print('Hello, World')"
   ]
  },
  {
   "cell_type": "code",
   "execution_count": 6,
   "id": "36dc3930",
   "metadata": {},
   "outputs": [
    {
     "name": "stdout",
     "output_type": "stream",
     "text": [
      "Hello, Python\n",
      "Hello, World\n",
      "Hello, Python\n",
      "Hello, World\n"
     ]
    }
   ],
   "source": [
    "# 함수사용=함수호출\n",
    "my_hello(2)"
   ]
  },
  {
   "cell_type": "code",
   "execution_count": 7,
   "id": "53ed04da",
   "metadata": {},
   "outputs": [
    {
     "data": {
      "text/plain": [
       "<function __main__.my_hello(cnt)>"
      ]
     },
     "execution_count": 7,
     "metadata": {},
     "output_type": "execute_result"
    }
   ],
   "source": [
    "my_hello"
   ]
  },
  {
   "cell_type": "code",
   "execution_count": 9,
   "id": "9d291b27",
   "metadata": {},
   "outputs": [
    {
     "data": {
      "text/plain": [
       "'__main__'"
      ]
     },
     "execution_count": 9,
     "metadata": {},
     "output_type": "execute_result"
    }
   ],
   "source": [
    "__name__"
   ]
  },
  {
   "cell_type": "code",
   "execution_count": 10,
   "id": "0dd2e627",
   "metadata": {},
   "outputs": [
    {
     "name": "stdout",
     "output_type": "stream",
     "text": [
      "Hello, Python\n",
      "Hello, World\n",
      "Hello, Python\n",
      "Hello, World\n"
     ]
    }
   ],
   "source": [
    "if __name__=='__main__':\n",
    "    my_hello(2)"
   ]
  },
  {
   "cell_type": "code",
   "execution_count": 1,
   "id": "c0bcb1f0",
   "metadata": {},
   "outputs": [],
   "source": [
    "import ch05 # ch05모듈을 load"
   ]
  },
  {
   "cell_type": "code",
   "execution_count": 2,
   "id": "be84b41b",
   "metadata": {},
   "outputs": [
    {
     "name": "stdout",
     "output_type": "stream",
     "text": [
      "Hello, Python\n",
      "Hello, World\n",
      "Hello, Python\n",
      "Hello, World\n"
     ]
    }
   ],
   "source": [
    "ch05.my_hello(2)"
   ]
  },
  {
   "cell_type": "code",
   "execution_count": 3,
   "id": "49ad3a66",
   "metadata": {},
   "outputs": [],
   "source": [
    "from ch05 import my_hello # ch05모듈안의 my_hello load"
   ]
  },
  {
   "cell_type": "code",
   "execution_count": 4,
   "id": "8a663538",
   "metadata": {},
   "outputs": [
    {
     "name": "stdout",
     "output_type": "stream",
     "text": [
      "Hello, Python\n",
      "Hello, World\n",
      "Hello, Python\n",
      "Hello, World\n"
     ]
    }
   ],
   "source": [
    "my_hello(2)"
   ]
  },
  {
   "cell_type": "markdown",
   "id": "834fba0c",
   "metadata": {},
   "source": [
    "## 1.2 docstring"
   ]
  },
  {
   "cell_type": "code",
   "execution_count": 7,
   "id": "d41fc196",
   "metadata": {},
   "outputs": [],
   "source": [
    "def my_function():\n",
    "    '''\n",
    "    함수의 첫라인에 독스트링을 포함할 수 있습니다\n",
    "    독스트링은 함수의 설명서를 달아주는 역할\n",
    "    주석보다 많은 기능(shift+tab으로 독스트링을 볼 수 있음)\n",
    "    '''\n",
    "    pass"
   ]
  },
  {
   "cell_type": "code",
   "execution_count": 9,
   "id": "a34560e5",
   "metadata": {},
   "outputs": [
    {
     "name": "stdout",
     "output_type": "stream",
     "text": [
      "\n",
      "    함수의 첫라인에 독스트링을 포함할 수 있습니다\n",
      "    독스트링은 함수의 설명서를 달아주는 역할\n",
      "    주석보다 많은 기능(shift+tab으로 독스트링을 볼 수 있음)\n",
      "    \n"
     ]
    }
   ],
   "source": [
    "print(my_function.__doc__)"
   ]
  },
  {
   "cell_type": "code",
   "execution_count": 10,
   "id": "0b7f5671",
   "metadata": {},
   "outputs": [],
   "source": [
    "def fibonacci(n):\n",
    "    a, b = 0, 1\n",
    "    while a < n:\n",
    "        print(a, end=' ')\n",
    "        a, b = b, a+b\n",
    "    print() # 개행"
   ]
  },
  {
   "cell_type": "code",
   "execution_count": 12,
   "id": "377e7276",
   "metadata": {},
   "outputs": [
    {
     "name": "stdout",
     "output_type": "stream",
     "text": [
      "0 1 1 2 3 5 8 \n"
     ]
    }
   ],
   "source": [
    "fibonacci(10)"
   ]
  },
  {
   "cell_type": "code",
   "execution_count": 15,
   "id": "a9ae18fe",
   "metadata": {},
   "outputs": [
    {
     "ename": "NameError",
     "evalue": "name 'a' is not defined",
     "output_type": "error",
     "traceback": [
      "\u001b[1;31m---------------------------------------------------------------------------\u001b[0m",
      "\u001b[1;31mNameError\u001b[0m                                 Traceback (most recent call last)",
      "Cell \u001b[1;32mIn[15], line 1\u001b[0m\n\u001b[1;32m----> 1\u001b[0m \u001b[43ma\u001b[49m, b\n",
      "\u001b[1;31mNameError\u001b[0m: name 'a' is not defined"
     ]
    }
   ],
   "source": [
    "a, b"
   ]
  },
  {
   "cell_type": "markdown",
   "id": "ab8979c7",
   "metadata": {},
   "source": [
    "## 1.3 지역변수(local var)와 전역변수(global var)"
   ]
  },
  {
   "cell_type": "code",
   "execution_count": 19,
   "id": "94906d00",
   "metadata": {},
   "outputs": [
    {
     "name": "stdout",
     "output_type": "stream",
     "text": [
      "함수안 : 100\n",
      "함수 밖 : 100\n"
     ]
    }
   ],
   "source": [
    "global_var = 100 # 전역변수\n",
    "def func1():\n",
    "    print('함수안 :', global_var)\n",
    "func1()\n",
    "print('함수 밖 :', global_var)"
   ]
  },
  {
   "cell_type": "code",
   "execution_count": 23,
   "id": "6091ba79",
   "metadata": {},
   "outputs": [
    {
     "name": "stdout",
     "output_type": "stream",
     "text": [
      "함수 안 : 200\n"
     ]
    },
    {
     "ename": "NameError",
     "evalue": "name 'local_var' is not defined",
     "output_type": "error",
     "traceback": [
      "\u001b[1;31m---------------------------------------------------------------------------\u001b[0m",
      "\u001b[1;31mNameError\u001b[0m                                 Traceback (most recent call last)",
      "Cell \u001b[1;32mIn[23], line 5\u001b[0m\n\u001b[0;32m      3\u001b[0m     \u001b[38;5;28mprint\u001b[39m(\u001b[38;5;124m'\u001b[39m\u001b[38;5;124m함수 안 :\u001b[39m\u001b[38;5;124m'\u001b[39m, local_var)\n\u001b[0;32m      4\u001b[0m func2()\n\u001b[1;32m----> 5\u001b[0m \u001b[38;5;28mprint\u001b[39m(\u001b[38;5;124m'\u001b[39m\u001b[38;5;124m함수 밖 :\u001b[39m\u001b[38;5;124m'\u001b[39m, \u001b[43mlocal_var\u001b[49m)\n",
      "\u001b[1;31mNameError\u001b[0m: name 'local_var' is not defined"
     ]
    }
   ],
   "source": [
    "def func2():\n",
    "    local_var = 200 # 지역변수\n",
    "    print('함수 안 :', local_var)\n",
    "func2()\n",
    "print('함수 밖 :', local_var)"
   ]
  },
  {
   "cell_type": "code",
   "execution_count": 26,
   "id": "83e60362",
   "metadata": {},
   "outputs": [
    {
     "name": "stdout",
     "output_type": "stream",
     "text": [
      "함수 안(지역변수 g_var) : 200\n",
      "함수 밖(전역변수 g_var) : 100\n"
     ]
    }
   ],
   "source": [
    "g_var = 100 # 전역변수\n",
    "def func3():\n",
    "    g_var = 200 # 지역변수(변수 선언과 할당)\n",
    "    print('함수 안(지역변수 g_var) :', g_var)\n",
    "func3()\n",
    "print('함수 밖(전역변수 g_var) :', g_var)"
   ]
  },
  {
   "cell_type": "code",
   "execution_count": 29,
   "id": "874c08c7",
   "metadata": {},
   "outputs": [
    {
     "ename": "UnboundLocalError",
     "evalue": "local variable 'g_var' referenced before assignment",
     "output_type": "error",
     "traceback": [
      "\u001b[1;31m---------------------------------------------------------------------------\u001b[0m",
      "\u001b[1;31mUnboundLocalError\u001b[0m                         Traceback (most recent call last)",
      "Cell \u001b[1;32mIn[29], line 5\u001b[0m\n\u001b[0;32m      3\u001b[0m     \u001b[38;5;28mprint\u001b[39m(\u001b[38;5;124m'\u001b[39m\u001b[38;5;124m함수 안 g_var :\u001b[39m\u001b[38;5;124m'\u001b[39m, g_var)\n\u001b[0;32m      4\u001b[0m     g_var \u001b[38;5;241m=\u001b[39m \u001b[38;5;241m200\u001b[39m \u001b[38;5;66;03m# 지역변수\u001b[39;00m\n\u001b[1;32m----> 5\u001b[0m \u001b[43mfunc4\u001b[49m\u001b[43m(\u001b[49m\u001b[43m)\u001b[49m\n",
      "Cell \u001b[1;32mIn[29], line 3\u001b[0m, in \u001b[0;36mfunc4\u001b[1;34m()\u001b[0m\n\u001b[0;32m      2\u001b[0m \u001b[38;5;28;01mdef\u001b[39;00m \u001b[38;5;21mfunc4\u001b[39m():\n\u001b[1;32m----> 3\u001b[0m     \u001b[38;5;28mprint\u001b[39m(\u001b[38;5;124m'\u001b[39m\u001b[38;5;124m함수 안 g_var :\u001b[39m\u001b[38;5;124m'\u001b[39m, \u001b[43mg_var\u001b[49m)\n\u001b[0;32m      4\u001b[0m     g_var \u001b[38;5;241m=\u001b[39m \u001b[38;5;241m200\u001b[39m\n",
      "\u001b[1;31mUnboundLocalError\u001b[0m: local variable 'g_var' referenced before assignment"
     ]
    }
   ],
   "source": [
    "# 렉시컬 특성\n",
    "g_var = 100 # 전역변수\n",
    "def func4():\n",
    "    print('함수 안 g_var :', g_var)\n",
    "    g_var = 200 # 지역변수\n",
    "func4()"
   ]
  },
  {
   "cell_type": "code",
   "execution_count": 33,
   "id": "0d707ee9",
   "metadata": {},
   "outputs": [
    {
     "name": "stdout",
     "output_type": "stream",
     "text": [
      "함수 안 g_var : 300\n",
      "함수 밖 g_var : 100\n"
     ]
    }
   ],
   "source": [
    "# 렉시컬 특성\n",
    "g_var = 100 # 전역변수\n",
    "def func4():\n",
    "    global g_var # func4함수내의 g_var는 전역변수를 쓴다\n",
    "    print('함수 안 g_var :', g_var)\n",
    "    g_var = 200 # 전역변수\n",
    "func4()\n",
    "print('함수 밖 g_var :', g_var)"
   ]
  },
  {
   "cell_type": "markdown",
   "id": "79ab37c9",
   "metadata": {},
   "source": [
    "## 1.4 값에 의한 호출\n",
    "- 함수의 매개변수(인수)로 전달되는 변수가 스칼라 변수(문자, 숫자, 논리형)일 때"
   ]
  },
  {
   "cell_type": "code",
   "execution_count": 47,
   "id": "b213d88f",
   "metadata": {},
   "outputs": [
    {
     "data": {
      "text/plain": [
       "2956227445264"
      ]
     },
     "execution_count": 47,
     "metadata": {},
     "output_type": "execute_result"
    }
   ],
   "source": [
    "foo = 10 # 전역변수\n",
    "id(foo)"
   ]
  },
  {
   "cell_type": "code",
   "execution_count": 48,
   "id": "8229fa1c",
   "metadata": {},
   "outputs": [
    {
     "name": "stdout",
     "output_type": "stream",
     "text": [
      "Before : 10  id(f) : 2956227445264\n",
      "After : 30  id(f) : 2956227445904\n"
     ]
    }
   ],
   "source": [
    "def func1(f): # 매개변수 f는 지역변수\n",
    "    print('Before :', f , ' id(f) :', id(f))\n",
    "    f = f*3\n",
    "    print('After :', f , ' id(f) :', id(f))\n",
    "func1(foo)    "
   ]
  },
  {
   "cell_type": "code",
   "execution_count": 49,
   "id": "f3eaa355",
   "metadata": {},
   "outputs": [
    {
     "name": "stdout",
     "output_type": "stream",
     "text": [
      "10 2956227445264\n"
     ]
    }
   ],
   "source": [
    "print(foo, id(foo))"
   ]
  },
  {
   "cell_type": "markdown",
   "id": "b3391a99",
   "metadata": {},
   "source": [
    "## 1.5 참조에 의한 호출\n",
    "- 함수의 매개변수(인자)로 전달되는 변수가 리스트, 튜플, 셋, 딕셔너리 등의 객체일 경우"
   ]
  },
  {
   "cell_type": "code",
   "execution_count": 37,
   "id": "df321dcf",
   "metadata": {},
   "outputs": [
    {
     "data": {
      "text/plain": [
       "2956348570496"
      ]
     },
     "execution_count": 37,
     "metadata": {},
     "output_type": "execute_result"
    }
   ],
   "source": [
    "L = [1, 2, 3]\n",
    "id(L)"
   ]
  },
  {
   "cell_type": "code",
   "execution_count": 50,
   "id": "5101636b",
   "metadata": {},
   "outputs": [
    {
     "name": "stdout",
     "output_type": "stream",
     "text": [
      "Before : [1, 2, 3, 4, 4] 2956348570496\n",
      "After : [1, 2, 3, 4, 4, 4] 2956348570496\n"
     ]
    }
   ],
   "source": [
    "def func2(f): # 매개변수는 지역변수\n",
    "    print('Before :', f, id(f))\n",
    "    f.append(4)\n",
    "    print('After :', f, id(f))\n",
    "func2(L)"
   ]
  },
  {
   "cell_type": "code",
   "execution_count": 51,
   "id": "468a369e",
   "metadata": {},
   "outputs": [
    {
     "name": "stdout",
     "output_type": "stream",
     "text": [
      "L = [1, 2, 3, 4, 4, 4] 2956348570496\n"
     ]
    }
   ],
   "source": [
    "print('L =', L, id(L))"
   ]
  },
  {
   "cell_type": "markdown",
   "id": "568065f1",
   "metadata": {},
   "source": [
    "# 2절. 함수의 실행결과를 반환하는 return"
   ]
  },
  {
   "cell_type": "code",
   "execution_count": 64,
   "id": "5cd6ef0a",
   "metadata": {},
   "outputs": [],
   "source": [
    "def fibonacci_print(n):\n",
    "    a, b = 0, 1\n",
    "    while a < n:\n",
    "        print(a, end=' ')\n",
    "        a, b = b, a+b\n",
    "    print() # 개행    \n",
    "def fibonacci_return(n):\n",
    "    result = []\n",
    "    a, b = 0, 1\n",
    "    while a < n:\n",
    "        result.append(a)\n",
    "        a, b = b, a+b\n",
    "    return result"
   ]
  },
  {
   "cell_type": "code",
   "execution_count": 62,
   "id": "bad6b5a9",
   "metadata": {},
   "outputs": [
    {
     "name": "stdout",
     "output_type": "stream",
     "text": [
      "0 1 1 2 3 5 8 13 21 34 55 89 \n",
      "None\n"
     ]
    }
   ],
   "source": [
    "x = fibonacci_print(100)\n",
    "print(x)"
   ]
  },
  {
   "cell_type": "code",
   "execution_count": 65,
   "id": "c13cce0b",
   "metadata": {},
   "outputs": [
    {
     "name": "stdout",
     "output_type": "stream",
     "text": [
      "[0, 1, 1, 2, 3, 5, 8, 13, 21, 34, 55, 89]\n",
      "<class 'list'>\n"
     ]
    }
   ],
   "source": [
    "x = fibonacci_return(100)\n",
    "print(x)\n",
    "print(type(x))"
   ]
  },
  {
   "cell_type": "markdown",
   "id": "9a4c923f",
   "metadata": {},
   "source": [
    "## 여러개 값 return"
   ]
  },
  {
   "cell_type": "code",
   "execution_count": 66,
   "id": "03ac5cf1",
   "metadata": {},
   "outputs": [],
   "source": [
    "def swap(a, b):\n",
    "    '매개변수의 순서를 바꿔서 return'\n",
    "    return b, a"
   ]
  },
  {
   "cell_type": "code",
   "execution_count": 70,
   "id": "a43708c8",
   "metadata": {},
   "outputs": [
    {
     "name": "stdout",
     "output_type": "stream",
     "text": [
      "함수 실행 전 x=5, y =10\n",
      "함수 실행 후 x=10, y =5\n"
     ]
    }
   ],
   "source": [
    "x, y = 5, 10\n",
    "print(f'함수 실행 전 x={x}, y ={y}')\n",
    "x, y = swap(x, y)\n",
    "print(f'함수 실행 후 x={x}, y ={y}')"
   ]
  },
  {
   "cell_type": "markdown",
   "id": "6c205829",
   "metadata": {},
   "source": [
    "# 3절. 함수의 매개변수 ★\n",
    "## 3.1 기본값을 갖는 매개변수"
   ]
  },
  {
   "cell_type": "code",
   "execution_count": 77,
   "id": "57905c19",
   "metadata": {},
   "outputs": [],
   "source": [
    "def make_url(ip, port=80): # 순서인수 > 기본값을갖는매개변수\n",
    "    return \"http://{}:{}\".format(ip, port)"
   ]
  },
  {
   "cell_type": "code",
   "execution_count": 79,
   "id": "9d8b140f",
   "metadata": {},
   "outputs": [
    {
     "name": "stdout",
     "output_type": "stream",
     "text": [
      "http://www.naver.com:80\n",
      "http://localhost:8090\n",
      "http://localhost:8090\n"
     ]
    }
   ],
   "source": [
    "print(make_url('www.naver.com'))\n",
    "print(make_url('localhost', 8090))\n",
    "print(make_url(port=8090, ip='localhost'))"
   ]
  },
  {
   "cell_type": "markdown",
   "id": "8fa79801",
   "metadata": {},
   "source": [
    "## 3.2 기본변수를 갖는 매개변수\n",
    "- 기본변수가 스칼라 변수일 때\n",
    "- 기본변수가 리스트, 셋, 딕셔너리 등의 객체일 때"
   ]
  },
  {
   "cell_type": "code",
   "execution_count": 20,
   "id": "3903b55a",
   "metadata": {},
   "outputs": [],
   "source": [
    "i = 5\n",
    "# 기본값을 갖는 변수가 스칼라 변수일 때 : arg의 기본값은 함수가 정의되는 시점의 값\n",
    "def func2(arg=i):\n",
    "    print('arg = ', arg)"
   ]
  },
  {
   "cell_type": "code",
   "execution_count": 21,
   "id": "d0f1c12f",
   "metadata": {},
   "outputs": [
    {
     "name": "stdout",
     "output_type": "stream",
     "text": [
      "arg =  5\n"
     ]
    }
   ],
   "source": [
    "i = 50\n",
    "func2()"
   ]
  },
  {
   "cell_type": "code",
   "execution_count": 22,
   "id": "be150e81",
   "metadata": {},
   "outputs": [],
   "source": [
    "list_ = []\n",
    "# 기본값을 갖는 변수가 객체(데이터구조)일 때 : arg의 기본값은 호출되는 시점의 값\n",
    "def func3(data, L=list_):\n",
    "    'data를 L에 append'\n",
    "    L.append(data)\n",
    "    return L"
   ]
  },
  {
   "cell_type": "code",
   "execution_count": 23,
   "id": "4aefaa6a",
   "metadata": {},
   "outputs": [
    {
     "name": "stdout",
     "output_type": "stream",
     "text": [
      "[10]\n"
     ]
    }
   ],
   "source": [
    "print(func3(10)) # list_가 수정 : [10]"
   ]
  },
  {
   "cell_type": "code",
   "execution_count": 25,
   "id": "e381b14f",
   "metadata": {},
   "outputs": [
    {
     "name": "stdout",
     "output_type": "stream",
     "text": [
      "[10, 20]\n"
     ]
    }
   ],
   "source": [
    "print(func3(20))"
   ]
  },
  {
   "cell_type": "code",
   "execution_count": 26,
   "id": "b6e0fb8d",
   "metadata": {},
   "outputs": [
    {
     "data": {
      "text/plain": [
       "[10, 20]"
      ]
     },
     "execution_count": 26,
     "metadata": {},
     "output_type": "execute_result"
    }
   ],
   "source": [
    "list_"
   ]
  },
  {
   "cell_type": "code",
   "execution_count": 30,
   "id": "8d6e6f8f",
   "metadata": {},
   "outputs": [],
   "source": [
    "def func4(data, L=None):\n",
    "    if L==None:\n",
    "        L = []\n",
    "    L.append(data)\n",
    "    return L"
   ]
  },
  {
   "cell_type": "code",
   "execution_count": 28,
   "id": "80212f82",
   "metadata": {},
   "outputs": [
    {
     "name": "stdout",
     "output_type": "stream",
     "text": [
      "[10]\n",
      "[10, 20, 10]\n"
     ]
    }
   ],
   "source": [
    "print(func4(10))\n",
    "print(func4(10, list_))"
   ]
  },
  {
   "cell_type": "markdown",
   "id": "ed9f9e4f",
   "metadata": {},
   "source": [
    "## 3.3 튜플 매개변수를 이용한 가변인수 설정"
   ]
  },
  {
   "cell_type": "code",
   "execution_count": 33,
   "id": "8351fc28",
   "metadata": {},
   "outputs": [],
   "source": [
    "# 파이썬은 오버로딩(함수의 중복)을 지원하지 않음\n",
    "def add(a, b):\n",
    "    return a+b\n",
    "def add(a, b, c):\n",
    "    return a+b+c"
   ]
  },
  {
   "cell_type": "code",
   "execution_count": 34,
   "id": "188e5bbe",
   "metadata": {},
   "outputs": [
    {
     "ename": "TypeError",
     "evalue": "add() missing 1 required positional argument: 'c'",
     "output_type": "error",
     "traceback": [
      "\u001b[1;31m-------------------------------------------------------------------\u001b[0m",
      "\u001b[1;31mTypeError\u001b[0m                         Traceback (most recent call last)",
      "Cell \u001b[1;32mIn[34], line 1\u001b[0m\n\u001b[1;32m----> 1\u001b[0m \u001b[43madd\u001b[49m\u001b[43m(\u001b[49m\u001b[38;5;241;43m1\u001b[39;49m\u001b[43m,\u001b[49m\u001b[38;5;241;43m2\u001b[39;49m\u001b[43m)\u001b[49m\n",
      "\u001b[1;31mTypeError\u001b[0m: add() missing 1 required positional argument: 'c'"
     ]
    }
   ],
   "source": [
    "add(1,2,3,4)"
   ]
  },
  {
   "cell_type": "code",
   "execution_count": 44,
   "id": "2eebb398",
   "metadata": {},
   "outputs": [],
   "source": [
    "# *args: 매개변수들을 하나의 튜플 변수 args로 전달받음\n",
    "def add(*args):\n",
    "    '전달받은 매개변수들의 합을 return'\n",
    "    # print('args = ',args)\n",
    "    result_tot = 0 # 누적변수\n",
    "    for data in args:\n",
    "        result_tot += data\n",
    "    return result_tot"
   ]
  },
  {
   "cell_type": "code",
   "execution_count": 46,
   "id": "cfdaf65e",
   "metadata": {},
   "outputs": [
    {
     "name": "stdout",
     "output_type": "stream",
     "text": [
      "1\n",
      "3\n",
      "6\n",
      "25\n"
     ]
    }
   ],
   "source": [
    "print(add(1))\n",
    "print(add(1, 2))\n",
    "print(add(1, 2, 3))\n",
    "print(add(1, 2, 3, 9, 10))"
   ]
  },
  {
   "cell_type": "code",
   "execution_count": 48,
   "id": "fe8a1a88",
   "metadata": {},
   "outputs": [
    {
     "data": {
      "text/plain": [
       "'Python/Oracle/DL/ML'"
      ]
     },
     "execution_count": 48,
     "metadata": {},
     "output_type": "execute_result"
    }
   ],
   "source": [
    "subject = ('Python', 'Oracle', 'DL', 'ML')\n",
    "'/'.join(subject)"
   ]
  },
  {
   "cell_type": "code",
   "execution_count": 49,
   "id": "4d313b01",
   "metadata": {},
   "outputs": [],
   "source": [
    "def concat(*subject, sep):\n",
    "    return sep.join(subject)"
   ]
  },
  {
   "cell_type": "code",
   "execution_count": 50,
   "id": "07ff309e",
   "metadata": {},
   "outputs": [
    {
     "ename": "TypeError",
     "evalue": "concat() missing 1 required keyword-only argument: 'sep'",
     "output_type": "error",
     "traceback": [
      "\u001b[1;31m-------------------------------------------------------------------\u001b[0m",
      "\u001b[1;31mTypeError\u001b[0m                         Traceback (most recent call last)",
      "Cell \u001b[1;32mIn[50], line 1\u001b[0m\n\u001b[1;32m----> 1\u001b[0m \u001b[43mconcat\u001b[49m\u001b[43m(\u001b[49m\u001b[38;5;124;43m'\u001b[39;49m\u001b[38;5;124;43mPython\u001b[39;49m\u001b[38;5;124;43m'\u001b[39;49m\u001b[43m,\u001b[49m\u001b[43m \u001b[49m\u001b[38;5;124;43m'\u001b[39;49m\u001b[38;5;124;43mOracle\u001b[39;49m\u001b[38;5;124;43m'\u001b[39;49m\u001b[43m,\u001b[49m\u001b[43m \u001b[49m\u001b[38;5;124;43m'\u001b[39;49m\u001b[38;5;124;43mDL\u001b[39;49m\u001b[38;5;124;43m'\u001b[39;49m\u001b[43m,\u001b[49m\u001b[43m \u001b[49m\u001b[38;5;124;43m'\u001b[39;49m\u001b[38;5;124;43mML\u001b[39;49m\u001b[38;5;124;43m'\u001b[39;49m\u001b[43m,\u001b[49m\u001b[43m \u001b[49m\u001b[38;5;124;43m'\u001b[39;49m\u001b[38;5;124;43m/\u001b[39;49m\u001b[38;5;124;43m'\u001b[39;49m\u001b[43m)\u001b[49m\n",
      "\u001b[1;31mTypeError\u001b[0m: concat() missing 1 required keyword-only argument: 'sep'"
     ]
    }
   ],
   "source": [
    "concat('Python', 'Oracle', 'DL', 'ML', '/')"
   ]
  },
  {
   "cell_type": "code",
   "execution_count": 53,
   "id": "8063cb75",
   "metadata": {},
   "outputs": [
    {
     "data": {
      "text/plain": [
       "'Python / Oracle / DL / ML'"
      ]
     },
     "execution_count": 53,
     "metadata": {},
     "output_type": "execute_result"
    }
   ],
   "source": [
    "# 해결책1 : 매개변수 이름을 지정해서 호출\n",
    "concat('Python', 'Oracle', 'DL', 'ML', sep=' / ')"
   ]
  },
  {
   "cell_type": "code",
   "execution_count": 65,
   "id": "56ec294f",
   "metadata": {},
   "outputs": [],
   "source": [
    "# 해결책2 : 기본값을 갖는 반드시 갖는 키워드인수 사용\n",
    "def concat(*subject, sep=' ~ '):\n",
    "    return sep.join(subject)"
   ]
  },
  {
   "cell_type": "code",
   "execution_count": 66,
   "id": "b6226bfe",
   "metadata": {},
   "outputs": [
    {
     "data": {
      "text/plain": [
       "'Python / Oracle / DL / ML'"
      ]
     },
     "execution_count": 66,
     "metadata": {},
     "output_type": "execute_result"
    }
   ],
   "source": [
    "concat('Python', 'Oracle', 'DL', 'ML', sep=' / ')"
   ]
  },
  {
   "cell_type": "code",
   "execution_count": 67,
   "id": "9711781a",
   "metadata": {},
   "outputs": [
    {
     "name": "stdout",
     "output_type": "stream",
     "text": [
      "Python / Oracle / DL / ML\n"
     ]
    }
   ],
   "source": [
    "print('Python', 'Oracle', 'DL', 'ML', sep=' / ')"
   ]
  },
  {
   "cell_type": "code",
   "execution_count": 83,
   "id": "181a7042",
   "metadata": {},
   "outputs": [],
   "source": [
    "# 해결책 3 : sep을 순서인수로 앞에 선언\n",
    "def concat(sep, *subject):\n",
    "    return sep.join(subject)"
   ]
  },
  {
   "cell_type": "code",
   "execution_count": 81,
   "id": "30ef8b44",
   "metadata": {},
   "outputs": [
    {
     "data": {
      "text/plain": [
       "'OraclePythonDL'"
      ]
     },
     "execution_count": 81,
     "metadata": {},
     "output_type": "execute_result"
    }
   ],
   "source": [
    "concat('Python', 'Oracle', 'DL')"
   ]
  },
  {
   "cell_type": "markdown",
   "id": "c8aa7ba1",
   "metadata": {},
   "source": [
    "## 3.4 딕셔너리 매개변수\n",
    "- 여러 개의 키워드인수를 딕셔너리 형태로 받아서 가변키워드 인수 처리"
   ]
  },
  {
   "cell_type": "code",
   "execution_count": 93,
   "id": "8c19454c",
   "metadata": {},
   "outputs": [],
   "source": [
    "def func5(**kwargs):\n",
    "    print(kwargs)\n",
    "    print(type(kwargs))\n",
    "    print('이름 : ', kwargs.get('name', '대마왕'))\n",
    "    print('나이 : ', kwargs.get('age', 30))\n",
    "    print('주소 : ', kwargs.get('address', '서울'))"
   ]
  },
  {
   "cell_type": "code",
   "execution_count": 97,
   "id": "5d094663",
   "metadata": {},
   "outputs": [
    {
     "name": "stdout",
     "output_type": "stream",
     "text": [
      "{'name': '홍길동', 'age': 30, 'address': '신림동'}\n",
      "<class 'dict'>\n",
      "이름 :  홍길동\n",
      "나이 :  30\n",
      "주소 :  신림동\n"
     ]
    }
   ],
   "source": [
    "func5(name='홍길동', age=30, address='신림동')"
   ]
  },
  {
   "cell_type": "code",
   "execution_count": 95,
   "id": "58bced1a",
   "metadata": {},
   "outputs": [
    {
     "name": "stdout",
     "output_type": "stream",
     "text": [
      "{'name': '김길동'}\n",
      "<class 'dict'>\n",
      "이름 :  김길동\n",
      "나이 :  30\n",
      "주소 :  서울\n"
     ]
    }
   ],
   "source": [
    "func5(name='김길동')"
   ]
  },
  {
   "cell_type": "markdown",
   "id": "c2ff1cdf",
   "metadata": {},
   "source": [
    "## 3.5 함수정의시 매개변수 순서\n",
    "- 순서인수 > 튜플매개변수(*) > 키워드인수(매개변수이름반드시명시) > 딕셔너리매개변수(**)"
   ]
  },
  {
   "cell_type": "code",
   "execution_count": 101,
   "id": "80279a39",
   "metadata": {},
   "outputs": [],
   "source": [
    "def func6(a, b, *c, **d):\n",
    "    print('순서인수 a :', a)\n",
    "    print('순서인수 b :', b)\n",
    "    print('튜플인수 c :', c)\n",
    "    print('딕셔너리 인수 d :', d)"
   ]
  },
  {
   "cell_type": "code",
   "execution_count": 99,
   "id": "639c35dc",
   "metadata": {
    "collapsed": true
   },
   "outputs": [
    {
     "name": "stdout",
     "output_type": "stream",
     "text": [
      "순서인수 a : 10\n",
      "순서인수 b : 20\n",
      "튜플인수 c : (1, 2, 3, 4, 5, 6, 7, 8, 9)\n",
      "딕셔너리 인수 d : {'name': '홍길동', 'age': 30, 'address': '서울'}\n"
     ]
    }
   ],
   "source": [
    "func6(10, 20, 1, 2, 3, 4, 5, 6, 7, 8, 9, name='홍길동', age=30, address='서울')"
   ]
  },
  {
   "cell_type": "code",
   "execution_count": 102,
   "id": "dba20754",
   "metadata": {},
   "outputs": [],
   "source": [
    "def func7(a, b, *c, d='기본값', **e):\n",
    "    print('순서인수 a :', a)\n",
    "    print('순서인수 b :', b)\n",
    "    print('튜플인수 c :', c)\n",
    "    print('키워드인수(기본값을 갖는 인수, 호출시 매개변수명 반드시 명시) d :', d)\n",
    "    print('딕셔너리인수 e :', e)"
   ]
  },
  {
   "cell_type": "code",
   "execution_count": 105,
   "id": "6669e73c",
   "metadata": {},
   "outputs": [
    {
     "name": "stdout",
     "output_type": "stream",
     "text": [
      "순서인수 a : 10\n",
      "순서인수 b : 20\n",
      "튜플인수 c : (1, 2, 3)\n",
      "키워드인수(기본값을 갖는 인수, 호출시 매개변수명 반드시 명시) d : 딴거\n",
      "딕셔너리인수 e : {'fontsize': 12, 'fontfamily': 'consola'}\n"
     ]
    }
   ],
   "source": [
    "func7(10, 20, 1, 2, 3, d='딴거', fontsize=12, fontfamily='consola')"
   ]
  },
  {
   "cell_type": "code",
   "execution_count": 106,
   "id": "4210d6bc",
   "metadata": {},
   "outputs": [
    {
     "name": "stdout",
     "output_type": "stream",
     "text": [
      "순서인수 a : 10\n",
      "순서인수 b : 20\n",
      "튜플인수 c : (1, 2, 3, '딴거')\n",
      "키워드인수(기본값을 갖는 인수, 호출시 매개변수명 반드시 명시) d : 기본값\n",
      "딕셔너리인수 e : {'fontsize': 12, 'fontfamily': 'consola'}\n"
     ]
    }
   ],
   "source": [
    "func7(10, 20, 1, 2, 3, '딴거', fontsize=12, fontfamily='consola')"
   ]
  },
  {
   "cell_type": "markdown",
   "id": "baabd804",
   "metadata": {},
   "source": [
    "## 3.6 인수의 언패킹\n",
    "### 튜플인수 언패킹 \n",
    "- 언패킹 : 함수 호출시 매개변수앞에 * 붙임\n",
    "- 패킹 : 함수 정의시 매개변수 앞에 * 붙임(튜플매개변수)"
   ]
  },
  {
   "cell_type": "code",
   "execution_count": 110,
   "id": "42884756",
   "metadata": {},
   "outputs": [],
   "source": [
    "def add(*args):\n",
    "    print(args)\n",
    "    tot = 0\n",
    "    for num in args:\n",
    "        tot += num\n",
    "    return tot"
   ]
  },
  {
   "cell_type": "code",
   "execution_count": 111,
   "id": "c9970f60",
   "metadata": {},
   "outputs": [
    {
     "name": "stdout",
     "output_type": "stream",
     "text": [
      "(1, 2, 3, 4)\n"
     ]
    },
    {
     "data": {
      "text/plain": [
       "10"
      ]
     },
     "execution_count": 111,
     "metadata": {},
     "output_type": "execute_result"
    }
   ],
   "source": [
    "add(1, 2, 3, 4)"
   ]
  },
  {
   "cell_type": "code",
   "execution_count": 114,
   "id": "cb7bd635",
   "metadata": {},
   "outputs": [
    {
     "name": "stdout",
     "output_type": "stream",
     "text": [
      "(1, 2, 3, 4)\n"
     ]
    },
    {
     "data": {
      "text/plain": [
       "10"
      ]
     },
     "execution_count": 114,
     "metadata": {},
     "output_type": "execute_result"
    }
   ],
   "source": [
    "numbers = [1, 2, 3, 4]\n",
    "add(*numbers) # 언패킹"
   ]
  },
  {
   "cell_type": "code",
   "execution_count": 115,
   "id": "f4072ec1",
   "metadata": {},
   "outputs": [
    {
     "name": "stdout",
     "output_type": "stream",
     "text": [
      "(1, 2, 3, 4)\n"
     ]
    },
    {
     "data": {
      "text/plain": [
       "10"
      ]
     },
     "execution_count": 115,
     "metadata": {},
     "output_type": "execute_result"
    }
   ],
   "source": [
    "numbers = (1,2,3,4)\n",
    "add(*numbers) #언패킹"
   ]
  },
  {
   "cell_type": "markdown",
   "id": "e194a1da",
   "metadata": {},
   "source": [
    "### 딕셔너리인수 언패킹\n",
    "- 딕셔너리 언패킹 : 함수 호출시 매개변수 앞에 ** 붙임\n",
    "- 딕셔너리 패킹 : 함수 정의시 매개변수 앞에 ** 붙임"
   ]
  },
  {
   "cell_type": "code",
   "execution_count": 131,
   "id": "2a3a9189",
   "metadata": {},
   "outputs": [],
   "source": [
    "def func5(**data):\n",
    "    print(type(data))\n",
    "    for key, item in data.items():\n",
    "        print(f'{key}:{item}')       "
   ]
  },
  {
   "cell_type": "code",
   "execution_count": 132,
   "id": "48aadccd",
   "metadata": {},
   "outputs": [
    {
     "name": "stdout",
     "output_type": "stream",
     "text": [
      "<class 'dict'>\n",
      "name:홍길동\n",
      "age:30\n",
      "address:신림\n"
     ]
    }
   ],
   "source": [
    "func5(name='홍길동', age=30, address='신림')"
   ]
  },
  {
   "cell_type": "code",
   "execution_count": 136,
   "id": "1e38b324",
   "metadata": {},
   "outputs": [
    {
     "name": "stdout",
     "output_type": "stream",
     "text": [
      "<class 'dict'>\n",
      "name:홍길동\n",
      "age:30\n",
      "address:서울시 강남구\n",
      "score:900\n"
     ]
    }
   ],
   "source": [
    "customInfo = {'name':'홍길동', 'age':30, 'address':'서울시 강남구', 'score':900}\n",
    "func5(**customInfo)"
   ]
  },
  {
   "cell_type": "markdown",
   "id": "817cb281",
   "metadata": {},
   "source": [
    "# 4절. 람다식\n",
    "- return 한줄짜리 작은 익명함수\n",
    "## 4.1 람다식 연습"
   ]
  },
  {
   "cell_type": "code",
   "execution_count": 137,
   "id": "afdbf0da",
   "metadata": {},
   "outputs": [
    {
     "data": {
      "text/plain": [
       "7"
      ]
     },
     "execution_count": 137,
     "metadata": {},
     "output_type": "execute_result"
    }
   ],
   "source": [
    "def add(a, b):\n",
    "    return a+b\n",
    "add(3, 4)"
   ]
  },
  {
   "cell_type": "code",
   "execution_count": 138,
   "id": "4b5cb691",
   "metadata": {},
   "outputs": [
    {
     "data": {
      "text/plain": [
       "7"
      ]
     },
     "execution_count": 138,
     "metadata": {},
     "output_type": "execute_result"
    }
   ],
   "source": [
    "add2 = lambda a, b : a+b\n",
    "add2(3, 4)"
   ]
  },
  {
   "cell_type": "code",
   "execution_count": 139,
   "id": "ba7d356b",
   "metadata": {},
   "outputs": [
    {
     "data": {
      "text/plain": [
       "(function, function)"
      ]
     },
     "execution_count": 139,
     "metadata": {},
     "output_type": "execute_result"
    }
   ],
   "source": [
    "type(add), type(add2)"
   ]
  },
  {
   "cell_type": "code",
   "execution_count": 140,
   "id": "88f9b7e0",
   "metadata": {},
   "outputs": [
    {
     "data": {
      "text/plain": [
       "7"
      ]
     },
     "execution_count": 140,
     "metadata": {},
     "output_type": "execute_result"
    }
   ],
   "source": [
    "(lambda a, b : a+b)(3, 4)"
   ]
  },
  {
   "cell_type": "code",
   "execution_count": 141,
   "id": "bfe2a8bc",
   "metadata": {},
   "outputs": [
    {
     "data": {
      "text/plain": [
       "('짝수', '홀수')"
      ]
     },
     "execution_count": 141,
     "metadata": {},
     "output_type": "execute_result"
    }
   ],
   "source": [
    "# ex1. 매개변수로 들어온 값이 짝수인지 홀수인지 return\n",
    "def ex1(num):\n",
    "#     if num%2:\n",
    "#         result = \"홀수\"\n",
    "#     else:\n",
    "#         result = \"짝수\"\n",
    "    return \"홀수\" if num%2 else \"짝수\"\n",
    "ex1 = lambda num : \"홀수\" if num%2 else \"짝수\"\n",
    "ex1(10), ex1(-9)"
   ]
  },
  {
   "cell_type": "code",
   "execution_count": 142,
   "id": "974b92fc",
   "metadata": {},
   "outputs": [
    {
     "data": {
      "text/plain": [
       "(1, 10)"
      ]
     },
     "execution_count": 142,
     "metadata": {},
     "output_type": "execute_result"
    }
   ],
   "source": [
    "# ex2. 두 매개변수의 차이를 return\n",
    "def diff(a, b):\n",
    "#     if a>b:\n",
    "#         result = a-b\n",
    "#     else:\n",
    "#         result = b-a\n",
    "    result = a-b if a>b else b-a\n",
    "    return result\n",
    "diff(2, 1), diff(10, 20)"
   ]
  },
  {
   "cell_type": "code",
   "execution_count": 144,
   "id": "22ae0207",
   "metadata": {},
   "outputs": [
    {
     "name": "stdout",
     "output_type": "stream",
     "text": [
      "1 10\n",
      "<class 'function'> <class 'function'>\n"
     ]
    }
   ],
   "source": [
    "ex2 = lambda a, b : a-b if a>b else b-a\n",
    "print(ex2(2, 1), ex2(10,20))\n",
    "print(type(diff), type(ex2))"
   ]
  },
  {
   "cell_type": "code",
   "execution_count": 145,
   "id": "6e666935",
   "metadata": {},
   "outputs": [
    {
     "data": {
      "text/plain": [
       "(1000, 'negative')"
      ]
     },
     "execution_count": 145,
     "metadata": {},
     "output_type": "execute_result"
    }
   ],
   "source": [
    "# ex3. 매개변수로 잔액을 받아 양수면 잔액을 return, 음수면 'negative'를 return\n",
    "ex3 = lambda money : money if money>0 else 'negative'\n",
    "ex3(1000), ex3(-100)"
   ]
  },
  {
   "cell_type": "code",
   "execution_count": 148,
   "id": "84ccd4f1",
   "metadata": {},
   "outputs": [
    {
     "data": {
      "text/plain": [
       "('유효하지 않음', 'A팀', 'B팀', '재시험')"
      ]
     },
     "execution_count": 148,
     "metadata": {},
     "output_type": "execute_result"
    }
   ],
   "source": [
    "# ex4. 점수를 입력받아 점수가 100이하80점이상은 A팀, 60점이상은 B팀, 60점미만은 재시험. \n",
    "#      그외는 유효하지 않음\n",
    "ex4 = lambda score : \"A팀\" if 80<=score<=100 else \\\n",
    "                    \"B팀\" if 60<=score<80 else \\\n",
    "                    \"재시험\" if 0<=score<60 else \\\n",
    "                    \"유효하지 않음\"\n",
    "ex4(120), ex4(90), ex4(70), ex4(50)"
   ]
  },
  {
   "cell_type": "code",
   "execution_count": null,
   "id": "58af304a",
   "metadata": {},
   "outputs": [],
   "source": [
    "# ex5. safe_index를 람다식으로 \n",
    "def safe_index(vector, data):\n",
    "    if data in vector: # lst안에 data 있는지 여부\n",
    "        return vector.index(data)\n",
    "    else:\n",
    "        return -1"
   ]
  },
  {
   "cell_type": "code",
   "execution_count": 149,
   "id": "afa351c0",
   "metadata": {},
   "outputs": [
    {
     "data": {
      "text/plain": [
       "(-1, 1)"
      ]
     },
     "execution_count": 149,
     "metadata": {},
     "output_type": "execute_result"
    }
   ],
   "source": [
    "ex5 = lambda vector, data : vector.index(data) if data in vector else -1\n",
    "tup = (1, 2, 3)\n",
    "ex5(tup, 4), ex5(tup, 2)"
   ]
  },
  {
   "cell_type": "markdown",
   "id": "64644c14",
   "metadata": {},
   "source": [
    "## 4.2 함수의 매개변수에 람다식 이용\n",
    "### (1) map"
   ]
  },
  {
   "cell_type": "code",
   "execution_count": 2,
   "id": "29ebd985",
   "metadata": {},
   "outputs": [],
   "source": [
    "def map_template(func, L=[]):\n",
    "    'L의 모든 요소를 func()함수를 적용시켜 return'\n",
    "    result = []\n",
    "    for l in L:\n",
    "        result.append(func(l))\n",
    "    return result\n",
    "#     return [func(l) for l in L]    "
   ]
  },
  {
   "cell_type": "code",
   "execution_count": 4,
   "id": "c816445f",
   "metadata": {},
   "outputs": [
    {
     "data": {
      "text/plain": [
       "[2, 4, 6, 8, 10, 12, 14, 16, 18, 20]"
      ]
     },
     "execution_count": 4,
     "metadata": {},
     "output_type": "execute_result"
    }
   ],
   "source": [
    "# 리스트 데이터를 가공 방법 1. map_template\n",
    "list_data = [1, 2, 3, 4, 5, 6, 7, 8, 9, 10]\n",
    "map_template(lambda x : x*2, list_data)\n",
    "# def x_2(x):\n",
    "#     return x*2\n",
    "# map_template(x_2, list_data)"
   ]
  },
  {
   "cell_type": "code",
   "execution_count": 6,
   "id": "5274c3a6",
   "metadata": {},
   "outputs": [
    {
     "data": {
      "text/plain": [
       "[2, 4, 6, 8, 10, 12, 14, 16, 18, 20]"
      ]
     },
     "execution_count": 6,
     "metadata": {},
     "output_type": "execute_result"
    }
   ],
   "source": [
    "# 리스트 데이터를 가공 방법 2. 리스트 컴프리헨션\n",
    "[l*2 for l in list_data]"
   ]
  },
  {
   "cell_type": "code",
   "execution_count": 8,
   "id": "0b25db60",
   "metadata": {},
   "outputs": [
    {
     "data": {
      "text/plain": [
       "[2, 4, 6, 8, 10, 12, 14, 16, 18, 20]"
      ]
     },
     "execution_count": 8,
     "metadata": {},
     "output_type": "execute_result"
    }
   ],
   "source": [
    "# 리스트 데이터를 가공 방법 3. map():파이썬 내장함수\n",
    "list(map(lambda x : x*2, list_data))"
   ]
  },
  {
   "cell_type": "code",
   "execution_count": 9,
   "id": "5f4a75e0",
   "metadata": {},
   "outputs": [
    {
     "name": "stdout",
     "output_type": "stream",
     "text": [
      "2 4 6 8 10 12 14 16 18 20 "
     ]
    }
   ],
   "source": [
    "for item in map(lambda x : x*2, list_data):\n",
    "    print(item, end=' ')"
   ]
  },
  {
   "cell_type": "code",
   "execution_count": 16,
   "id": "d2114d74",
   "metadata": {},
   "outputs": [],
   "source": [
    "'''\n",
    "예1. [5000,800,1000,6000]로 바꾸시오\n",
    "'''\n",
    "prices = ['5,000', '800', '1000', '6,000']"
   ]
  },
  {
   "cell_type": "code",
   "execution_count": 14,
   "id": "021b12c0",
   "metadata": {},
   "outputs": [
    {
     "data": {
      "text/plain": [
       "(5000, 1800)"
      ]
     },
     "execution_count": 14,
     "metadata": {},
     "output_type": "execute_result"
    }
   ],
   "source": [
    "def func(x):\n",
    "    return int(x.replace(',',''))\n",
    "func(\"5,000\"), func(\"1800\")"
   ]
  },
  {
   "cell_type": "code",
   "execution_count": 17,
   "id": "7696507c",
   "metadata": {},
   "outputs": [
    {
     "data": {
      "text/plain": [
       "[5000, 800, 1000, 6000]"
      ]
     },
     "execution_count": 17,
     "metadata": {},
     "output_type": "execute_result"
    }
   ],
   "source": [
    "list(map(lambda x : int(x.replace(',','')), prices))"
   ]
  },
  {
   "cell_type": "code",
   "execution_count": null,
   "id": "48a235bb",
   "metadata": {},
   "outputs": [],
   "source": []
  },
  {
   "cell_type": "code",
   "execution_count": null,
   "id": "373d2494",
   "metadata": {},
   "outputs": [],
   "source": [
    "'''\n",
    "예2. member1 = [{'name':'홍길동', 'birth':'2000-01-01'},\n",
    "                {'name':'신길동', 'birth':'1998-12-31'},]를\n",
    "    member2 =  [{'name':'홍길동', 'year':2000, 'month':1, 'day':1},\n",
    "                {'name':'신길동', 'year':1998, 'month':12, 'day':31},]를 바꿉니다\n",
    "'''\n",
    "member1 = [{'name':'홍길동', 'birth':'2000-01-01'},\n",
    "           {'name':'신길동', 'birth':'1998-12-31'},]"
   ]
  },
  {
   "cell_type": "code",
   "execution_count": 29,
   "id": "6b3c41fe",
   "metadata": {},
   "outputs": [],
   "source": [
    "# '2000-01-01' => {'year':1998, 'month':12, 'day':31}\n",
    "def split_date(date):\n",
    "    split_data = date.split('-')\n",
    "#     print(split_data[0], split_data[1], split_data[2])\n",
    "    return {'year': int(split_data[0]),\n",
    "           'month': int(split_data[1]),\n",
    "           'day'  : int(split_data[2])\n",
    "           }"
   ]
  },
  {
   "cell_type": "code",
   "execution_count": 30,
   "id": "25c0d6b6",
   "metadata": {},
   "outputs": [
    {
     "data": {
      "text/plain": [
       "{'year': 2000, 'month': 1, 'day': 1}"
      ]
     },
     "execution_count": 30,
     "metadata": {},
     "output_type": "execute_result"
    }
   ],
   "source": [
    "split_date(\"2000-01-01\")"
   ]
  },
  {
   "cell_type": "code",
   "execution_count": null,
   "id": "16197bd9",
   "metadata": {},
   "outputs": [],
   "source": []
  },
  {
   "cell_type": "code",
   "execution_count": null,
   "id": "cedf6ef9",
   "metadata": {},
   "outputs": [],
   "source": [
    "'예3. member2를 member1로 바꿉니다'"
   ]
  },
  {
   "cell_type": "code",
   "execution_count": null,
   "id": "9e0206ef",
   "metadata": {},
   "outputs": [],
   "source": []
  },
  {
   "cell_type": "code",
   "execution_count": null,
   "id": "d32431b6",
   "metadata": {},
   "outputs": [],
   "source": []
  },
  {
   "cell_type": "code",
   "execution_count": null,
   "id": "ebc1118f",
   "metadata": {},
   "outputs": [],
   "source": []
  },
  {
   "cell_type": "code",
   "execution_count": null,
   "id": "519ebbf3",
   "metadata": {},
   "outputs": [],
   "source": []
  },
  {
   "cell_type": "code",
   "execution_count": null,
   "id": "86b8fdfd",
   "metadata": {},
   "outputs": [],
   "source": []
  },
  {
   "cell_type": "code",
   "execution_count": null,
   "id": "77b42230",
   "metadata": {},
   "outputs": [],
   "source": []
  },
  {
   "cell_type": "code",
   "execution_count": null,
   "id": "3e326100",
   "metadata": {},
   "outputs": [],
   "source": []
  },
  {
   "cell_type": "code",
   "execution_count": null,
   "id": "91ca1894",
   "metadata": {},
   "outputs": [],
   "source": []
  },
  {
   "cell_type": "code",
   "execution_count": null,
   "id": "3fb2dffd",
   "metadata": {},
   "outputs": [],
   "source": []
  },
  {
   "cell_type": "code",
   "execution_count": null,
   "id": "72fbf6bf",
   "metadata": {},
   "outputs": [],
   "source": []
  }
 ],
 "metadata": {
  "kernelspec": {
   "display_name": "Python 3 (ipykernel)",
   "language": "python",
   "name": "python3"
  },
  "language_info": {
   "codemirror_mode": {
    "name": "ipython",
    "version": 3
   },
   "file_extension": ".py",
   "mimetype": "text/x-python",
   "name": "python",
   "nbconvert_exporter": "python",
   "pygments_lexer": "ipython3",
   "version": "3.10.9"
  },
  "toc": {
   "base_numbering": 1,
   "nav_menu": {},
   "number_sections": false,
   "sideBar": true,
   "skip_h1_title": false,
   "title_cell": "Table of Contents",
   "title_sidebar": "Contents",
   "toc_cell": false,
   "toc_position": {
    "height": "calc(100% - 180px)",
    "left": "10px",
    "top": "150px",
    "width": "165px"
   },
   "toc_section_display": true,
   "toc_window_display": true
  }
 },
 "nbformat": 4,
 "nbformat_minor": 5
}
