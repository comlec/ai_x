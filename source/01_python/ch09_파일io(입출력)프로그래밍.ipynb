{
 "cells": [
  {
   "cell_type": "code",
   "execution_count": 1,
   "id": "dd096c3f",
   "metadata": {},
   "outputs": [
    {
     "data": {
      "text/html": [
       "\n",
       "<style>\n",
       "div.container{width:90% !important;}\n",
       "div.cell.code_cell.rendered{width:100%;}\n",
       "div.input_prompt{padding:0px;}\n",
       "div.CodeMirror {font-family:Consolas; font-size:25pt;}\n",
       "div.text_cell_render.rendered_html{font-size:18pt;}\n",
       "div.output {font-size:24pt; font-weight:bold;}\n",
       "div.input {font-family:Consolas; font-size:12pt;}\n",
       "div.prompt {min-width:70px;}\n",
       "div#toc-wrapper{padding-top:120px;}\n",
       "div.text_cell_render ul li{font-size:21pt;padding:5px;}\n",
       "table.dataframe{font-size:24px;}\n",
       "</style>\n"
      ],
      "text/plain": [
       "<IPython.core.display.HTML object>"
      ]
     },
     "metadata": {},
     "output_type": "display_data"
    }
   ],
   "source": [
    "from IPython.display import display, HTML\n",
    "display(HTML(\"\"\"\n",
    "<style>\n",
    "div.container{width:90% !important;}\n",
    "div.cell.code_cell.rendered{width:100%;}\n",
    "div.input_prompt{padding:0px;}\n",
    "div.CodeMirror {font-family:Consolas; font-size:25pt;}\n",
    "div.text_cell_render.rendered_html{font-size:18pt;}\n",
    "div.output {font-size:24pt; font-weight:bold;}\n",
    "div.input {font-family:Consolas; font-size:12pt;}\n",
    "div.prompt {min-width:70px;}\n",
    "div#toc-wrapper{padding-top:120px;}\n",
    "div.text_cell_render ul li{font-size:21pt;padding:5px;}\n",
    "table.dataframe{font-size:24px;}\n",
    "</style>\n",
    "\"\"\"))"
   ]
  },
  {
   "cell_type": "markdown",
   "id": "8e0b2d6e",
   "metadata": {},
   "source": [
    "<b><font color=\"red\" size=\"6\">ch09. 파일 io(입출력) 프로그래밍</font></b>\n",
    "파일 : txt, pickle, csv, json, hdf5(h5)\n",
    "\n",
    "# 1절. txt파일에 데이터 저장하고 불러오기"
   ]
  },
  {
   "cell_type": "code",
   "execution_count": 5,
   "id": "a54ef55c",
   "metadata": {},
   "outputs": [
    {
     "name": "stdout",
     "output_type": "stream",
     "text": [
      "쓰기 가능한지 여부 : True\n"
     ]
    }
   ],
   "source": [
    "f = open('data/ch09.txt', 'w')\n",
    "print('쓰기 가능한지 여부 :', f.writable())"
   ]
  },
  {
   "cell_type": "code",
   "execution_count": 6,
   "id": "5d046f33",
   "metadata": {},
   "outputs": [],
   "source": [
    "f.write('Hello\\nWorld')\n",
    "f.close() # close() 쓰기한 내용이 저장이 X"
   ]
  },
  {
   "cell_type": "code",
   "execution_count": 8,
   "id": "87eafedd",
   "metadata": {},
   "outputs": [
    {
     "name": "stdout",
     "output_type": "stream",
     "text": [
      "쓰기 가능한지 여부 : True\n"
     ]
    }
   ],
   "source": [
    "# mode : 'r' 또는 'rt' : text읽기 모드\n",
    "      #  'rb' : 바이너리읽기 모드\n",
    "      #  'w' 또는 'wt' : text쓰기 모드 (파일이 있으면 덮어씀, 파일이 없으면 파일 생성)\n",
    "      #  'wb' : 바이너리쓰기 모드\n",
    "      #  'a' 또는 'at' : text 추가 모드(파일이 있으면 append, 파일이 없으면 파일 생성)\n",
    "      # 읽기모드에서는 파일이 없으면 예외/쓰기모드에서는 폴더가 없으면 예외\n",
    "# encoding \n",
    "     # euc-kr (한글완성형) 믜x\n",
    "     # cp949 (확장된 한글완성형) : open()함수 기본 encoding방식(win)\n",
    "     # utf-8 (한글조합형): open()함수 기본 encoding방식(mac, linux), 주피터노트북 기본\n",
    "with open('data/ch09.txt', 'w') as f:\n",
    "    print('쓰기 가능한지 여부 :', f.writable())\n",
    "    f.write('Hello\\nPython')"
   ]
  },
  {
   "cell_type": "code",
   "execution_count": 20,
   "id": "85937b47",
   "metadata": {},
   "outputs": [],
   "source": [
    "with open('data/ch09.txt', 'w') as f:\n",
    "    # 1방법\n",
    "    f.write('홍길동, 33, 아무동9\\n')\n",
    "    f.write('김길동, 33, 아무동9\\n')\n",
    "    # 2방법\n",
    "    textlist = ['홍길동, 33, 아무동9\\n', '김길동, 33, 아무동9\\n']\n",
    "    for line in textlist:\n",
    "        f.write(line)\n",
    "    # 3방법\n",
    "    f.writelines(textlist)"
   ]
  },
  {
   "cell_type": "code",
   "execution_count": 21,
   "id": "e9071301",
   "metadata": {},
   "outputs": [
    {
     "name": "stdout",
     "output_type": "stream",
     "text": [
      "홍길동, 33, 아무동9\n",
      "김길동, 33, 아무동9\n",
      "홍길동, 33, 아무동9\n",
      "김길동, 33, 아무동9\n",
      "홍길동, 33, 아무동9\n",
      "김길동, 33, 아무동9\n"
     ]
    }
   ],
   "source": [
    "# 한줄씩 읽기\n",
    "with open('data/ch09.txt', 'r') as f:\n",
    "    line = f.readline()\n",
    "    while line!='':\n",
    "        print(line, end='')\n",
    "        line = f.readline()"
   ]
  },
  {
   "cell_type": "code",
   "execution_count": 16,
   "id": "b4d40382",
   "metadata": {},
   "outputs": [
    {
     "name": "stdout",
     "output_type": "stream",
     "text": [
      "['홍길동, 33, 아무동9\\n', '김길동, 33, 아무동9\\n', '홍길동, 33, 아무동9\\n', '김길동, 33, 아무동9\\n', '홍길동, 33, 아무동9\\n', '김길동, 33, 아무동9\\n']\n"
     ]
    }
   ],
   "source": [
    "# 모든 줄을 읽기\n",
    "with open('data/ch09.txt', 'r') as f:\n",
    "    lines = f.readlines()\n",
    "    print(lines)"
   ]
  },
  {
   "cell_type": "code",
   "execution_count": 22,
   "id": "738b82c6",
   "metadata": {},
   "outputs": [
    {
     "data": {
      "text/plain": [
       "'홍길동, 33, 아무동9\\n김길동, 33, 아무동9\\n홍길동, 33, 아무동9\\n김길동, 33, 아무동9\\n홍길동, 33, 아무동9\\n김길동, 33, 아무동9\\n'"
      ]
     },
     "execution_count": 22,
     "metadata": {},
     "output_type": "execute_result"
    }
   ],
   "source": [
    "# 모두 읽기\n",
    "with open('data/ch09.txt', 'r') as f:\n",
    "    lines = f.read()\n",
    "lines"
   ]
  },
  {
   "cell_type": "markdown",
   "id": "17f9c8d0",
   "metadata": {},
   "source": [
    "# 2절. 피클을 이용한 객체 저장 및 불러오기\n",
    "# 2.1 형식이 있는 txt 데이터 불러오기"
   ]
  },
  {
   "cell_type": "code",
   "execution_count": null,
   "id": "be52efa7",
   "metadata": {},
   "outputs": [],
   "source": [
    "class Member:\n",
    "    def __init__(self, name, age, email, address):\n",
    "        self.name = name\n",
    "        self.age  = age\n",
    "        self.email= email\n",
    "        self.address = address\n",
    "    def __str__(self):\n",
    "        return \"{}, {}, {}, {}\".format(self.name,\n",
    "                                      \"성년\" if self.age>18 else \"미성년\",\n",
    "                                      self.email,\n",
    "                                      self.address)\n",
    "    def as_dict(self):\n",
    "        return {\n",
    "            'name':self.name,\n",
    "            'age':self.age,\n",
    "            'email':self.email,\n",
    "            'address':self.address\n",
    "               }"
   ]
  },
  {
   "cell_type": "code",
   "execution_count": null,
   "id": "17b8f3a3",
   "metadata": {},
   "outputs": [],
   "source": []
  },
  {
   "cell_type": "code",
   "execution_count": null,
   "id": "f8204574",
   "metadata": {},
   "outputs": [],
   "source": []
  },
  {
   "cell_type": "code",
   "execution_count": null,
   "id": "7c007ca3",
   "metadata": {},
   "outputs": [],
   "source": []
  },
  {
   "cell_type": "code",
   "execution_count": null,
   "id": "ee2c580d",
   "metadata": {},
   "outputs": [],
   "source": []
  },
  {
   "cell_type": "code",
   "execution_count": null,
   "id": "3360f521",
   "metadata": {},
   "outputs": [],
   "source": []
  },
  {
   "cell_type": "code",
   "execution_count": null,
   "id": "13edc115",
   "metadata": {},
   "outputs": [],
   "source": []
  },
  {
   "cell_type": "code",
   "execution_count": null,
   "id": "8047c308",
   "metadata": {},
   "outputs": [],
   "source": []
  },
  {
   "cell_type": "code",
   "execution_count": null,
   "id": "fbcf1f63",
   "metadata": {},
   "outputs": [],
   "source": []
  },
  {
   "cell_type": "code",
   "execution_count": null,
   "id": "454d5a1d",
   "metadata": {},
   "outputs": [],
   "source": []
  },
  {
   "cell_type": "code",
   "execution_count": null,
   "id": "6ac2b46a",
   "metadata": {},
   "outputs": [],
   "source": []
  },
  {
   "cell_type": "code",
   "execution_count": null,
   "id": "53ccd79a",
   "metadata": {},
   "outputs": [],
   "source": []
  },
  {
   "cell_type": "code",
   "execution_count": null,
   "id": "74520f58",
   "metadata": {},
   "outputs": [],
   "source": []
  }
 ],
 "metadata": {
  "kernelspec": {
   "display_name": "Python 3 (ipykernel)",
   "language": "python",
   "name": "python3"
  },
  "language_info": {
   "codemirror_mode": {
    "name": "ipython",
    "version": 3
   },
   "file_extension": ".py",
   "mimetype": "text/x-python",
   "name": "python",
   "nbconvert_exporter": "python",
   "pygments_lexer": "ipython3",
   "version": "3.10.9"
  },
  "toc": {
   "base_numbering": 1,
   "nav_menu": {},
   "number_sections": false,
   "sideBar": true,
   "skip_h1_title": false,
   "title_cell": "Table of Contents",
   "title_sidebar": "Contents",
   "toc_cell": false,
   "toc_position": {
    "height": "calc(100% - 180px)",
    "left": "10px",
    "top": "150px",
    "width": "165px"
   },
   "toc_section_display": true,
   "toc_window_display": true
  }
 },
 "nbformat": 4,
 "nbformat_minor": 5
}
