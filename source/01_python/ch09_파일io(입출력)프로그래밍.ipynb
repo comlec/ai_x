{
 "cells": [
  {
   "cell_type": "code",
   "execution_count": 1,
   "id": "f06cc377",
   "metadata": {},
   "outputs": [
    {
     "data": {
      "text/html": [
       "\n",
       "<style>\n",
       "div.container{width:90% !important;}\n",
       "div.cell.code_cell.rendered{width:100%;}\n",
       "div.input_prompt{padding:0px;}\n",
       "div.CodeMirror {font-family:Consolas; font-size:25pt;}\n",
       "div.text_cell_render.rendered_html{font-size:18pt;}\n",
       "div.output {font-size:24pt; font-weight:bold;}\n",
       "div.input {font-family:Consolas; font-size:12pt;}\n",
       "div.prompt {min-width:70px;}\n",
       "div#toc-wrapper{padding-top:120px;}\n",
       "div.text_cell_render ul li{font-size:21pt;padding:5px;}\n",
       "table.dataframe{font-size:24px;}\n",
       "</style>\n"
      ],
      "text/plain": [
       "<IPython.core.display.HTML object>"
      ]
     },
     "metadata": {},
     "output_type": "display_data"
    }
   ],
   "source": [
    "from IPython.display import display, HTML\n",
    "display(HTML(\"\"\"\n",
    "<style>\n",
    "div.container{width:90% !important;}\n",
    "div.cell.code_cell.rendered{width:100%;}\n",
    "div.input_prompt{padding:0px;}\n",
    "div.CodeMirror {font-family:Consolas; font-size:25pt;}\n",
    "div.text_cell_render.rendered_html{font-size:18pt;}\n",
    "div.output {font-size:24pt; font-weight:bold;}\n",
    "div.input {font-family:Consolas; font-size:12pt;}\n",
    "div.prompt {min-width:70px;}\n",
    "div#toc-wrapper{padding-top:120px;}\n",
    "div.text_cell_render ul li{font-size:21pt;padding:5px;}\n",
    "table.dataframe{font-size:24px;}\n",
    "</style>\n",
    "\"\"\"))"
   ]
  },
  {
   "cell_type": "markdown",
   "id": "92e12a5c",
   "metadata": {},
   "source": [
    "<b><font color=\"red\" size=\"6\">ch09. 파일 io(입출력) 프로그래밍</font></b>\n",
    "파일 : txt, pickle, csv, json, hdf5(h5)\n",
    "\n",
    "# 1절. txt파일에 데이터 저장하고 불러오기"
   ]
  },
  {
   "cell_type": "code",
   "execution_count": 5,
   "id": "55a3f82a",
   "metadata": {},
   "outputs": [
    {
     "name": "stdout",
     "output_type": "stream",
     "text": [
      "쓰기 가능한지 여부 : True\n"
     ]
    }
   ],
   "source": [
    "f = open('data/ch09.txt', 'w')\n",
    "print('쓰기 가능한지 여부 :', f.writable())"
   ]
  },
  {
   "cell_type": "code",
   "execution_count": 6,
   "id": "99e1e3be",
   "metadata": {},
   "outputs": [],
   "source": [
    "f.write('Hello\\nWorld')\n",
    "f.close() # close() 쓰기한 내용이 저장이 X"
   ]
  },
  {
   "cell_type": "code",
   "execution_count": 8,
   "id": "140ae3d7",
   "metadata": {},
   "outputs": [
    {
     "name": "stdout",
     "output_type": "stream",
     "text": [
      "쓰기 가능한지 여부 : True\n"
     ]
    }
   ],
   "source": [
    "# mode : 'r' 또는 'rt' : text읽기 모드\n",
    "      #  'rb' : 바이너리읽기 모드\n",
    "      #  'w' 또는 'wt' : text쓰기 모드 (파일이 있으면 덮어씀, 파일이 없으면 파일 생성)\n",
    "      #  'wb' : 바이너리쓰기 모드\n",
    "      #  'a' 또는 'at' : text 추가 모드(파일이 있으면 append, 파일이 없으면 파일 생성)\n",
    "      # 읽기모드에서는 파일이 없으면 예외/쓰기모드에서는 폴더가 없으면 예외\n",
    "# encoding \n",
    "     # euc-kr (한글완성형) 믜x\n",
    "     # cp949 (확장된 한글완성형) : open()함수 기본 encoding방식(win)\n",
    "     # utf-8 (한글조합형): open()함수 기본 encoding방식(mac, linux), 주피터노트북 기본\n",
    "with open('data/ch09.txt', 'w') as f:\n",
    "    print('쓰기 가능한지 여부 :', f.writable())\n",
    "    f.write('Hello\\nPython')"
   ]
  },
  {
   "cell_type": "code",
   "execution_count": 20,
   "id": "2c3cd9f3",
   "metadata": {},
   "outputs": [],
   "source": [
    "with open('data/ch09.txt', 'w') as f:\n",
    "    # 1방법\n",
    "    f.write('홍길동, 33, 아무동9\\n')\n",
    "    f.write('김길동, 33, 아무동9\\n')\n",
    "    # 2방법\n",
    "    textlist = ['홍길동, 33, 아무동9\\n', '김길동, 33, 아무동9\\n']\n",
    "    for line in textlist:\n",
    "        f.write(line)\n",
    "    # 3방법\n",
    "    f.writelines(textlist)"
   ]
  },
  {
   "cell_type": "code",
   "execution_count": 21,
   "id": "a3b8390a",
   "metadata": {},
   "outputs": [
    {
     "name": "stdout",
     "output_type": "stream",
     "text": [
      "홍길동, 33, 아무동9\n",
      "김길동, 33, 아무동9\n",
      "홍길동, 33, 아무동9\n",
      "김길동, 33, 아무동9\n",
      "홍길동, 33, 아무동9\n",
      "김길동, 33, 아무동9\n"
     ]
    }
   ],
   "source": [
    "# 한줄씩 읽기\n",
    "with open('data/ch09.txt', 'r') as f:\n",
    "    line = f.readline()\n",
    "    while line!='':\n",
    "        print(line, end='')\n",
    "        line = f.readline()"
   ]
  },
  {
   "cell_type": "code",
   "execution_count": 16,
   "id": "e508448f",
   "metadata": {},
   "outputs": [
    {
     "name": "stdout",
     "output_type": "stream",
     "text": [
      "['홍길동, 33, 아무동9\\n', '김길동, 33, 아무동9\\n', '홍길동, 33, 아무동9\\n', '김길동, 33, 아무동9\\n', '홍길동, 33, 아무동9\\n', '김길동, 33, 아무동9\\n']\n"
     ]
    }
   ],
   "source": [
    "# 모든 줄을 읽기\n",
    "with open('data/ch09.txt', 'r') as f:\n",
    "    lines = f.readlines()\n",
    "    print(lines)"
   ]
  },
  {
   "cell_type": "code",
   "execution_count": 22,
   "id": "8b571151",
   "metadata": {},
   "outputs": [
    {
     "data": {
      "text/plain": [
       "'홍길동, 33, 아무동9\\n김길동, 33, 아무동9\\n홍길동, 33, 아무동9\\n김길동, 33, 아무동9\\n홍길동, 33, 아무동9\\n김길동, 33, 아무동9\\n'"
      ]
     },
     "execution_count": 22,
     "metadata": {},
     "output_type": "execute_result"
    }
   ],
   "source": [
    "# 모두 읽기\n",
    "with open('data/ch09.txt', 'r') as f:\n",
    "    lines = f.read()\n",
    "lines"
   ]
  },
  {
   "cell_type": "markdown",
   "id": "fb15336d",
   "metadata": {},
   "source": [
    "# 2절. 피클을 이용한 객체 저장 및 불러오기\n",
    "## 2.1 형식이 있는 txt 데이터 불러오기"
   ]
  },
  {
   "cell_type": "code",
   "execution_count": 26,
   "id": "33a2d398",
   "metadata": {},
   "outputs": [],
   "source": [
    "class Member:\n",
    "    def __init__(self, name, age, email, address):\n",
    "        self.name = name\n",
    "        self.age  = age\n",
    "        self.email= email\n",
    "        self.address = address\n",
    "    def __str__(self):\n",
    "        return \"{}, {}, {}, {}\".format(self.name,\n",
    "                                      \"성년\" if self.age>18 else \"미성년\",\n",
    "                                      self.email,\n",
    "                                      self.address)\n",
    "    def as_dict(self):\n",
    "        return {\n",
    "            'name':self.name,\n",
    "            'age':self.age,\n",
    "            'email':self.email,\n",
    "            'address':self.address\n",
    "               }\n",
    "    def __eq__(self, other):\n",
    "        return self.name == other.name and \\\n",
    "                self.age == other.age and \\\n",
    "                self.email == other.email and \\\n",
    "                self.address == other.address"
   ]
  },
  {
   "cell_type": "code",
   "execution_count": 27,
   "id": "db61360a",
   "metadata": {},
   "outputs": [
    {
     "name": "stdout",
     "output_type": "stream",
     "text": [
      "True\n",
      "True\n"
     ]
    }
   ],
   "source": [
    "user1 = Member('홍',20,'a@a.com','신림동')\n",
    "user2 = Member('홍',20,'a@a.com','신림동')\n",
    "print(user1==user2)\n",
    "print(user1.__eq__(user2)) # 같은 내용이면 True"
   ]
  },
  {
   "cell_type": "code",
   "execution_count": 40,
   "id": "419c8e11",
   "metadata": {},
   "outputs": [],
   "source": [
    "# 형식이 있는 txt 파일 내용을 member list(피클 저장), 딕셔너리 list(데이터프레임)로 저장\n",
    "user_list = [] # member list\n",
    "user_dict = [] # 딕셔니리 list\n",
    "with open('data/ch09_member.txt', 'r', encoding='utf-8') as txt_file:\n",
    "    lines = txt_file.readlines()\n",
    "# print(lines)\n",
    "for line in lines:\n",
    "    data = line.split(',')\n",
    "    # print(data)\n",
    "    name = data[0]\n",
    "    age = int(data[1].strip()) # strip() : 좌우 공백(space, \\t, \\n)제거\n",
    "    email = data[2].strip()\n",
    "    address = data[3].strip()\n",
    "    user = Member(name, age, email, address)\n",
    "    user_list.append(user)\n",
    "    user_dict.append(user.as_dict())\n",
    "    # user_dict.append(user.__dict__)"
   ]
  },
  {
   "cell_type": "code",
   "execution_count": 41,
   "id": "aa2d9aed",
   "metadata": {},
   "outputs": [
    {
     "data": {
      "text/plain": [
       "[{'name': '홍길동', 'age': 20, 'email': 'kildong@hong.com', 'address': '서울시 관악구'},\n",
       " {'name': '홍길숙',\n",
       "  'age': 25,\n",
       "  'email': 'kilsuk1@hong.com',\n",
       "  'address': '서울시 영등포구'},\n",
       " {'name': '신길동', 'age': 30, 'email': 'shinkil@hong.com', 'address': '서울시 동작구'}]"
      ]
     },
     "execution_count": 41,
     "metadata": {},
     "output_type": "execute_result"
    }
   ],
   "source": [
    "user_dict"
   ]
  },
  {
   "cell_type": "code",
   "execution_count": 36,
   "id": "f8937600",
   "metadata": {},
   "outputs": [
    {
     "name": "stdout",
     "output_type": "stream",
     "text": [
      "홍길동, 성년, kildong@hong.com, 서울시 관악구\n",
      "홍길숙, 성년, kilsuk1@hong.com, 서울시 영등포구\n",
      "신길동, 성년, shinkil@hong.com, 서울시 동작구\n"
     ]
    }
   ],
   "source": [
    "for user in user_list:\n",
    "    print(user)"
   ]
  },
  {
   "cell_type": "markdown",
   "id": "59e22bf4",
   "metadata": {},
   "source": [
    "## 2.2 피클링\n",
    "- 객체 리스트(user_list) -> 피클파일로 쓰기\n",
    "- 피클 파일을 읽기 -> 객체 리스트(load_user_list)"
   ]
  },
  {
   "cell_type": "code",
   "execution_count": 37,
   "id": "df262402",
   "metadata": {},
   "outputs": [],
   "source": [
    "# 피클링을 이용한 객체를 저장하기\n",
    "import pickle\n",
    "with open('data/ch09_member.data', 'wb') as f:\n",
    "    pickle.dump(user_list, f)"
   ]
  },
  {
   "cell_type": "code",
   "execution_count": 42,
   "id": "2a7e6552",
   "metadata": {},
   "outputs": [],
   "source": [
    "# 피클링을 이용한 파일에서 객체 데이터로 읽기\n",
    "with open('data/ch09_member.data', 'rb') as f:\n",
    "    load_user_list = pickle.load(f)"
   ]
  },
  {
   "cell_type": "code",
   "execution_count": 43,
   "id": "56041fdd",
   "metadata": {},
   "outputs": [
    {
     "data": {
      "text/plain": [
       "True"
      ]
     },
     "execution_count": 43,
     "metadata": {},
     "output_type": "execute_result"
    }
   ],
   "source": [
    "user_list == load_user_list"
   ]
  },
  {
   "cell_type": "code",
   "execution_count": 46,
   "id": "ccd16576",
   "metadata": {},
   "outputs": [
    {
     "name": "stdout",
     "output_type": "stream",
     "text": [
      "0 홍길동, 성년, kildong@hong.com, 서울시 관악구\n",
      "0 홍길동, 성년, kildong@hong.com, 서울시 관악구\n",
      "1 홍길숙, 성년, kilsuk1@hong.com, 서울시 영등포구\n",
      "1 홍길숙, 성년, kilsuk1@hong.com, 서울시 영등포구\n",
      "2 신길동, 성년, shinkil@hong.com, 서울시 동작구\n",
      "2 신길동, 성년, shinkil@hong.com, 서울시 동작구\n"
     ]
    }
   ],
   "source": [
    "for idx in range(len(user_list)):\n",
    "    print(idx, user[idx])\n",
    "    print(idx, load_user_list[idx])"
   ]
  },
  {
   "cell_type": "code",
   "execution_count": 50,
   "id": "76f348d4",
   "metadata": {},
   "outputs": [
    {
     "name": "stdout",
     "output_type": "stream",
     "text": [
      "True\n",
      "True\n",
      "True\n"
     ]
    }
   ],
   "source": [
    "for idx, (user, load_user) in enumerate(zip(user_list, load_user_list)):\n",
    "    print(idx, user)\n",
    "    print(idx, load_user)\n",
    "    print(user==load_user)"
   ]
  },
  {
   "cell_type": "code",
   "execution_count": 53,
   "id": "5cc5c3cb",
   "metadata": {},
   "outputs": [
    {
     "data": {
      "text/plain": [
       "True"
      ]
     },
     "execution_count": 53,
     "metadata": {},
     "output_type": "execute_result"
    }
   ],
   "source": [
    "result = []\n",
    "for user, load_user in zip(user_list, load_user_list):\n",
    "    result.append(user==load_user)\n",
    "all(result)"
   ]
  },
  {
   "cell_type": "markdown",
   "id": "0cc66bac",
   "metadata": {},
   "source": [
    "# 3절. CSV형식 파일 읽기/쓰기\n",
    "- CSV파일 <-> 리스트데이터   3.1/3.2\n",
    "- CSV파일 <-> 딕셔너리데이터 3.3/3.4"
   ]
  },
  {
   "cell_type": "markdown",
   "id": "f93c24f8",
   "metadata": {},
   "source": [
    "## 3.1 reader"
   ]
  },
  {
   "cell_type": "code",
   "execution_count": 56,
   "id": "264d0014",
   "metadata": {},
   "outputs": [
    {
     "name": "stdout",
     "output_type": "stream",
     "text": [
      "[['홍길동', '20', 'kildong@hong.com', '서울시 관악구'], ['김길동', '40', 'kimdong@hong.com', '서울시 영등포구'], ['신길동', '30', 'sindong@hong.com', '서울시 동작구']]\n"
     ]
    }
   ],
   "source": [
    "import csv\n",
    "with open('data/ch09_member1.csv', 'r', encoding='utf-8') as f:\n",
    "    reader = csv.reader(f)\n",
    "    result = list(reader)\n",
    "print(result)"
   ]
  },
  {
   "cell_type": "code",
   "execution_count": 57,
   "id": "64b2f252",
   "metadata": {},
   "outputs": [
    {
     "name": "stdout",
     "output_type": "stream",
     "text": [
      "[['홍길동', 20.0, 'kildong@hong.com', '서울시 관악구'], ['김길동', 40.0, 'kimdong@hong.com', '서울시 영등포구'], ['신길동', 30.0, 'sindong@hong.com', '서울시 동작구']]\n"
     ]
    }
   ],
   "source": [
    "# \"\"(따옴표)가 없는 데이터는 numeric으로 \n",
    "import csv\n",
    "with open('data/ch09_member1.csv', 'r', encoding='utf-8') as f:\n",
    "    reader = csv.reader(f, \n",
    "                       quoting=csv.QUOTE_NONNUMERIC)\n",
    "    result = list(reader)\n",
    "print(result)"
   ]
  },
  {
   "cell_type": "code",
   "execution_count": 4,
   "id": "7d051e21",
   "metadata": {},
   "outputs": [
    {
     "name": "stdout",
     "output_type": "stream",
     "text": [
      "[{'name': '홍길동', 'age': 20, 'email': 'kildong@hong.com', 'address': '서울시 관악구'}, {'name': '김길동', 'age': 40, 'email': 'kimdong@hong.com', 'address': '서울시 영등포구'}, {'name': '신길동', 'age': 30, 'email': 'sindong@hong.com', 'address': '서울시 동작구'}]\n"
     ]
    }
   ],
   "source": [
    "import csv\n",
    "with open('data/ch09_member1.csv', 'r', encoding='utf-8') as f:\n",
    "    reader = csv.reader(f, \n",
    "                       quoting=csv.QUOTE_NONNUMERIC)\n",
    "    result = list(reader)\n",
    "dict_list = []\n",
    "for data in result:\n",
    "    dict_list.append({\n",
    "        'name':data[0],\n",
    "        'age':int(data[1]),\n",
    "        'email':data[2],\n",
    "        'address':data[3]\n",
    "    })\n",
    "print(dict_list)"
   ]
  },
  {
   "cell_type": "markdown",
   "id": "25535aed",
   "metadata": {},
   "source": [
    "## 3.2 writer"
   ]
  },
  {
   "cell_type": "code",
   "execution_count": 10,
   "id": "b818e9f1",
   "metadata": {},
   "outputs": [],
   "source": [
    "user_list = [['홍길동', 20, 'kildong@hong.com', '서울시 관악구'], \n",
    "             ['김길동', 40, 'kimdong@hong.com', '서울시 영등포구']]"
   ]
  },
  {
   "cell_type": "code",
   "execution_count": 6,
   "id": "3f93c773",
   "metadata": {},
   "outputs": [],
   "source": [
    "with open('data/ch09_member1_write.csv', 'a', newline='', encoding='utf-8')  as f:\n",
    "    writer = csv.writer(f)\n",
    "    writer.writerows(user_list)"
   ]
  },
  {
   "cell_type": "code",
   "execution_count": 9,
   "id": "14c46250",
   "metadata": {},
   "outputs": [],
   "source": [
    "import csv\n",
    "with open('data/ch09_member1_write.csv', 'w', newline='', encoding='utf-8')  as f:\n",
    "    writer = csv.writer(f, quoting=csv.QUOTE_NONNUMERIC)\n",
    "    writer.writerows(user_list)"
   ]
  },
  {
   "cell_type": "markdown",
   "id": "5a2e950b",
   "metadata": {},
   "source": [
    "## 3.3 DictReader"
   ]
  },
  {
   "cell_type": "code",
   "execution_count": 15,
   "id": "705b71de",
   "metadata": {},
   "outputs": [
    {
     "name": "stdout",
     "output_type": "stream",
     "text": [
      "[{'name': '홍길동', 'age': '20', 'email': 'h@h.com', 'address': '서울시 관악구', 'job': None}, {'name': '신길동', 'age': '40', 'email': 's@h.com', 'address': '서울시 영등포구', 'job': '팀장'}, {'name': '김길동', 'age': '30', 'email': 'k@h.com', 'address': '서울시 동작구', 'job': None}]\n",
      "홍길동 20 h@h.com 서울시 관악구\n",
      "신길동 40 s@h.com 서울시 영등포구 팀장\n",
      "김길동 30 k@h.com 서울시 동작구\n"
     ]
    }
   ],
   "source": [
    "import csv\n",
    "with open('data/ch09_member3.csv', 'r', encoding='utf-8') as f:\n",
    "    dict_reader = csv.DictReader(f)\n",
    "    dict_list = list(dict_reader)\n",
    "print(dict_list)\n",
    "for row in dict_list:\n",
    "    if row['job'] is None:\n",
    "        print(row['name'], row['age'], row['email'], row['address'])\n",
    "    else:\n",
    "        print(row['name'], row['age'], row['email'], row['address'], row['job'])"
   ]
  },
  {
   "cell_type": "code",
   "execution_count": 24,
   "id": "708e073b",
   "metadata": {},
   "outputs": [
    {
     "name": "stdout",
     "output_type": "stream",
     "text": [
      "{'Name': '홍길동', 'Age': '20', 'Email': 'kildong@hong.com', 'Address': '서울시 관악구', 'Job': ''}\n",
      "{'Name': '김길동', 'Age': '40', 'Email': 'kimdong@hong.com', 'Address': '서울시 영등포구', 'Job': '팀장'}\n",
      "{'Name': '신길동', 'Age': '30', 'Email': 'sindong@hong.com', 'Address': '서울시 동작구', 'Job': ''}\n"
     ]
    }
   ],
   "source": [
    "# header가 없는 csv파일(ch09_member1-cp.csv)을 딕셔너리로 읽기\n",
    "with open('data/ch09_member1-cp.csv', encoding='cp949') as f:\n",
    "    dict_reader = csv.DictReader(f, \n",
    "                          fieldnames=['Name','Age','Email','Address','Job'])\n",
    "    result = list(dict_reader)\n",
    "for row in result:\n",
    "    print(row)"
   ]
  },
  {
   "cell_type": "code",
   "execution_count": 28,
   "id": "021f7c00",
   "metadata": {},
   "outputs": [
    {
     "name": "stdout",
     "output_type": "stream",
     "text": [
      "{'Name': '홍길동', 'Age': '20', 'Email': 'kildong@hong.com', 'Address': '서울시 관악구', 'Job': ['']}\n",
      "{'Name': '김길동', 'Age': '40', 'Email': 'kimdong@hong.com', 'Address': '서울시 영등포구', 'Job': ['팀장']}\n",
      "{'Name': '신길동', 'Age': '30', 'Email': 'sindong@hong.com', 'Address': '서울시 동작구', 'Job': ['']}\n"
     ]
    }
   ],
   "source": [
    "# header가 없는 csv파일(ch09_member1-cp.csv)을 딕셔너리로 읽기\n",
    "with open('data/ch09_member1-cp.csv', encoding='cp949') as f:\n",
    "    dict_reader = csv.DictReader(f, \n",
    "                          fieldnames=['Name','Age','Email','Address'],\n",
    "                          restkey='Job')\n",
    "    result = list(dict_reader)\n",
    "    #print(list(dict_reader))\n",
    "for row in result:\n",
    "    print(row)"
   ]
  },
  {
   "cell_type": "markdown",
   "id": "67679a11",
   "metadata": {},
   "source": [
    "## 3.4 DictWriter\n",
    "- 딕셔너리 리스트 -> CSV파일"
   ]
  },
  {
   "cell_type": "code",
   "execution_count": 40,
   "id": "dc34c6d8",
   "metadata": {},
   "outputs": [
    {
     "name": "stdout",
     "output_type": "stream",
     "text": [
      "['name', 'age', 'email', 'address']\n"
     ]
    }
   ],
   "source": [
    "user1 = {'name':'홍길동','age':22, 'email':'a@a.com', 'address':'신림동'}\n",
    "user2 = {'name':'신길동','age':32, 'email':'b@a.com', 'address':'신림동'}\n",
    "user3 = {'name':'김길동','age':42, 'email':'c@a.com', 'address':'신림동'}\n",
    "user_list = [user1, user2, user3]\n",
    "fieldnames = list(user1.keys())\n",
    "print(fieldnames)"
   ]
  },
  {
   "cell_type": "code",
   "execution_count": 39,
   "id": "91722f8d",
   "metadata": {},
   "outputs": [],
   "source": [
    "with open('data/ch09_member4.csv', 'w', encoding='utf-8', newline='') as f:\n",
    "    dict_writer = csv.DictWriter(f,\n",
    "                                fieldnames=fieldnames)\n",
    "    dict_writer.writeheader() # header 쓰기\n",
    "    dict_writer.writerows(user_list)"
   ]
  },
  {
   "cell_type": "markdown",
   "id": "568314ca",
   "metadata": {},
   "source": [
    "## CSV <-> 데이터프레임"
   ]
  },
  {
   "cell_type": "code",
   "execution_count": 41,
   "id": "7439d704",
   "metadata": {},
   "outputs": [
    {
     "data": {
      "text/html": [
       "<div>\n",
       "<style scoped>\n",
       "    .dataframe tbody tr th:only-of-type {\n",
       "        vertical-align: middle;\n",
       "    }\n",
       "\n",
       "    .dataframe tbody tr th {\n",
       "        vertical-align: top;\n",
       "    }\n",
       "\n",
       "    .dataframe thead th {\n",
       "        text-align: right;\n",
       "    }\n",
       "</style>\n",
       "<table border=\"1\" class=\"dataframe\">\n",
       "  <thead>\n",
       "    <tr style=\"text-align: right;\">\n",
       "      <th></th>\n",
       "      <th>name</th>\n",
       "      <th>age</th>\n",
       "      <th>email</th>\n",
       "      <th>address</th>\n",
       "      <th>job</th>\n",
       "    </tr>\n",
       "  </thead>\n",
       "  <tbody>\n",
       "    <tr>\n",
       "      <th>0</th>\n",
       "      <td>홍길동</td>\n",
       "      <td>20</td>\n",
       "      <td>h@h.com</td>\n",
       "      <td>서울시 관악구</td>\n",
       "      <td>NaN</td>\n",
       "    </tr>\n",
       "    <tr>\n",
       "      <th>1</th>\n",
       "      <td>신길동</td>\n",
       "      <td>40</td>\n",
       "      <td>s@h.com</td>\n",
       "      <td>서울시 영등포구</td>\n",
       "      <td>팀장</td>\n",
       "    </tr>\n",
       "    <tr>\n",
       "      <th>2</th>\n",
       "      <td>김길동</td>\n",
       "      <td>30</td>\n",
       "      <td>k@h.com</td>\n",
       "      <td>서울시 동작구</td>\n",
       "      <td>NaN</td>\n",
       "    </tr>\n",
       "  </tbody>\n",
       "</table>\n",
       "</div>"
      ],
      "text/plain": [
       "  name  age    email   address  job\n",
       "0  홍길동   20  h@h.com   서울시 관악구  NaN\n",
       "1  신길동   40  s@h.com  서울시 영등포구   팀장\n",
       "2  김길동   30  k@h.com   서울시 동작구  NaN"
      ]
     },
     "execution_count": 41,
     "metadata": {},
     "output_type": "execute_result"
    }
   ],
   "source": [
    "import pandas as pd\n",
    "member = pd.read_csv('data/ch09_member3.csv')\n",
    "member"
   ]
  },
  {
   "cell_type": "code",
   "execution_count": 42,
   "id": "262fc1b1",
   "metadata": {},
   "outputs": [
    {
     "data": {
      "text/plain": [
       "pandas.core.frame.DataFrame"
      ]
     },
     "execution_count": 42,
     "metadata": {},
     "output_type": "execute_result"
    }
   ],
   "source": [
    "type(member)"
   ]
  },
  {
   "cell_type": "markdown",
   "id": "71aec5cd",
   "metadata": {},
   "source": [
    "# 4절. JSON 데이터 저장하고 불러오기(dump, load)\n",
    "- 딕셔너리리스트 <-> JSON파일(기본)\n",
    "- 객체리스트 <-> JSON 파일\n",
    "## 4.1 dump(파일 출력)"
   ]
  },
  {
   "cell_type": "code",
   "execution_count": 43,
   "id": "69c29806",
   "metadata": {},
   "outputs": [],
   "source": [
    "data = [{'name':'홍길동', 'age': 20, 'email':'kildong@hong.com', 'address': '서울'},\n",
    "        {'name':'김길동', 'age': 30, 'email':'kildong@hong.com', 'address': '인천'}]"
   ]
  },
  {
   "cell_type": "code",
   "execution_count": 50,
   "id": "0d325acd",
   "metadata": {},
   "outputs": [],
   "source": [
    "# ensure_ascii 매개변수 \n",
    "    # True : 비ASCII문은 유니코드 형태로 저장\n",
    "    # False : 비 ASCII문자 원래 형태로 저장\n",
    "import json\n",
    "with open('data/ch09_member.json','w', encoding='utf-8') as jsonfile:\n",
    "    json.dump(data, # 딕셔너리 리스트\n",
    "             jsonfile,\n",
    "             ensure_ascii=False)"
   ]
  },
  {
   "cell_type": "code",
   "execution_count": 61,
   "id": "a6681d40",
   "metadata": {},
   "outputs": [],
   "source": [
    "class Member:\n",
    "    def __init__(self, name, age, email, address):\n",
    "        self.name = name\n",
    "        self.age  = age\n",
    "        self.email= email\n",
    "        self.address = address\n",
    "    def __str__(self):\n",
    "        return \"{}, {}, {}, {}\".format(self.name,\n",
    "                                      self.age,\n",
    "                                      self.email,\n",
    "                                      self.address)\n",
    "    def as_dict(self):\n",
    "        return {\n",
    "            'name':self.name,\n",
    "            'age':self.age,\n",
    "            'email':self.email,\n",
    "            'address':self.address\n",
    "               }\n",
    "    def __eq__(self, other):\n",
    "        if isinstance(other, Member):\n",
    "            # return self.__str__() == other.__str__()\n",
    "            return self.__dict__ == other.__dict__\n",
    "        else:\n",
    "            return False"
   ]
  },
  {
   "cell_type": "code",
   "execution_count": 63,
   "id": "431f099f",
   "metadata": {},
   "outputs": [
    {
     "name": "stdout",
     "output_type": "stream",
     "text": [
      "True\n",
      "True\n"
     ]
    }
   ],
   "source": [
    "user1 = Member('홍길동',22,'a@a.com','신림동')\n",
    "user2 = Member('홍길동',22,'a@a.com','신림동')\n",
    "print(user1.__eq__(user2))\n",
    "print(user1==user2)"
   ]
  },
  {
   "cell_type": "code",
   "execution_count": 64,
   "id": "dc47ec23",
   "metadata": {},
   "outputs": [],
   "source": [
    "member_list = [Member('홍길동', 22, 'a@a.com', '서울'),\n",
    "               Member('신길동', 32, 'a@a.com', '서울'),\n",
    "               Member('김길동', 42, 'a@a.com', '서울')]"
   ]
  },
  {
   "cell_type": "code",
   "execution_count": 67,
   "id": "3931698c",
   "metadata": {},
   "outputs": [],
   "source": [
    "with open('data/ch09_member1.json', 'w', encoding='utf-8') as jsonfile:\n",
    "    json.dump(member_list, # 객체 리스트\n",
    "             jsonfile,\n",
    "             ensure_ascii=False,\n",
    "             indent='\\t',\n",
    "             default=Member.as_dict # 객체를 딕셔너리로 return 하는 인스턴스 함수\n",
    "             )"
   ]
  },
  {
   "cell_type": "markdown",
   "id": "0f06b287",
   "metadata": {},
   "source": [
    "## 4.2 load(파일 입력)\n",
    "- json파일 -> 딕셔너리리스트(기본)\n",
    "                  ↓\n",
    "- json파일 ->  객체리스트"
   ]
  },
  {
   "cell_type": "code",
   "execution_count": 68,
   "id": "7cadd7e4",
   "metadata": {},
   "outputs": [],
   "source": [
    "def as_member(dic):\n",
    "    '매개변수로 딕셔너리를 받아 Member 객체를 return'\n",
    "    return Member(dic.get('name'), dic['age'], dic.get('email'), dic.get('address'))"
   ]
  },
  {
   "cell_type": "code",
   "execution_count": 71,
   "id": "654d80cb",
   "metadata": {},
   "outputs": [
    {
     "name": "stdout",
     "output_type": "stream",
     "text": [
      "김길동, 20, z@a.com, 관약\n"
     ]
    }
   ],
   "source": [
    "member = as_member({'name':'김길동', 'age':20, 'email':'z@a.com', 'address':'관약'})\n",
    "print(member)"
   ]
  },
  {
   "cell_type": "code",
   "execution_count": 73,
   "id": "fa2c2ecb",
   "metadata": {},
   "outputs": [
    {
     "data": {
      "text/plain": [
       "[{'name': '홍길동', 'age': 20, 'email': 'kildong@hong.com', 'address': '서울'},\n",
       " {'name': '김길동', 'age': 30, 'email': 'kildong@hong.com', 'address': '인천'}]"
      ]
     },
     "execution_count": 73,
     "metadata": {},
     "output_type": "execute_result"
    }
   ],
   "source": [
    "with open('data/ch09_member.json', 'r') as f:\n",
    "    load_data = json.load(f)\n",
    "load_data"
   ]
  },
  {
   "cell_type": "code",
   "execution_count": 75,
   "id": "368a1540",
   "metadata": {},
   "outputs": [
    {
     "name": "stdout",
     "output_type": "stream",
     "text": [
      "홍길동, 22, a@a.com, 서울\n",
      "신길동, 32, a@a.com, 서울\n",
      "김길동, 42, a@a.com, 서울\n"
     ]
    }
   ],
   "source": [
    "with open('data/ch09_member1.json', 'r', encoding='utf-8') as f:\n",
    "    load_member_list = json.load(f, object_hook=as_member)\n",
    "for load_member in load_member_list:\n",
    "    print(load_member)"
   ]
  },
  {
   "cell_type": "markdown",
   "id": "227b67ff",
   "metadata": {},
   "source": [
    "## JSON -> 데이터프레임"
   ]
  },
  {
   "cell_type": "code",
   "execution_count": 76,
   "id": "119615de",
   "metadata": {},
   "outputs": [
    {
     "data": {
      "text/html": [
       "<div>\n",
       "<style scoped>\n",
       "    .dataframe tbody tr th:only-of-type {\n",
       "        vertical-align: middle;\n",
       "    }\n",
       "\n",
       "    .dataframe tbody tr th {\n",
       "        vertical-align: top;\n",
       "    }\n",
       "\n",
       "    .dataframe thead th {\n",
       "        text-align: right;\n",
       "    }\n",
       "</style>\n",
       "<table border=\"1\" class=\"dataframe\">\n",
       "  <thead>\n",
       "    <tr style=\"text-align: right;\">\n",
       "      <th></th>\n",
       "      <th>name</th>\n",
       "      <th>age</th>\n",
       "      <th>email</th>\n",
       "      <th>address</th>\n",
       "    </tr>\n",
       "  </thead>\n",
       "  <tbody>\n",
       "    <tr>\n",
       "      <th>0</th>\n",
       "      <td>홍길동</td>\n",
       "      <td>22</td>\n",
       "      <td>a@a.com</td>\n",
       "      <td>서울</td>\n",
       "    </tr>\n",
       "    <tr>\n",
       "      <th>1</th>\n",
       "      <td>신길동</td>\n",
       "      <td>32</td>\n",
       "      <td>a@a.com</td>\n",
       "      <td>서울</td>\n",
       "    </tr>\n",
       "    <tr>\n",
       "      <th>2</th>\n",
       "      <td>김길동</td>\n",
       "      <td>42</td>\n",
       "      <td>a@a.com</td>\n",
       "      <td>서울</td>\n",
       "    </tr>\n",
       "  </tbody>\n",
       "</table>\n",
       "</div>"
      ],
      "text/plain": [
       "  name  age    email address\n",
       "0  홍길동   22  a@a.com      서울\n",
       "1  신길동   32  a@a.com      서울\n",
       "2  김길동   42  a@a.com      서울"
      ]
     },
     "execution_count": 76,
     "metadata": {},
     "output_type": "execute_result"
    }
   ],
   "source": [
    "import pandas as pd\n",
    "pd.read_json('data/ch09_member1.json') \n",
    "# pd.함수() : encoding='utf-8' 기본값\n",
    "# open(파일, 모드)함수 : encoding='cp949' 기본값"
   ]
  },
  {
   "cell_type": "code",
   "execution_count": 78,
   "id": "d33a4e85",
   "metadata": {},
   "outputs": [
    {
     "data": {
      "text/html": [
       "<div>\n",
       "<style scoped>\n",
       "    .dataframe tbody tr th:only-of-type {\n",
       "        vertical-align: middle;\n",
       "    }\n",
       "\n",
       "    .dataframe tbody tr th {\n",
       "        vertical-align: top;\n",
       "    }\n",
       "\n",
       "    .dataframe thead th {\n",
       "        text-align: right;\n",
       "    }\n",
       "</style>\n",
       "<table border=\"1\" class=\"dataframe\">\n",
       "  <thead>\n",
       "    <tr style=\"text-align: right;\">\n",
       "      <th></th>\n",
       "      <th>name</th>\n",
       "      <th>age</th>\n",
       "      <th>email</th>\n",
       "      <th>address</th>\n",
       "    </tr>\n",
       "  </thead>\n",
       "  <tbody>\n",
       "    <tr>\n",
       "      <th>0</th>\n",
       "      <td>홍길동</td>\n",
       "      <td>20</td>\n",
       "      <td>kildong@hong.com</td>\n",
       "      <td>서울</td>\n",
       "    </tr>\n",
       "    <tr>\n",
       "      <th>1</th>\n",
       "      <td>김길동</td>\n",
       "      <td>30</td>\n",
       "      <td>kildong@hong.com</td>\n",
       "      <td>인천</td>\n",
       "    </tr>\n",
       "  </tbody>\n",
       "</table>\n",
       "</div>"
      ],
      "text/plain": [
       "  name  age             email address\n",
       "0  홍길동   20  kildong@hong.com      서울\n",
       "1  김길동   30  kildong@hong.com      인천"
      ]
     },
     "execution_count": 78,
     "metadata": {},
     "output_type": "execute_result"
    }
   ],
   "source": [
    "pd.read_json('data/ch09_member.json', encoding='cp949')"
   ]
  },
  {
   "cell_type": "code",
   "execution_count": null,
   "id": "1392d233",
   "metadata": {},
   "outputs": [],
   "source": []
  },
  {
   "cell_type": "markdown",
   "id": "02c4f113",
   "metadata": {},
   "source": [
    "# 5절. hdf5(h5)파일 쓰기/읽기\n",
    "- h5py 사용\n",
    "## 5.1 hdf5파일 쓰기\n",
    "- 딕셔너리 리스트를 hdf5파일에 쓰기\n",
    "- 데이터프레임을 hdf5파일에 쓰기"
   ]
  },
  {
   "cell_type": "code",
   "execution_count": 7,
   "id": "60e5c955",
   "metadata": {},
   "outputs": [
    {
     "data": {
      "text/html": [
       "<div>\n",
       "<style scoped>\n",
       "    .dataframe tbody tr th:only-of-type {\n",
       "        vertical-align: middle;\n",
       "    }\n",
       "\n",
       "    .dataframe tbody tr th {\n",
       "        vertical-align: top;\n",
       "    }\n",
       "\n",
       "    .dataframe thead th {\n",
       "        text-align: right;\n",
       "    }\n",
       "</style>\n",
       "<table border=\"1\" class=\"dataframe\">\n",
       "  <thead>\n",
       "    <tr style=\"text-align: right;\">\n",
       "      <th></th>\n",
       "      <th>sepal_length</th>\n",
       "      <th>sepal_width</th>\n",
       "      <th>petal_length</th>\n",
       "      <th>petal_width</th>\n",
       "      <th>species</th>\n",
       "    </tr>\n",
       "  </thead>\n",
       "  <tbody>\n",
       "    <tr>\n",
       "      <th>0</th>\n",
       "      <td>5.1</td>\n",
       "      <td>3.5</td>\n",
       "      <td>1.4</td>\n",
       "      <td>0.2</td>\n",
       "      <td>setosa</td>\n",
       "    </tr>\n",
       "    <tr>\n",
       "      <th>50</th>\n",
       "      <td>7.0</td>\n",
       "      <td>3.2</td>\n",
       "      <td>4.7</td>\n",
       "      <td>1.4</td>\n",
       "      <td>versicolor</td>\n",
       "    </tr>\n",
       "    <tr>\n",
       "      <th>100</th>\n",
       "      <td>6.3</td>\n",
       "      <td>3.3</td>\n",
       "      <td>6.0</td>\n",
       "      <td>2.5</td>\n",
       "      <td>virginica</td>\n",
       "    </tr>\n",
       "  </tbody>\n",
       "</table>\n",
       "</div>"
      ],
      "text/plain": [
       "     sepal_length  sepal_width  petal_length  petal_width     species\n",
       "0             5.1          3.5           1.4          0.2      setosa\n",
       "50            7.0          3.2           4.7          1.4  versicolor\n",
       "100           6.3          3.3           6.0          2.5   virginica"
      ]
     },
     "execution_count": 7,
     "metadata": {},
     "output_type": "execute_result"
    }
   ],
   "source": [
    "# seaborn : 시각화 패키지. 학습을 위한 데이터셋 다수\n",
    "import seaborn as sns\n",
    "iris_df = sns.load_dataset(\"iris\")\n",
    "iris_df[::50]"
   ]
  },
  {
   "cell_type": "code",
   "execution_count": 9,
   "id": "81257b62",
   "metadata": {},
   "outputs": [],
   "source": [
    "iris_df.to_hdf(\"data/ch09_iris.hdf5\", key='iris')"
   ]
  },
  {
   "cell_type": "code",
   "execution_count": null,
   "id": "bcc6caae",
   "metadata": {},
   "outputs": [],
   "source": []
  },
  {
   "cell_type": "code",
   "execution_count": null,
   "id": "642186a1",
   "metadata": {},
   "outputs": [],
   "source": []
  },
  {
   "cell_type": "code",
   "execution_count": null,
   "id": "83d0eff5",
   "metadata": {},
   "outputs": [],
   "source": []
  },
  {
   "cell_type": "code",
   "execution_count": null,
   "id": "30ee42ab",
   "metadata": {},
   "outputs": [],
   "source": []
  },
  {
   "cell_type": "code",
   "execution_count": null,
   "id": "8d20d031",
   "metadata": {},
   "outputs": [],
   "source": []
  },
  {
   "cell_type": "code",
   "execution_count": null,
   "id": "7f4c358e",
   "metadata": {},
   "outputs": [],
   "source": []
  },
  {
   "cell_type": "markdown",
   "id": "00734d7b",
   "metadata": {},
   "source": [
    "## 5.2 hdf5 파일 읽기\n",
    "- hdf5파일을 딕셔너리 리스트로 읽기\n",
    "- hdf5파일을 데이터프레임으로 읽기"
   ]
  },
  {
   "cell_type": "code",
   "execution_count": 12,
   "id": "7be142b1",
   "metadata": {},
   "outputs": [
    {
     "data": {
      "text/html": [
       "<div>\n",
       "<style scoped>\n",
       "    .dataframe tbody tr th:only-of-type {\n",
       "        vertical-align: middle;\n",
       "    }\n",
       "\n",
       "    .dataframe tbody tr th {\n",
       "        vertical-align: top;\n",
       "    }\n",
       "\n",
       "    .dataframe thead th {\n",
       "        text-align: right;\n",
       "    }\n",
       "</style>\n",
       "<table border=\"1\" class=\"dataframe\">\n",
       "  <thead>\n",
       "    <tr style=\"text-align: right;\">\n",
       "      <th></th>\n",
       "      <th>sepal_length</th>\n",
       "      <th>sepal_width</th>\n",
       "      <th>petal_length</th>\n",
       "      <th>petal_width</th>\n",
       "      <th>species</th>\n",
       "    </tr>\n",
       "  </thead>\n",
       "  <tbody>\n",
       "    <tr>\n",
       "      <th>0</th>\n",
       "      <td>5.1</td>\n",
       "      <td>3.5</td>\n",
       "      <td>1.4</td>\n",
       "      <td>0.2</td>\n",
       "      <td>setosa</td>\n",
       "    </tr>\n",
       "    <tr>\n",
       "      <th>50</th>\n",
       "      <td>7.0</td>\n",
       "      <td>3.2</td>\n",
       "      <td>4.7</td>\n",
       "      <td>1.4</td>\n",
       "      <td>versicolor</td>\n",
       "    </tr>\n",
       "    <tr>\n",
       "      <th>100</th>\n",
       "      <td>6.3</td>\n",
       "      <td>3.3</td>\n",
       "      <td>6.0</td>\n",
       "      <td>2.5</td>\n",
       "      <td>virginica</td>\n",
       "    </tr>\n",
       "  </tbody>\n",
       "</table>\n",
       "</div>"
      ],
      "text/plain": [
       "     sepal_length  sepal_width  petal_length  petal_width     species\n",
       "0             5.1          3.5           1.4          0.2      setosa\n",
       "50            7.0          3.2           4.7          1.4  versicolor\n",
       "100           6.3          3.3           6.0          2.5   virginica"
      ]
     },
     "execution_count": 12,
     "metadata": {},
     "output_type": "execute_result"
    }
   ],
   "source": [
    "import pandas as pd\n",
    "load_iris_df = pd.read_hdf(\"data/ch09_iris.hdf5\", key=\"iris\")\n",
    "load_iris_df[::50]"
   ]
  },
  {
   "cell_type": "code",
   "execution_count": null,
   "id": "fcb13832",
   "metadata": {},
   "outputs": [],
   "source": []
  },
  {
   "cell_type": "code",
   "execution_count": null,
   "id": "6d68fe31",
   "metadata": {},
   "outputs": [],
   "source": []
  },
  {
   "cell_type": "code",
   "execution_count": null,
   "id": "8aea7f7d",
   "metadata": {},
   "outputs": [],
   "source": []
  },
  {
   "cell_type": "code",
   "execution_count": null,
   "id": "7b3c8e78",
   "metadata": {},
   "outputs": [],
   "source": []
  },
  {
   "cell_type": "code",
   "execution_count": null,
   "id": "8f35f04c",
   "metadata": {},
   "outputs": [],
   "source": []
  },
  {
   "cell_type": "code",
   "execution_count": null,
   "id": "d64ef2fe",
   "metadata": {},
   "outputs": [],
   "source": []
  },
  {
   "cell_type": "code",
   "execution_count": null,
   "id": "def34ac0",
   "metadata": {},
   "outputs": [],
   "source": []
  },
  {
   "cell_type": "code",
   "execution_count": null,
   "id": "65b6f063",
   "metadata": {},
   "outputs": [],
   "source": []
  },
  {
   "cell_type": "code",
   "execution_count": null,
   "id": "12c15fae",
   "metadata": {},
   "outputs": [],
   "source": []
  },
  {
   "cell_type": "code",
   "execution_count": null,
   "id": "f4cd1b81",
   "metadata": {},
   "outputs": [],
   "source": []
  },
  {
   "cell_type": "code",
   "execution_count": null,
   "id": "6236056a",
   "metadata": {},
   "outputs": [],
   "source": []
  },
  {
   "cell_type": "code",
   "execution_count": null,
   "id": "f322fef7",
   "metadata": {},
   "outputs": [],
   "source": []
  }
 ],
 "metadata": {
  "kernelspec": {
   "display_name": "Python 3 (ipykernel)",
   "language": "python",
   "name": "python3"
  },
  "language_info": {
   "codemirror_mode": {
    "name": "ipython",
    "version": 3
   },
   "file_extension": ".py",
   "mimetype": "text/x-python",
   "name": "python",
   "nbconvert_exporter": "python",
   "pygments_lexer": "ipython3",
   "version": "3.10.9"
  },
  "toc": {
   "base_numbering": 1,
   "nav_menu": {},
   "number_sections": false,
   "sideBar": true,
   "skip_h1_title": false,
   "title_cell": "Table of Contents",
   "title_sidebar": "Contents",
   "toc_cell": false,
   "toc_position": {
    "height": "calc(100% - 180px)",
    "left": "10px",
    "top": "150px",
    "width": "165px"
   },
   "toc_section_display": true,
   "toc_window_display": true
  }
 },
 "nbformat": 4,
 "nbformat_minor": 5
}
