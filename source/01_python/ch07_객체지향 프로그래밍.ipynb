{
 "cells": [
  {
   "cell_type": "code",
   "execution_count": 1,
   "id": "91614b52",
   "metadata": {},
   "outputs": [
    {
     "data": {
      "text/html": [
       "\n",
       "<style>\n",
       "div.container{width:90% !important;}\n",
       "div.cell.code_cell.rendered{width:100%;}\n",
       "div.input_prompt{padding:0px;}\n",
       "div.CodeMirror {font-family:Consolas; font-size:25pt;}\n",
       "div.text_cell_render.rendered_html{font-size:18pt;}\n",
       "div.output {font-size:24pt; font-weight:bold;}\n",
       "div.input {font-family:Consolas; font-size:12pt;}\n",
       "div.prompt {min-width:70px;}\n",
       "div#toc-wrapper{padding-top:120px;}\n",
       "div.text_cell_render ul li{font-size:21pt;padding:5px;}\n",
       "table.dataframe{font-size:24px;}\n",
       "</style>\n"
      ],
      "text/plain": [
       "<IPython.core.display.HTML object>"
      ]
     },
     "metadata": {},
     "output_type": "display_data"
    }
   ],
   "source": [
    "from IPython.display import display, HTML\n",
    "display(HTML(\"\"\"\n",
    "<style>\n",
    "div.container{width:90% !important;}\n",
    "div.cell.code_cell.rendered{width:100%;}\n",
    "div.input_prompt{padding:0px;}\n",
    "div.CodeMirror {font-family:Consolas; font-size:25pt;}\n",
    "div.text_cell_render.rendered_html{font-size:18pt;}\n",
    "div.output {font-size:24pt; font-weight:bold;}\n",
    "div.input {font-family:Consolas; font-size:12pt;}\n",
    "div.prompt {min-width:70px;}\n",
    "div#toc-wrapper{padding-top:120px;}\n",
    "div.text_cell_render ul li{font-size:21pt;padding:5px;}\n",
    "table.dataframe{font-size:24px;}\n",
    "</style>\n",
    "\"\"\"))"
   ]
  },
  {
   "cell_type": "markdown",
   "id": "09306f20",
   "metadata": {},
   "source": [
    "<b><font color=\"red\" size=\"6\">ch07. 객체 지향 프로그래밍</font></b>"
   ]
  },
  {
   "cell_type": "code",
   "execution_count": 7,
   "id": "9cee2501",
   "metadata": {},
   "outputs": [
    {
     "name": "stdout",
     "output_type": "stream",
     "text": [
      "홍길동 남자 MBC\n",
      "홍낄쑥 None MBC\n",
      "{'name': '홍낄쑥', 'sender': '여자', 'accademy': 'MBC'}\n"
     ]
    }
   ],
   "source": [
    "person1 = {'name':'홍길동', 'gender':'남자', 'accademy':'MBC'}\n",
    "person2 = {'name':'홍길숙', 'sender':'여자', 'accademy':'MBC'}\n",
    "print(person1['name'], person1['gender'], person1['accademy'])\n",
    "person2['name'] = '홍낄쑥'\n",
    "print(person2['name'], person2.get('gender'), person2['accademy'])\n",
    "print(person2)"
   ]
  },
  {
   "cell_type": "code",
   "execution_count": 27,
   "id": "cf0f7aa7",
   "metadata": {},
   "outputs": [],
   "source": [
    "class Person:\n",
    "    accademy = 'MBC' # 클래스 변수\n",
    "    def __init__(self, name, gender): #생성자함수\n",
    "        self.name = name # 객체안의 변수(인스턴스 변수)\n",
    "        self.gender = gender\n",
    "    def print_info(self):\n",
    "        print(\"{}는 {}입니다 {}를 다닙니다\".format(self.name,\n",
    "                                                 self.gender,\n",
    "                                                 self.accademy))\n",
    "    def __str__(self):\n",
    "        return \"{}는 {}입니다 {}를 다닙니다\".format(self.name,\n",
    "                                                  self.gender,\n",
    "                                                  self.accademy)"
   ]
  },
  {
   "cell_type": "code",
   "execution_count": 21,
   "id": "a6b28906",
   "metadata": {},
   "outputs": [
    {
     "name": "stdout",
     "output_type": "stream",
     "text": [
      "홍길동는 남자입니다 MBC를 다닙니다\n",
      "홍길숙는 여자입니다 MBC를 다닙니다\n",
      "마길동는 남자입니다 CBC를 다닙니다\n",
      "홍길숙는 여자입니다 MBC를 다닙니다\n"
     ]
    }
   ],
   "source": [
    "p1 = Person('홍길동','남자')\n",
    "p2 = Person('홍길숙','여자')\n",
    "p1.print_info()\n",
    "p2.print_info()\n",
    "p1.name = '마길동'\n",
    "p1.accademy = 'CBC'\n",
    "print(p1)\n",
    "print(p2)"
   ]
  },
  {
   "cell_type": "markdown",
   "id": "7cdf3df5",
   "metadata": {},
   "source": [
    "# 1절. 객체와 클래스\n",
    "```\n",
    "class 클래스명(상속받을 클래스명):\n",
    "    변수나 함수들 선언\n",
    "```"
   ]
  },
  {
   "cell_type": "code",
   "execution_count": 24,
   "id": "0bdcec93",
   "metadata": {},
   "outputs": [
    {
     "name": "stdout",
     "output_type": "stream",
     "text": [
      "<__main__.Person object at 0x000001A226DC21D0>\n",
      "<class '__main__.Person'>\n"
     ]
    }
   ],
   "source": [
    "class Person:\n",
    "    '''\n",
    "    Person 클래스는 어쩌구 저쩌구 설명하는 독스트링\n",
    "    생성자 함수가 없을 경우, 디폴트 생성자 함수가 자동 생성\n",
    "    '''\n",
    "    pass\n",
    "p1 = Person()\n",
    "print(p1.__str__())\n",
    "print(type(p1))"
   ]
  },
  {
   "cell_type": "code",
   "execution_count": 25,
   "id": "dda2717c",
   "metadata": {},
   "outputs": [
    {
     "data": {
      "text/plain": [
       "True"
      ]
     },
     "execution_count": 25,
     "metadata": {},
     "output_type": "execute_result"
    }
   ],
   "source": [
    "isinstance(p1, Person)"
   ]
  },
  {
   "cell_type": "code",
   "execution_count": 26,
   "id": "78347695",
   "metadata": {},
   "outputs": [
    {
     "data": {
      "text/plain": [
       "'\\n    Person 클래스는 어쩌구 저쩌구 설명하는 독스트링\\n    생성자 함수가 없을 경우, 디폴트 생성자 함수가 자동 생성\\n    '"
      ]
     },
     "execution_count": 26,
     "metadata": {},
     "output_type": "execute_result"
    }
   ],
   "source": [
    "p1.__doc__"
   ]
  },
  {
   "cell_type": "markdown",
   "id": "2dae0ced",
   "metadata": {},
   "source": [
    "# 2절. 생성자와 소멸자\n",
    "```\n",
    "생성자 : __init__(self, 매개변수,..) - 객체가 생성될 때 자동 실행\n",
    "        객체 생성시 필요한 인스턴스 변수 초기화를 포함\n",
    "소멸자 : __del__(self) - 객체가 소멸될 때 자동 실행\n",
    "        인스턴스 객체의 레퍼런스 카운트가 0이 될 때 실행\n",
    "```"
   ]
  },
  {
   "cell_type": "code",
   "execution_count": 39,
   "id": "73b7a0da",
   "metadata": {},
   "outputs": [],
   "source": [
    "class Person:\n",
    "    # 파이썬은 오버로딩(함수 중복 정의) 지원 안 됨\n",
    "    def __init__(self, name, gender='남자'):\n",
    "        self.name = name\n",
    "        self.gender = gender\n",
    "        print('Person 객체 생성합니다', name)\n",
    "    def __del__(self):\n",
    "        print('Person 객체 소멸시킵니다', self.name)\n",
    "    def print_info(self):\n",
    "        print(\"{}는 {}입니다\".format(self.name, self.gender))\n",
    "    def __str__(self): # 오버라이딩(함수 재정의)\n",
    "        return f\"{self.name}는 {self.gender}입니다\"        "
   ]
  },
  {
   "cell_type": "code",
   "execution_count": 40,
   "id": "3394984c",
   "metadata": {},
   "outputs": [
    {
     "name": "stdout",
     "output_type": "stream",
     "text": [
      "Person 객체 생성합니다 신사임당\n",
      "Person 객체 소멸시킵니다 신사임당\n"
     ]
    }
   ],
   "source": [
    "p1 = Person(\"신사임당\", \"여자\")"
   ]
  },
  {
   "cell_type": "code",
   "execution_count": 41,
   "id": "41dd5be5",
   "metadata": {},
   "outputs": [
    {
     "name": "stdout",
     "output_type": "stream",
     "text": [
      "신사임당는 여자입니다\n"
     ]
    }
   ],
   "source": [
    "p1.print_info()"
   ]
  },
  {
   "cell_type": "code",
   "execution_count": 42,
   "id": "ee1a1a4f",
   "metadata": {},
   "outputs": [
    {
     "name": "stdout",
     "output_type": "stream",
     "text": [
      "Person 객체 생성합니다 홍길동\n",
      "홍길동는 남자입니다\n"
     ]
    }
   ],
   "source": [
    "p2 = Person(\"홍길동\")\n",
    "print(p2)"
   ]
  },
  {
   "cell_type": "code",
   "execution_count": 43,
   "id": "fb53f47d",
   "metadata": {},
   "outputs": [],
   "source": [
    "p3 = p2"
   ]
  },
  {
   "cell_type": "code",
   "execution_count": 44,
   "id": "c4e403d2",
   "metadata": {},
   "outputs": [
    {
     "name": "stdout",
     "output_type": "stream",
     "text": [
      "Person 객체 소멸시킵니다 신사임당\n"
     ]
    }
   ],
   "source": [
    "del p1"
   ]
  },
  {
   "cell_type": "code",
   "execution_count": 45,
   "id": "e6c93de1",
   "metadata": {},
   "outputs": [],
   "source": [
    "del p2"
   ]
  },
  {
   "cell_type": "code",
   "execution_count": 46,
   "id": "257da9af",
   "metadata": {},
   "outputs": [
    {
     "name": "stdout",
     "output_type": "stream",
     "text": [
      "Person 객체 소멸시킵니다 홍길동\n"
     ]
    }
   ],
   "source": [
    "del p3"
   ]
  },
  {
   "cell_type": "markdown",
   "id": "b13f1557",
   "metadata": {},
   "source": [
    "# 3절. 변수와 메소드(함수)\n",
    "- 인스턴스 변수 vs 클래스 변수\n",
    "- 인스턴스 메소드(self) vs 클래스메소드(clz) vs static 메소드()"
   ]
  },
  {
   "cell_type": "code",
   "execution_count": 20,
   "id": "577569e3",
   "metadata": {},
   "outputs": [
    {
     "name": "stdout",
     "output_type": "stream",
     "text": [
      "홍길동 남자\n"
     ]
    }
   ],
   "source": [
    "class Person:\n",
    "    name = \"홍길동\" # 클래스 변수\n",
    "    gender = \"남자\"\n",
    "print(Person.name, Person.gender)"
   ]
  },
  {
   "cell_type": "code",
   "execution_count": 21,
   "id": "a93bd9da",
   "metadata": {},
   "outputs": [
    {
     "name": "stdout",
     "output_type": "stream",
     "text": [
      "홍길동 남자\n",
      "홍길동 남자\n",
      "홍길동 남자\n"
     ]
    }
   ],
   "source": [
    "p1 = Person()\n",
    "p2 = Person()\n",
    "print(Person.name, Person.gender)\n",
    "print(p1.name, p1.gender)\n",
    "print(p2.name, p2.gender)"
   ]
  },
  {
   "cell_type": "code",
   "execution_count": 22,
   "id": "45623188",
   "metadata": {},
   "outputs": [
    {
     "name": "stdout",
     "output_type": "stream",
     "text": [
      "홍길동 남자\n",
      "홍길동 남자\n",
      "이순신 남자\n"
     ]
    }
   ],
   "source": [
    "p2.name = \"이순신\"\n",
    "print(Person.name, Person.gender)\n",
    "print(p1.name, p1.gender)\n",
    "print(p2.name, p2.gender)"
   ]
  },
  {
   "cell_type": "code",
   "execution_count": 23,
   "id": "4980e184",
   "metadata": {},
   "outputs": [
    {
     "name": "stdout",
     "output_type": "stream",
     "text": [
      "홍길동 남자\n",
      "홍길동 남자\n",
      "이순신 남자\n"
     ]
    }
   ],
   "source": [
    "# Person.name = \"리사\"\n",
    "# Person.gender = \"여자\"\n",
    "print(Person.name, Person.gender)\n",
    "print(p1.name, p1.gender)\n",
    "print(p2.name, p2.gender)"
   ]
  },
  {
   "cell_type": "markdown",
   "id": "0dfbbb6a",
   "metadata": {},
   "source": [
    "※ 인스턴스 메소드(self) vs 클래스메소드(clz) vs static 메소드()\n",
    "- 인스턴스 메소드 : 첫번째 인자에 self를 꼭 명시. 객체를 통해서만 호출할 수 있는 메소드\n",
    "- 클래스 메소드 : 메소드위에 @classmethod를 선언한 메소드. 첫번째 인자에 cls(clz) 꼭 명시\n",
    "- static 메소드 : 메소드위에 @staticmethod를 선언한 메소드. 인자를 넣지 않음"
   ]
  },
  {
   "cell_type": "code",
   "execution_count": 12,
   "id": "e65bde45",
   "metadata": {},
   "outputs": [],
   "source": [
    "class Person:\n",
    "    name = \"홍길동\"\n",
    "    gender = \"남자\"\n",
    "    def print_info(self): # 객체변수명.print_info()로 호출\n",
    "        print(f\"인스턴스(일반)메소드 - {self.name}는 {self.gender}입니다\")\n",
    "    def change_info(self, name, gender=\"남자\"): #객체변수.change_info(\"김\",\"여자\")\n",
    "        self.name = name\n",
    "        self.gender = gender\n",
    "        print(f\"인스턴스(일반)메소드 - {self.name}/{self.gender}로 변경 완료\")\n",
    "    @classmethod\n",
    "    def do_(clz): # clz==Person. 클래스 변수를 이용한 로직. Person.do_()호출\n",
    "        clz.name = \"신사임당\"\n",
    "        clz.gender = \"여자\"\n",
    "        print(f\"클래스 메소드 - {clz.name}/{clz.gender} 변경완료\")\n",
    "    @staticmethod\n",
    "    def that_(): # 클래스 변수를 이용하기 보다는 로직이 우선일 경우. Person.that_()\n",
    "        Person.name = \"신길동\"\n",
    "        Person.gender = \"남자\"\n",
    "        print(f\"static 메소드 - {Person.name}/{Person.gender} 변경완료\")"
   ]
  },
  {
   "cell_type": "code",
   "execution_count": 9,
   "id": "978190ae",
   "metadata": {},
   "outputs": [
    {
     "name": "stdout",
     "output_type": "stream",
     "text": [
      "인스턴스(일반)메소드 - 홍길동는 남자입니다\n"
     ]
    }
   ],
   "source": [
    "p1 = Person()\n",
    "p1.print_info()"
   ]
  },
  {
   "cell_type": "code",
   "execution_count": 11,
   "id": "a435f417",
   "metadata": {},
   "outputs": [
    {
     "ename": "TypeError",
     "evalue": "Person.do_() takes 0 positional arguments but 1 was given",
     "output_type": "error",
     "traceback": [
      "\u001b[1;31m---------------------------------------------------------------------------\u001b[0m",
      "\u001b[1;31mTypeError\u001b[0m                                 Traceback (most recent call last)",
      "Cell \u001b[1;32mIn[11], line 1\u001b[0m\n\u001b[1;32m----> 1\u001b[0m \u001b[43mPerson\u001b[49m\u001b[38;5;241;43m.\u001b[39;49m\u001b[43mdo_\u001b[49m\u001b[43m(\u001b[49m\u001b[43m)\u001b[49m\n",
      "\u001b[1;31mTypeError\u001b[0m: Person.do_() takes 0 positional arguments but 1 was given"
     ]
    }
   ],
   "source": [
    "Person.do_()"
   ]
  },
  {
   "cell_type": "code",
   "execution_count": 5,
   "id": "d1c288c3",
   "metadata": {},
   "outputs": [
    {
     "name": "stdout",
     "output_type": "stream",
     "text": [
      "static 메소드 - 신길동/남자 변경완료\n"
     ]
    }
   ],
   "source": [
    "Person.that_()"
   ]
  },
  {
   "cell_type": "code",
   "execution_count": 52,
   "id": "b0cde792",
   "metadata": {},
   "outputs": [
    {
     "name": "stdout",
     "output_type": "stream",
     "text": [
      "인스턴스(일반)메소드 - 신길동는 남자입니다\n"
     ]
    }
   ],
   "source": [
    "p1.print_info()"
   ]
  },
  {
   "cell_type": "markdown",
   "id": "81429759",
   "metadata": {},
   "source": [
    "## 요약\n",
    "**객체를 이용하면 객체에 정보를 저장하고, 그 정보를 이용해서 어떤 기능을 수행할 수 있다**\n",
    "**객체 = 데이터(변수:객체마다 고유의 값) + 기능(메소드, 함수)**\n",
    "\n",
    "**그 객체를 만들기 위한 틀 => 클래스**\n",
    "```\n",
    "    class 클래스명:\n",
    "        '독스트링'\n",
    "        클래스변수명 = 값\n",
    "        def __init__(self, [객체멤버를 초기화할 변수=값,...]):\n",
    "            self.인스턴스(일반)변수=값\n",
    "            객체를 생성할 때 객체 멤버변수의 초기화\n",
    "        def method(self):\n",
    "            인스턴스 메소드(일반함수)의 매개변수는 self를 반드시 포함\n",
    "        @classmethod\n",
    "        def classmethod(cls):\n",
    "            코드\n",
    "        @staticmethod\n",
    "        def staticmethod():\n",
    "            코드\n",
    "   객체변수 = 클래스명()\n",
    "   객체변수.method()\n",
    "   클래스명.classmethod()\n",
    "   클래스명.staticmethod()\n",
    "```"
   ]
  },
  {
   "cell_type": "code",
   "execution_count": 6,
   "id": "9191cdf2",
   "metadata": {},
   "outputs": [
    {
     "name": "stdout",
     "output_type": "stream",
     "text": [
      "홍길동입니다\n",
      "홍길동입니다\n"
     ]
    },
    {
     "data": {
      "text/plain": [
       "(True, True)"
      ]
     },
     "execution_count": 6,
     "metadata": {},
     "output_type": "execute_result"
    }
   ],
   "source": [
    "class Person:\n",
    "    def __init__(self, name):\n",
    "        self.name = name\n",
    "    def __str__(self):\n",
    "        return f'{self.name}입니다'\n",
    "    def print_info(self):\n",
    "        #print(f'{self.name}입니다')\n",
    "        print(self)\n",
    "p = Person(\"홍길동\")\n",
    "p.print_info()\n",
    "print(p)\n",
    "# 파이썬은 동적으로 인스턴스 멤버 추가가 가능하다\n",
    "p.nickname = \"홍별명\"\n",
    "p1 = Person(\"홍길숙\")\n",
    "isinstance(p, Person), isinstance(p1, Person)"
   ]
  },
  {
   "cell_type": "markdown",
   "id": "c1c69f0f",
   "metadata": {},
   "source": [
    "# 4절. 상속과 재정의\n",
    "- 클래스를 재사용\n",
    "- 상속을 이용하면 부모클래스의 모든 속성을 자식클래스로 물려줄 수 있음\n",
    "- 문법 : class 자식클래스명(부모클래스명):"
   ]
  },
  {
   "cell_type": "code",
   "execution_count": 8,
   "id": "33b36bf8",
   "metadata": {},
   "outputs": [
    {
     "name": "stdout",
     "output_type": "stream",
     "text": [
      "두 수 초기화\n",
      "4\n",
      "4\n",
      "두 수 초기화\n",
      "5\n"
     ]
    }
   ],
   "source": [
    "class Cal:\n",
    "    def __init__(self, num1=1, num2=2):\n",
    "        print('두 수 초기화')\n",
    "        self.num1 = num1\n",
    "        self.num2 = num2\n",
    "    def add(self):\n",
    "        return self.num1+self.num2\n",
    "    def sub(self):\n",
    "        return self.num1-self.num2\n",
    "    def div(self):\n",
    "        return self.num1/self.num2 if self.num2!=0 else '0으로 나눌 수 없어요'\n",
    "    def __str__(self):\n",
    "        return 'num1={}, num2={}'.format(self.num1, self.num2)\n",
    "\n",
    "class Cal_inherit(Cal):\n",
    "    def mul(self):\n",
    "        return self.num1*self.num2\n",
    "\n",
    "obj1 = Cal_inherit(2, 2)\n",
    "print(obj1.add())\n",
    "print(obj1.mul())\n",
    "obj2 = Cal(2, 3)\n",
    "print(obj2.add())"
   ]
  },
  {
   "cell_type": "code",
   "execution_count": 10,
   "id": "b3c479fd",
   "metadata": {},
   "outputs": [
    {
     "data": {
      "text/plain": [
       "(type, type)"
      ]
     },
     "execution_count": 10,
     "metadata": {},
     "output_type": "execute_result"
    }
   ],
   "source": [
    "type(Cal), type(Cal_inherit)"
   ]
  },
  {
   "cell_type": "code",
   "execution_count": 13,
   "id": "d527a881",
   "metadata": {},
   "outputs": [
    {
     "data": {
      "text/plain": [
       "(__main__.Cal_inherit, True, True)"
      ]
     },
     "execution_count": 13,
     "metadata": {},
     "output_type": "execute_result"
    }
   ],
   "source": [
    "type(obj1), isinstance(obj1, Cal_inherit), isinstance(obj1, Cal)\n",
    "# Cal_inherit is a Cal (상속은 is a 관계)"
   ]
  },
  {
   "cell_type": "code",
   "execution_count": 15,
   "id": "56925a7c",
   "metadata": {},
   "outputs": [
    {
     "name": "stdout",
     "output_type": "stream",
     "text": [
      "이름과 성별 초기화\n",
      "홍길동님은 남자\n",
      "홍길동님은 남자\n"
     ]
    }
   ],
   "source": [
    "class Person:\n",
    "    'Person은 이름과 성별을 멤버변수로 갖고, 출력 기능'\n",
    "    def __init__(self, name, gender):\n",
    "        print('이름과 성별 초기화')\n",
    "        self.name = name\n",
    "        self.gender = gender\n",
    "    def __str__(self):\n",
    "        return \"{}님은 {}\".format(self.name, self.gender)\n",
    "    def print_info(self):\n",
    "        print(self)\n",
    "p = Person(\"홍길동\", \"남자\")\n",
    "p.print_info()\n",
    "Person.print_info(p)"
   ]
  },
  {
   "cell_type": "code",
   "execution_count": 16,
   "id": "6d590cc7",
   "metadata": {},
   "outputs": [],
   "source": [
    "# override : 함수의 재정의(부모클래스의 함수를 자식클래스에서 다시 정의)\n",
    "    #        부모클래스의 함수명과 매개변수 개수가 동일\n",
    "# overload : 함수의 중복정의(같은 이름의 함수를 매개변수 갯수를 달리 해서 정의) - 불가\n",
    "class Student(Person):\n",
    "    def __init__(self, name, gender, major):\n",
    "#         self.name = name\n",
    "#         self.gender = gender\n",
    "        super().__init__(name, gender) # super() : \"부모클래스의\"를 의미\n",
    "        # Person.__init__(self, name, gender)\n",
    "        self.major = major\n",
    "    def __str__(self): # override\n",
    "        return super().__str__() + \"이고, 전공은 {}\".format(self.major)"
   ]
  },
  {
   "cell_type": "code",
   "execution_count": 19,
   "id": "792c01fa",
   "metadata": {},
   "outputs": [
    {
     "name": "stdout",
     "output_type": "stream",
     "text": [
      "이름과 성별 초기화\n",
      "홍길숙님은 여자이고, 전공은 AI\n",
      "홍길숙님은 여자이고, 전공은 AI\n"
     ]
    }
   ],
   "source": [
    "s = Student(\"홍길숙\",\"여자\",\"AI\")\n",
    "print(s)\n",
    "s.print_info()"
   ]
  },
  {
   "cell_type": "code",
   "execution_count": 20,
   "id": "af82b125",
   "metadata": {},
   "outputs": [
    {
     "data": {
      "text/plain": [
       "(True, True)"
      ]
     },
     "execution_count": 20,
     "metadata": {},
     "output_type": "execute_result"
    }
   ],
   "source": [
    "isinstance(s, Student), isinstance(s, Person)"
   ]
  },
  {
   "cell_type": "markdown",
   "id": "a4310a0e",
   "metadata": {},
   "source": [
    "## 정적변수(static 변수) : 여러 객체들 사이에 데이터를 공유하고 싶을 때 사용\n",
    "- static 변수 앞에 under score 2개(__)를 붙이면 클래스명._클래스명__static변수명으로 참조\n",
    "- 클래스변수는 외부에서 바로 접근 가능.\n",
    "- static 변수는 외부에서 바로 접근하는 것을 방지\n",
    "- static 변수는 클래스 내부에서만 접근하도록 하려는 의도."
   ]
  },
  {
   "cell_type": "code",
   "execution_count": 25,
   "id": "d3251339",
   "metadata": {},
   "outputs": [],
   "source": [
    "class Person:\n",
    "    def __init__(self, name, gender):\n",
    "        self.name = name\n",
    "        self.gender = gender\n",
    "    def print_info(self): # 추상메소드\n",
    "        raise Exception(\"이 메소드는 호출하면 예외가 납니다\") # 강제 예외 발생\n",
    "    def __str__(self):\n",
    "        return f'{self.name}은 {self.gender}'\n",
    "\n",
    "class Student(Person):\n",
    "    __count = 0 # static 변수(객체의 갯수)\n",
    "    # 클래스명._클래스명__count로 사용, 클래스명.__count는 외부에서 접근 불가\n",
    "    def __init__(self, name, gender, major):\n",
    "        super().__init__(name, gender)\n",
    "        self.major = major\n",
    "        Student._Student__count += 1 # 객체가 생성될 때마다 __count 1 증가\n",
    "    def __del__(self):\n",
    "        Student._Student__count -= 1 # 객체가 소멸될 때마다 __count 1 감소\n",
    "    def print_info(self):\n",
    "        print(\"{}는 {}이고, 전공은 {}\".format(self.name,\n",
    "                                       self.gender,\n",
    "                                       self.major))\n",
    "    def __str__(self):\n",
    "        return super().__str__() + \"이고, 전공은 {}\".format(self.major)"
   ]
  },
  {
   "cell_type": "code",
   "execution_count": 26,
   "id": "1588d4ba",
   "metadata": {},
   "outputs": [
    {
     "ename": "AttributeError",
     "evalue": "type object 'Student' has no attribute '__count'",
     "output_type": "error",
     "traceback": [
      "\u001b[1;31m---------------------------------------\u001b[0m",
      "\u001b[1;31mAttributeError\u001b[0mTraceback (most recent call last)",
      "Cell \u001b[1;32mIn[26], line 1\u001b[0m\n\u001b[1;32m----> 1\u001b[0m \u001b[43mStudent\u001b[49m\u001b[38;5;241;43m.\u001b[39;49m\u001b[43m__count\u001b[49m\n",
      "\u001b[1;31mAttributeError\u001b[0m: type object 'Student' has no attribute '__count'"
     ]
    }
   ],
   "source": [
    "Student.__count"
   ]
  },
  {
   "cell_type": "code",
   "execution_count": null,
   "id": "e62b989f",
   "metadata": {},
   "outputs": [],
   "source": []
  },
  {
   "cell_type": "code",
   "execution_count": null,
   "id": "84a9ba74",
   "metadata": {},
   "outputs": [],
   "source": []
  },
  {
   "cell_type": "code",
   "execution_count": null,
   "id": "fdd11ab0",
   "metadata": {},
   "outputs": [],
   "source": []
  },
  {
   "cell_type": "code",
   "execution_count": null,
   "id": "31842ca8",
   "metadata": {},
   "outputs": [],
   "source": []
  },
  {
   "cell_type": "code",
   "execution_count": null,
   "id": "95d3e453",
   "metadata": {},
   "outputs": [],
   "source": []
  },
  {
   "cell_type": "code",
   "execution_count": null,
   "id": "6c29ab13",
   "metadata": {},
   "outputs": [],
   "source": []
  }
 ],
 "metadata": {
  "kernelspec": {
   "display_name": "Python 3 (ipykernel)",
   "language": "python",
   "name": "python3"
  },
  "language_info": {
   "codemirror_mode": {
    "name": "ipython",
    "version": 3
   },
   "file_extension": ".py",
   "mimetype": "text/x-python",
   "name": "python",
   "nbconvert_exporter": "python",
   "pygments_lexer": "ipython3",
   "version": "3.10.9"
  },
  "toc": {
   "base_numbering": 1,
   "nav_menu": {},
   "number_sections": false,
   "sideBar": true,
   "skip_h1_title": false,
   "title_cell": "Table of Contents",
   "title_sidebar": "Contents",
   "toc_cell": false,
   "toc_position": {
    "height": "calc(100% - 180px)",
    "left": "10px",
    "top": "150px",
    "width": "165px"
   },
   "toc_section_display": true,
   "toc_window_display": true
  }
 },
 "nbformat": 4,
 "nbformat_minor": 5
}
