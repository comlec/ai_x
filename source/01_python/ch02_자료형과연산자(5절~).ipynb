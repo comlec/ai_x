{
 "cells": [
  {
   "cell_type": "code",
   "execution_count": 1,
   "id": "17175971",
   "metadata": {},
   "outputs": [
    {
     "data": {
      "text/html": [
       "\n",
       "<style>\n",
       "div.container{width:86% !important;}\n",
       "div.cell.code_cell.rendered{width:100%;}\n",
       "div.CodeMirror {font-family:Consolas; font-size:15pt;}\n",
       "div.output {font-size:15pt; font-weight:bold;}\n",
       "div.input {font-family:Consolas; font-size:15pt;}\n",
       "div.prompt {min-width:70px;}\n",
       "div#toc-wrapper{padding-top:120px;}\n",
       "div.text_cell_render ul li{font-size:12pt;padding:5px;}\n",
       "table.dataframe{font-size:15px;}\n",
       "</style>\n"
      ],
      "text/plain": [
       "<IPython.core.display.HTML object>"
      ]
     },
     "metadata": {},
     "output_type": "display_data"
    }
   ],
   "source": [
    "from IPython.display import display, HTML\n",
    "display(HTML(\"\"\"\n",
    "<style>\n",
    "div.container{width:86% !important;}\n",
    "div.cell.code_cell.rendered{width:100%;}\n",
    "div.CodeMirror {font-family:Consolas; font-size:15pt;}\n",
    "div.output {font-size:15pt; font-weight:bold;}\n",
    "div.input {font-family:Consolas; font-size:15pt;}\n",
    "div.prompt {min-width:70px;}\n",
    "div#toc-wrapper{padding-top:120px;}\n",
    "div.text_cell_render ul li{font-size:12pt;padding:5px;}\n",
    "table.dataframe{font-size:15px;}\n",
    "</style>\n",
    "\"\"\"))"
   ]
  },
  {
   "cell_type": "markdown",
   "id": "c509d595",
   "metadata": {},
   "source": [
    "<font size=\"5\" color=\"red\">ch02 자료형과 연산자</font>\n",
    "\n",
    "# 5절. 연산자\n",
    "## 5.1 산술연산자 : +, -, *, /, //(몫), %(나머지), **(제곱)"
   ]
  },
  {
   "cell_type": "code",
   "execution_count": 5,
   "id": "829585d6",
   "metadata": {},
   "outputs": [
    {
     "name": "stdout",
     "output_type": "stream",
     "text": [
      "10의 5승 : 100000\n",
      "4/2(결과 실수) : 2.0\n",
      "4//2(몫) : 2\n",
      "4%2(나머지) : 0\n"
     ]
    }
   ],
   "source": [
    "print('10의 5승 :',10**5)\n",
    "print('4/2(결과 실수) :', 4/2)\n",
    "print('4//2(몫) :', 4//2)\n",
    "print('4%2(나머지) :', 4%2)"
   ]
  },
  {
   "cell_type": "code",
   "execution_count": 10,
   "id": "ba37032f",
   "metadata": {},
   "outputs": [
    {
     "name": "stdout",
     "output_type": "stream",
     "text": [
      "정수를 입력하세요 :10\n",
      "입력하신 수는 10, 2로 나눈 나머지는 0, 그래서 짝수를 입력하셨군요\n"
     ]
    }
   ],
   "source": [
    "# quiz 1. 정수를 입력받아 짝수인지 홀수인지 여부를 출력\n",
    "num = int(input('정수를 입력하세요 :'))\n",
    "result = num%2\n",
    "if result:\n",
    "    temp = \"홀수\"\n",
    "else:\n",
    "    temp = \"짝수\"\n",
    "print(f\"입력하신 수는 {num}, 2로 나눈 나머지는 {result}, 그래서 {temp}를 입력하셨군요\")"
   ]
  },
  {
   "cell_type": "code",
   "execution_count": 11,
   "id": "141a1da4",
   "metadata": {},
   "outputs": [
    {
     "name": "stdout",
     "output_type": "stream",
     "text": [
      "정수를 입력하세요 :9\n",
      "입력하신 수는 9, 5의 배수가 아님를 입력하셨군요\n"
     ]
    }
   ],
   "source": [
    "# quiz 2. 정수를 입력받아 5의 배수인지 여부를 출력\n",
    "num = int(input('정수를 입력하세요 :'))\n",
    "if num%5:\n",
    "    temp = \"5의 배수가 아님\"\n",
    "else:\n",
    "    temp = \"5의 배수\"\n",
    "print(f\"입력하신 수는 {num}, {temp}를 입력하셨군요\")"
   ]
  },
  {
   "cell_type": "code",
   "execution_count": 12,
   "id": "c81eefce",
   "metadata": {},
   "outputs": [],
   "source": [
    "# quiz 3. 국, 영, 수 점수를 입력받아 다음셀에서 다음과 같이 출력하도록 구현하시오"
   ]
  },
  {
   "cell_type": "code",
   "execution_count": 13,
   "id": "dde694f0",
   "metadata": {},
   "outputs": [
    {
     "name": "stdout",
     "output_type": "stream",
     "text": [
      "국어?99\n",
      "영어?100\n",
      "수학?99\n"
     ]
    }
   ],
   "source": [
    "kor = int(input(\"국어?\"))\n",
    "eng = int(input(\"영어?\"))\n",
    "mat = int(input(\"수학?\"))\n",
    "sum = kor + eng + mat\n",
    "avg = sum/3"
   ]
  },
  {
   "cell_type": "code",
   "execution_count": 18,
   "id": "fd3f450d",
   "metadata": {},
   "outputs": [
    {
     "name": "stdout",
     "output_type": "stream",
     "text": [
      "국어: 99\t영어:100\t수학: 99\n",
      "총점:298\t평균: 99.3\n"
     ]
    }
   ],
   "source": [
    "print(\"국어:{:3d}\\t영어:{:3d}\\t수학:{:3d}\".format(kor, eng, mat))\n",
    "print(\"총점:{:3d}\\t평균:{:5.1f}\".format(sum, avg))"
   ]
  },
  {
   "cell_type": "markdown",
   "id": "7e3a6f3d",
   "metadata": {},
   "source": [
    "## 5.2 할당연산자 : =, +=, -=, *=, /=, //=, %="
   ]
  },
  {
   "cell_type": "code",
   "execution_count": 19,
   "id": "c70c92f7",
   "metadata": {},
   "outputs": [
    {
     "name": "stdout",
     "output_type": "stream",
     "text": [
      "5더하기 : 15\n"
     ]
    }
   ],
   "source": [
    "a = 10\n",
    "a += 5 # a = a+5\n",
    "print('5더하기 :', a)"
   ]
  },
  {
   "cell_type": "code",
   "execution_count": 20,
   "id": "f35f88b1",
   "metadata": {},
   "outputs": [
    {
     "name": "stdout",
     "output_type": "stream",
     "text": [
      "5빼기 : 10\n",
      "5배 : 50\n"
     ]
    }
   ],
   "source": [
    "a -= 5 # a = a-5\n",
    "print('5빼기 :', a)\n",
    "a *= 5 # a = a*5\n",
    "print('5배 :', a)"
   ]
  },
  {
   "cell_type": "markdown",
   "id": "59c23bb3",
   "metadata": {},
   "source": [
    "## 5.3 논리연산자 : &,and,       |, or,  not"
   ]
  },
  {
   "cell_type": "code",
   "execution_count": 29,
   "id": "7916bbcf",
   "metadata": {},
   "outputs": [
    {
     "name": "stdout",
     "output_type": "stream",
     "text": [
      "True\n",
      "0\n"
     ]
    }
   ],
   "source": [
    "# & 논리연산자, 비트연산자\n",
    "print( (10>3) & (10>5) ) # 논리연산 True & True\n",
    "print(12 & 1)    # 비트연산 12 : 0000 1100\n",
    "                 #          1 : 0000 0001\n",
    "                 #    12 & 1  : 0000 0000     "
   ]
  },
  {
   "cell_type": "code",
   "execution_count": null,
   "id": "e111f7ff",
   "metadata": {},
   "outputs": [],
   "source": [
    "# and : 논리연산"
   ]
  },
  {
   "cell_type": "code",
   "execution_count": null,
   "id": "a38084ca",
   "metadata": {},
   "outputs": [],
   "source": []
  },
  {
   "cell_type": "code",
   "execution_count": null,
   "id": "e7e5a013",
   "metadata": {},
   "outputs": [],
   "source": []
  },
  {
   "cell_type": "code",
   "execution_count": null,
   "id": "c0da9cc0",
   "metadata": {},
   "outputs": [],
   "source": []
  },
  {
   "cell_type": "code",
   "execution_count": null,
   "id": "2ab9660d",
   "metadata": {},
   "outputs": [],
   "source": []
  },
  {
   "cell_type": "code",
   "execution_count": null,
   "id": "17f90bf6",
   "metadata": {},
   "outputs": [],
   "source": []
  },
  {
   "cell_type": "code",
   "execution_count": null,
   "id": "67f5ca51",
   "metadata": {},
   "outputs": [],
   "source": []
  }
 ],
 "metadata": {
  "kernelspec": {
   "display_name": "Python 3 (ipykernel)",
   "language": "python",
   "name": "python3"
  },
  "language_info": {
   "codemirror_mode": {
    "name": "ipython",
    "version": 3
   },
   "file_extension": ".py",
   "mimetype": "text/x-python",
   "name": "python",
   "nbconvert_exporter": "python",
   "pygments_lexer": "ipython3",
   "version": "3.10.9"
  },
  "toc": {
   "base_numbering": 1,
   "nav_menu": {},
   "number_sections": false,
   "sideBar": true,
   "skip_h1_title": false,
   "title_cell": "Table of Contents",
   "title_sidebar": "Contents",
   "toc_cell": false,
   "toc_position": {
    "height": "calc(100% - 180px)",
    "left": "10px",
    "top": "150px",
    "width": "165px"
   },
   "toc_section_display": true,
   "toc_window_display": true
  }
 },
 "nbformat": 4,
 "nbformat_minor": 5
}
