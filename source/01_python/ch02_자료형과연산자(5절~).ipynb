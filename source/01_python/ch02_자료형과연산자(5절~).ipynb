{
 "cells": [
  {
   "cell_type": "code",
   "execution_count": 1,
   "id": "17175971",
   "metadata": {},
   "outputs": [
    {
     "data": {
      "text/html": [
       "\n",
       "<style>\n",
       "div.container{width:86% !important;}\n",
       "div.cell.code_cell.rendered{width:100%;}\n",
       "div.CodeMirror {font-family:Consolas; font-size:15pt;}\n",
       "div.output {font-size:15pt; font-weight:bold;}\n",
       "div.input {font-family:Consolas; font-size:15pt;}\n",
       "div.prompt {min-width:70px;}\n",
       "div#toc-wrapper{padding-top:120px;}\n",
       "div.text_cell_render ul li{font-size:12pt;padding:5px;}\n",
       "table.dataframe{font-size:15px;}\n",
       "</style>\n"
      ],
      "text/plain": [
       "<IPython.core.display.HTML object>"
      ]
     },
     "metadata": {},
     "output_type": "display_data"
    }
   ],
   "source": [
    "from IPython.display import display, HTML\n",
    "display(HTML(\"\"\"\n",
    "<style>\n",
    "div.container{width:86% !important;}\n",
    "div.cell.code_cell.rendered{width:100%;}\n",
    "div.CodeMirror {font-family:Consolas; font-size:15pt;}\n",
    "div.output {font-size:15pt; font-weight:bold;}\n",
    "div.input {font-family:Consolas; font-size:15pt;}\n",
    "div.prompt {min-width:70px;}\n",
    "div#toc-wrapper{padding-top:120px;}\n",
    "div.text_cell_render ul li{font-size:12pt;padding:5px;}\n",
    "table.dataframe{font-size:15px;}\n",
    "</style>\n",
    "\"\"\"))"
   ]
  },
  {
   "cell_type": "markdown",
   "id": "c509d595",
   "metadata": {},
   "source": [
    "<font size=\"5\" color=\"red\">ch02 자료형과 연산자</font>\n",
    "\n",
    "# 5절. 연산자\n",
    "## 5.1 산술연산자 : +, -, *, /, //(몫), %(나머지), **(제곱)"
   ]
  },
  {
   "cell_type": "code",
   "execution_count": 5,
   "id": "829585d6",
   "metadata": {},
   "outputs": [
    {
     "name": "stdout",
     "output_type": "stream",
     "text": [
      "10의 5승 : 100000\n",
      "4/2(결과 실수) : 2.0\n",
      "4//2(몫) : 2\n",
      "4%2(나머지) : 0\n"
     ]
    }
   ],
   "source": [
    "print('10의 5승 :',10**5)\n",
    "print('4/2(결과 실수) :', 4/2)\n",
    "print('4//2(몫) :', 4//2)\n",
    "print('4%2(나머지) :', 4%2)"
   ]
  },
  {
   "cell_type": "code",
   "execution_count": 10,
   "id": "ba37032f",
   "metadata": {},
   "outputs": [
    {
     "name": "stdout",
     "output_type": "stream",
     "text": [
      "정수를 입력하세요 :10\n",
      "입력하신 수는 10, 2로 나눈 나머지는 0, 그래서 짝수를 입력하셨군요\n"
     ]
    }
   ],
   "source": [
    "# quiz 1. 정수를 입력받아 짝수인지 홀수인지 여부를 출력\n",
    "num = int(input('정수를 입력하세요 :'))\n",
    "result = num%2\n",
    "if result:\n",
    "    temp = \"홀수\"\n",
    "else:\n",
    "    temp = \"짝수\"\n",
    "print(f\"입력하신 수는 {num}, 2로 나눈 나머지는 {result}, 그래서 {temp}를 입력하셨군요\")"
   ]
  },
  {
   "cell_type": "code",
   "execution_count": 11,
   "id": "141a1da4",
   "metadata": {},
   "outputs": [
    {
     "name": "stdout",
     "output_type": "stream",
     "text": [
      "정수를 입력하세요 :9\n",
      "입력하신 수는 9, 5의 배수가 아님를 입력하셨군요\n"
     ]
    }
   ],
   "source": [
    "# quiz 2. 정수를 입력받아 5의 배수인지 여부를 출력\n",
    "num = int(input('정수를 입력하세요 :'))\n",
    "if num%5:\n",
    "    temp = \"5의 배수가 아님\"\n",
    "else:\n",
    "    temp = \"5의 배수\"\n",
    "print(f\"입력하신 수는 {num}, {temp}를 입력하셨군요\")"
   ]
  },
  {
   "cell_type": "code",
   "execution_count": 12,
   "id": "c81eefce",
   "metadata": {},
   "outputs": [],
   "source": [
    "# quiz 3. 국, 영, 수 점수를 입력받아 다음셀에서 다음과 같이 출력하도록 구현하시오"
   ]
  },
  {
   "cell_type": "code",
   "execution_count": 13,
   "id": "dde694f0",
   "metadata": {},
   "outputs": [
    {
     "name": "stdout",
     "output_type": "stream",
     "text": [
      "국어?99\n",
      "영어?100\n",
      "수학?99\n"
     ]
    }
   ],
   "source": [
    "kor = int(input(\"국어?\"))\n",
    "eng = int(input(\"영어?\"))\n",
    "mat = int(input(\"수학?\"))\n",
    "sum = kor + eng + mat\n",
    "avg = sum/3"
   ]
  },
  {
   "cell_type": "code",
   "execution_count": 18,
   "id": "f24839d1",
   "metadata": {},
   "outputs": [
    {
     "name": "stdout",
     "output_type": "stream",
     "text": [
      "국어: 99\t영어:100\t수학: 99\n",
      "총점:298\t평균: 99.3\n"
     ]
    }
   ],
   "source": [
    "print(\"국어:{:3d}\\t영어:{:3d}\\t수학:{:3d}\".format(kor, eng, mat))\n",
    "print(\"총점:{:3d}\\t평균:{:5.1f}\".format(sum, avg))"
   ]
  },
  {
   "cell_type": "markdown",
   "id": "9a2d2c03",
   "metadata": {},
   "source": [
    "## 5.2 할당연산자 : =, +=, -=, *=, /=, //=, %="
   ]
  },
  {
   "cell_type": "code",
   "execution_count": 19,
   "id": "c4327dd4",
   "metadata": {},
   "outputs": [
    {
     "name": "stdout",
     "output_type": "stream",
     "text": [
      "5더하기 : 15\n"
     ]
    }
   ],
   "source": [
    "a = 10\n",
    "a += 5 # a = a+5\n",
    "print('5더하기 :', a)"
   ]
  },
  {
   "cell_type": "code",
   "execution_count": 20,
   "id": "a43f560f",
   "metadata": {},
   "outputs": [
    {
     "name": "stdout",
     "output_type": "stream",
     "text": [
      "5빼기 : 10\n",
      "5배 : 50\n"
     ]
    }
   ],
   "source": [
    "a -= 5 # a = a-5\n",
    "print('5빼기 :', a)\n",
    "a *= 5 # a = a*5\n",
    "print('5배 :', a)"
   ]
  },
  {
   "cell_type": "markdown",
   "id": "bf32121b",
   "metadata": {},
   "source": [
    "## 5.3 논리연산자 : &,and,       |, or,  not"
   ]
  },
  {
   "cell_type": "code",
   "execution_count": 29,
   "id": "2bcc0ec3",
   "metadata": {},
   "outputs": [
    {
     "name": "stdout",
     "output_type": "stream",
     "text": [
      "True\n",
      "0\n"
     ]
    }
   ],
   "source": [
    "# & 논리연산자, 비트연산자\n",
    "print( (10>3) & (10>5) ) # 논리연산 True & True\n",
    "print(12 & 1)    # 비트연산 12 : 0000 1100\n",
    "                 #          1 : 0000 0001\n",
    "                 #    12 & 1  : 0000 0000     "
   ]
  },
  {
   "cell_type": "code",
   "execution_count": 39,
   "id": "4a4fec9c",
   "metadata": {},
   "outputs": [
    {
     "name": "stdout",
     "output_type": "stream",
     "text": [
      "3\n",
      "0\n",
      "[]\n"
     ]
    }
   ],
   "source": [
    "# and : False로 판별되는 첫번째 항을 반환\n",
    "#      모든 항이 참이면 마지막 항을 반환\n",
    "print(True and 1 and 3)\n",
    "print(0 and True)\n",
    "print(True and [] and True and True and True)"
   ]
  },
  {
   "cell_type": "code",
   "execution_count": 41,
   "id": "f64d9928",
   "metadata": {},
   "outputs": [
    {
     "name": "stdout",
     "output_type": "stream",
     "text": [
      "논리연산(연산자 앞뒤에 논리형일 때) : True\n",
      "비트연산(연산자 앞이나 뒤에 숫자일 때) : 3\n"
     ]
    }
   ],
   "source": [
    "# | : 논리연산, 비트연산\n",
    "result = False | True\n",
    "print('논리연산(연산자 앞뒤에 논리형일 때) :', result)\n",
    "result = False | 3 # 0000 0000 (False)\n",
    "                   # 0000 0011 (3)\n",
    "print('비트연산(연산자 앞이나 뒤에 숫자일 때) :', result)"
   ]
  },
  {
   "cell_type": "code",
   "execution_count": 43,
   "id": "f827b1e5",
   "metadata": {},
   "outputs": [
    {
     "name": "stdout",
     "output_type": "stream",
     "text": [
      "None\n",
      "Hong\n"
     ]
    }
   ],
   "source": [
    "# or : 논리연산, 참으로 판별되는 첫번째 항을 반환\n",
    "#      모든 항이 거짓이면, 마지막항을 반환\n",
    "print(False or False or None)\n",
    "print('Hong' or ' ' or False)"
   ]
  },
  {
   "cell_type": "code",
   "execution_count": 44,
   "id": "c8722ea9",
   "metadata": {},
   "outputs": [
    {
     "name": "stdout",
     "output_type": "stream",
     "text": [
      "False\n"
     ]
    }
   ],
   "source": [
    "print(not True)"
   ]
  },
  {
   "cell_type": "markdown",
   "id": "4cbb35e2",
   "metadata": {},
   "source": [
    "## 5.4 비교연산자 : >, >=, <, <=, ==(같다), !=(다르다)"
   ]
  },
  {
   "cell_type": "code",
   "execution_count": 45,
   "id": "608b0515",
   "metadata": {},
   "outputs": [
    {
     "name": "stdout",
     "output_type": "stream",
     "text": [
      "True\n",
      "True\n"
     ]
    }
   ],
   "source": [
    "# 비교연산자는 이항, 삼항, 사항... 다항연산자\n",
    "x = 5\n",
    "print((4<x) & (x<10) )\n",
    "print(4 < x < 10)"
   ]
  },
  {
   "cell_type": "code",
   "execution_count": 48,
   "id": "10d3eb96",
   "metadata": {},
   "outputs": [
    {
     "name": "stdout",
     "output_type": "stream",
     "text": [
      "True\n",
      "False\n",
      "False\n",
      "True\n"
     ]
    }
   ],
   "source": [
    "# 비교연산자(<)의 우선순위가 논리연산(&)의 우선순위보다 낮다\n",
    "print( (10>5) & (10>7) )\n",
    "print( 10>5 & 10>7 )  # 0101(5) \n",
    "                      # 1010(10)\n",
    "print( 10> 0 >7)\n",
    "print( 10>5 and 10>7)"
   ]
  },
  {
   "cell_type": "code",
   "execution_count": 52,
   "id": "9d8f40b0",
   "metadata": {},
   "outputs": [
    {
     "name": "stdout",
     "output_type": "stream",
     "text": [
      "False\n"
     ]
    }
   ],
   "source": [
    "address = '서울'\n",
    "age = 29\n",
    "# print( address=='서울' & age>=30 )\n",
    "print( (address=='서울') & (age>=30) )\n",
    "print( (address!='서울') & (age>=30) )"
   ]
  },
  {
   "cell_type": "code",
   "execution_count": 53,
   "id": "f018ffda",
   "metadata": {},
   "outputs": [
    {
     "data": {
      "text/plain": [
       "True"
      ]
     },
     "execution_count": 53,
     "metadata": {},
     "output_type": "execute_result"
    }
   ],
   "source": [
    "# 문자 비교 : ASCII 코드 순으로 비교 가능 : 특수문자 < 숫자 < 대문자 < 소문자\n",
    "'scott' < 'sctiger'"
   ]
  },
  {
   "cell_type": "code",
   "execution_count": 54,
   "id": "4d755f97",
   "metadata": {},
   "outputs": [
    {
     "data": {
      "text/plain": [
       "True"
      ]
     },
     "execution_count": 54,
     "metadata": {},
     "output_type": "execute_result"
    }
   ],
   "source": [
    "'9' > '10'"
   ]
  },
  {
   "cell_type": "code",
   "execution_count": 56,
   "id": "c70177c4",
   "metadata": {},
   "outputs": [
    {
     "data": {
      "text/plain": [
       "True"
      ]
     },
     "execution_count": 56,
     "metadata": {},
     "output_type": "execute_result"
    }
   ],
   "source": [
    "'김길동김수한무거북이와' < '홍길동'"
   ]
  },
  {
   "cell_type": "markdown",
   "id": "4bd1bb6c",
   "metadata": {},
   "source": [
    "## 5.5 비트연산자 ; &, |, ^(XOR), ~"
   ]
  },
  {
   "cell_type": "code",
   "execution_count": null,
   "id": "23e2a29e",
   "metadata": {},
   "outputs": [],
   "source": [
    "# x  y   x&Y   X^Y\n",
    "# 0  0    0     0\n",
    "# 0  1    0     1\n",
    "# 1  0    0     1\n",
    "# 1  1    1     0"
   ]
  },
  {
   "cell_type": "code",
   "execution_count": 59,
   "id": "11cf8f5c",
   "metadata": {},
   "outputs": [
    {
     "name": "stdout",
     "output_type": "stream",
     "text": [
      " a  = 15 : 1111\n",
      " b  =  2 : 0010\n",
      "a^b = 13 : 1101\n"
     ]
    }
   ],
   "source": [
    "a = 15 # 1111\n",
    "b = 2  # 0010\n",
    "print(\" a  = {0:2} : {0:04b}\".format(a))\n",
    "print(\" b  = {0:2} : {0:04b}\".format(b))\n",
    "print(\"a^b = {0:2} : {0:04b}\".format(a^b))"
   ]
  },
  {
   "cell_type": "markdown",
   "id": "a14aa5a5",
   "metadata": {},
   "source": [
    "- 연산자\n",
    "    - 산술연산 : + - * / // % **\n",
    "    - 할당연산 : = += -= *= /= //= %=\n",
    "    - 논리연산 : & and | or not\n",
    "    - 비교연산 : > >= < <= == !=\n",
    "    - 비트연산 : & | ^\n",
    "    - &와 |은 비교연산자보다 우선순위가 높다    "
   ]
  },
  {
   "cell_type": "markdown",
   "id": "f490bb1b",
   "metadata": {},
   "source": [
    "# 6절. 문자열 다루기\n",
    "- 문자열 슬라이싱 변수[from:stop:step]\n",
    "- len(문자열변수) : 문자갯수\n",
    "\n",
    "- upper() : 대문자로\n",
    "- lower() : 소문자로\n",
    "- title() : 각 어절의 첫글자만 대문자로\n",
    "- capitalize() : 첫문자만 대문자로\n",
    "- count('찾을문자열') : '찾을문자열'이 몇개 들어있는지 갯수 반환\n",
    "- find('찾을문자열') : 찾을문자열이 왼쪽부터 시작하여 몇번째에 있는지 인덱스를 반환\n",
    "- rfind('찾을문자열') : 찾을문자열이 오른쪽부터 시작하여 몇번째에 있는지 인덱스를 반환\n",
    "        **찾을문자열이 없으면 -1을 반환**\n",
    "    cf) index('찾을문자열'):찾을문자열의 인덱스를 반환. 찾을문자열이 없으면 오류\n",
    "- startswith('특정문자열') : 특정문자열로 시작하는지 여부\n",
    "- endswith('특정문자열') : 특정문자열로 끝나는지 여부\n",
    "- strip() : 좌우 공백 제거\n",
    "- rstrip() : 오른쪽 공백 제거\n",
    "- lstrip() : 왼쪽 공백 제거\n",
    "- isdigit() : 문자열이 숫자문자열인지 여부\n",
    "- islower() : 소문자문자열인지 여부\n",
    "- isupper() : 대문자문자열인지 여부\n",
    "- replace(oldStr, newStr) : oldStr을 newStr로 변경"
   ]
  },
  {
   "cell_type": "code",
   "execution_count": 2,
   "id": "60c35e18",
   "metadata": {},
   "outputs": [
    {
     "data": {
      "text/plain": [
       "('python is easy. python is smart. python', 39)"
      ]
     },
     "execution_count": 2,
     "metadata": {},
     "output_type": "execute_result"
    }
   ],
   "source": [
    "temp = \"python is easy. python is smart. python\"\n",
    "temp, len(temp)"
   ]
  },
  {
   "cell_type": "code",
   "execution_count": 3,
   "id": "fd906e5f",
   "metadata": {},
   "outputs": [
    {
     "data": {
      "text/plain": [
       "'PYTHON IS EASY. PYTHON IS SMART. PYTHON'"
      ]
     },
     "execution_count": 3,
     "metadata": {},
     "output_type": "execute_result"
    }
   ],
   "source": [
    "temp.upper()"
   ]
  },
  {
   "cell_type": "code",
   "execution_count": null,
   "id": "3e2b4d33",
   "metadata": {},
   "outputs": [],
   "source": []
  },
  {
   "cell_type": "code",
   "execution_count": null,
   "id": "650beb89",
   "metadata": {},
   "outputs": [],
   "source": []
  },
  {
   "cell_type": "code",
   "execution_count": null,
   "id": "68e73327",
   "metadata": {},
   "outputs": [],
   "source": []
  },
  {
   "cell_type": "code",
   "execution_count": null,
   "id": "798e78c1",
   "metadata": {},
   "outputs": [],
   "source": []
  },
  {
   "cell_type": "code",
   "execution_count": null,
   "id": "f90224c9",
   "metadata": {},
   "outputs": [],
   "source": []
  },
  {
   "cell_type": "code",
   "execution_count": null,
   "id": "dd35f304",
   "metadata": {},
   "outputs": [],
   "source": []
  },
  {
   "cell_type": "code",
   "execution_count": null,
   "id": "2d8e3bb5",
   "metadata": {},
   "outputs": [],
   "source": []
  }
 ],
 "metadata": {
  "kernelspec": {
   "display_name": "Python 3 (ipykernel)",
   "language": "python",
   "name": "python3"
  },
  "language_info": {
   "codemirror_mode": {
    "name": "ipython",
    "version": 3
   },
   "file_extension": ".py",
   "mimetype": "text/x-python",
   "name": "python",
   "nbconvert_exporter": "python",
   "pygments_lexer": "ipython3",
   "version": "3.10.9"
  },
  "toc": {
   "base_numbering": 1,
   "nav_menu": {},
   "number_sections": false,
   "sideBar": true,
   "skip_h1_title": false,
   "title_cell": "Table of Contents",
   "title_sidebar": "Contents",
   "toc_cell": false,
   "toc_position": {
    "height": "calc(100% - 180px)",
    "left": "10px",
    "top": "150px",
    "width": "165px"
   },
   "toc_section_display": true,
   "toc_window_display": true
  }
 },
 "nbformat": 4,
 "nbformat_minor": 5
}
