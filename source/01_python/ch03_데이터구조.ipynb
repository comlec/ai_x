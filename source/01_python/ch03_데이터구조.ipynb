{
 "cells": [
  {
   "cell_type": "code",
   "execution_count": 1,
   "id": "6e5cd9ff",
   "metadata": {},
   "outputs": [
    {
     "data": {
      "text/html": [
       "\n",
       "<style>\n",
       "div.container{width:95% !important;}\n",
       "div.cell.code_cell.rendered{width:100%;}\n",
       "div.CodeMirror {font-family:Consolas; font-size:15pt;}\n",
       "div.output {font-size:15pt; font-weight:bold;}\n",
       "div.input {font-family:Consolas; font-size:15pt;}\n",
       "div.prompt {min-width:70px;}\n",
       "div#toc-wrapper{padding-top:120px;}\n",
       "div.text_cell_render ul li{font-size:12pt;padding:5px;}\n",
       "table.dataframe{font-size:15px;}\n",
       "</style>\n"
      ],
      "text/plain": [
       "<IPython.core.display.HTML object>"
      ]
     },
     "metadata": {},
     "output_type": "display_data"
    }
   ],
   "source": [
    "from IPython.display import display, HTML\n",
    "display(HTML(\"\"\"\n",
    "<style>\n",
    "div.container{width:95% !important;}\n",
    "div.cell.code_cell.rendered{width:100%;}\n",
    "div.CodeMirror {font-family:Consolas; font-size:15pt;}\n",
    "div.output {font-size:15pt; font-weight:bold;}\n",
    "div.input {font-family:Consolas; font-size:15pt;}\n",
    "div.prompt {min-width:70px;}\n",
    "div#toc-wrapper{padding-top:120px;}\n",
    "div.text_cell_render ul li{font-size:12pt;padding:5px;}\n",
    "table.dataframe{font-size:15px;}\n",
    "</style>\n",
    "\"\"\"))"
   ]
  },
  {
   "cell_type": "markdown",
   "id": "aa101b37",
   "metadata": {},
   "source": [
    "<font color=\"red\" size=\"5\">ch03. 데이터구조</font>\n",
    "- 리스트[], 튜플(), 딕셔너리{}, 셋\n",
    "\n",
    "# 1절. 리스트\n",
    "## 1.1 리스트 만들기\n",
    "\n",
    "- []를 이용해서 만들며, 여러개 값(여러 타입)을 하나의 변수에 저장/관리할 수 있음\n",
    "- list(리스트로 변환 가능한 자료)함수 이용도 가능\n",
    "- 인덱스 : 각 요소의 위치. 0부터 시작. 맨 마지막 인덱스는 -1\n",
    "- 슬라이싱( [from:stop:step] ) : 부분 데이터셋 추출\n",
    "- 인덱스와 슬라이싱을 이용해서 읽기/쓰기 지원"
   ]
  },
  {
   "cell_type": "code",
   "execution_count": 2,
   "id": "e1034663",
   "metadata": {},
   "outputs": [
    {
     "data": {
      "text/plain": [
       "list"
      ]
     },
     "execution_count": 2,
     "metadata": {},
     "output_type": "execute_result"
    }
   ],
   "source": [
    "fruits = ['banana', 'apple', 'orange', 'grape']\n",
    "type(fruits)"
   ]
  },
  {
   "cell_type": "code",
   "execution_count": 4,
   "id": "a726f9dd",
   "metadata": {},
   "outputs": [
    {
     "name": "stdout",
     "output_type": "stream",
     "text": [
      "['banana', 'apple', 'orange', 'grape']\n",
      "banana\n"
     ]
    }
   ],
   "source": [
    "print(fruits)\n",
    "print(fruits[0])"
   ]
  },
  {
   "cell_type": "code",
   "execution_count": 5,
   "id": "2e150714",
   "metadata": {},
   "outputs": [
    {
     "name": "stdout",
     "output_type": "stream",
     "text": [
      "['mango', 'apple', 'orange', 'grape']\n"
     ]
    }
   ],
   "source": [
    "fruits[0] = 'mango'\n",
    "print(fruits)"
   ]
  },
  {
   "cell_type": "code",
   "execution_count": 11,
   "id": "177bdae2",
   "metadata": {},
   "outputs": [
    {
     "name": "stdout",
     "output_type": "stream",
     "text": [
      "x=mango\n",
      "y=apple\n",
      "z=orange\n",
      "fruits=['mango', 'apple', 'orange']\n"
     ]
    }
   ],
   "source": [
    "fruits = ['mango', 'apple', 'orange']\n",
    "x, y, z = fruits\n",
    "print(f'x={x}')\n",
    "print(f'y={y}')\n",
    "print('z={}'.format(z))\n",
    "print(f'fruits={fruits}')"
   ]
  },
  {
   "cell_type": "code",
   "execution_count": 15,
   "id": "b5d29c4a",
   "metadata": {},
   "outputs": [
    {
     "data": {
      "text/plain": [
       "[0, 1, 2, 3, 4, 5, 6, 7, 8, 9]"
      ]
     },
     "execution_count": 15,
     "metadata": {},
     "output_type": "execute_result"
    }
   ],
   "source": [
    "# range(from, to, by) : from부터 to앞까지 by씩 증가하면서 지정된 범위의 정수\n",
    "        # from 생략시 : 0\n",
    "        # by 생략시 1\n",
    "list(range(10))"
   ]
  },
  {
   "cell_type": "code",
   "execution_count": 16,
   "id": "f83a0737",
   "metadata": {},
   "outputs": [
    {
     "data": {
      "text/plain": [
       "[101, 102, 103, 104, 105, 106, 107, 108, 109, 110]"
      ]
     },
     "execution_count": 16,
     "metadata": {},
     "output_type": "execute_result"
    }
   ],
   "source": [
    "list(range(101, 111))"
   ]
  },
  {
   "cell_type": "code",
   "execution_count": 17,
   "id": "4971f71d",
   "metadata": {},
   "outputs": [
    {
     "data": {
      "text/plain": [
       "[10, 8, 6, 4, 2, 0]"
      ]
     },
     "execution_count": 17,
     "metadata": {},
     "output_type": "execute_result"
    }
   ],
   "source": [
    "list(range(10, -1, -2))"
   ]
  },
  {
   "cell_type": "code",
   "execution_count": 27,
   "id": "bb558f04",
   "metadata": {},
   "outputs": [
    {
     "name": "stdout",
     "output_type": "stream",
     "text": [
      "0\n",
      "1\n",
      "2\n"
     ]
    }
   ],
   "source": [
    "# 반복문(3회)\n",
    "for i in range(3):\n",
    "    print(i)"
   ]
  },
  {
   "cell_type": "code",
   "execution_count": 40,
   "id": "99353415",
   "metadata": {},
   "outputs": [
    {
     "name": "stdout",
     "output_type": "stream",
     "text": [
      "0번째 과일은 mango입니다\n",
      "1번째 과일은 apple입니다\n",
      "2번째 과일은 orange입니다\n",
      "3번째 과일은 grape입니다\n"
     ]
    }
   ],
   "source": [
    "fruits = ['mango', 'apple', 'orange', 'grape']\n",
    "# len(fruits) : 리스트 데이터 수\n",
    "for i in range(len(fruits)):\n",
    "    print(\"{}번째 과일은 {}입니다\".format(i, fruits[i]))"
   ]
  },
  {
   "cell_type": "code",
   "execution_count": 41,
   "id": "e962c3d0",
   "metadata": {},
   "outputs": [
    {
     "name": "stdout",
     "output_type": "stream",
     "text": [
      "mango\n",
      "apple\n",
      "orange\n",
      "grape\n"
     ]
    }
   ],
   "source": [
    "for value in fruits:\n",
    "    print(value)"
   ]
  },
  {
   "cell_type": "code",
   "execution_count": 47,
   "id": "6f3512be",
   "metadata": {},
   "outputs": [
    {
     "data": {
      "text/plain": [
       "[(0, 'mango'), (1, 'apple'), (2, 'orange'), (3, 'grape')]"
      ]
     },
     "execution_count": 47,
     "metadata": {},
     "output_type": "execute_result"
    }
   ],
   "source": [
    "list(enumerate(fruits))"
   ]
  },
  {
   "cell_type": "code",
   "execution_count": 44,
   "id": "0dab38d6",
   "metadata": {},
   "outputs": [
    {
     "name": "stdout",
     "output_type": "stream",
     "text": [
      "0번째 과일은 mango입니다\n",
      "1번째 과일은 apple입니다\n",
      "2번째 과일은 orange입니다\n",
      "3번째 과일은 grape입니다\n"
     ]
    }
   ],
   "source": [
    "# enumerate(나열가능한 자료) : -> (index,값)들의 셋들\n",
    "for idx, value in enumerate(fruits):\n",
    "    print(\"{}번째 과일은 {}입니다\".format(idx, value))"
   ]
  },
  {
   "cell_type": "code",
   "execution_count": 48,
   "id": "d06cbf94",
   "metadata": {},
   "outputs": [
    {
     "name": "stdout",
     "output_type": "stream",
     "text": [
      "[0, True, '2', 3, [4, 5, 6]]\n"
     ]
    }
   ],
   "source": [
    "# 리스트는 여러 타입의 데이터를 담을 수 있음\n",
    "numbers = [0, True, '2', 3, [4,5,6] ]\n",
    "print(numbers)"
   ]
  },
  {
   "cell_type": "code",
   "execution_count": null,
   "id": "afb05371",
   "metadata": {},
   "outputs": [],
   "source": []
  },
  {
   "cell_type": "code",
   "execution_count": null,
   "id": "8b6640c4",
   "metadata": {},
   "outputs": [],
   "source": []
  },
  {
   "cell_type": "code",
   "execution_count": null,
   "id": "6410d64d",
   "metadata": {},
   "outputs": [],
   "source": []
  },
  {
   "cell_type": "code",
   "execution_count": null,
   "id": "ff9a697f",
   "metadata": {},
   "outputs": [],
   "source": []
  },
  {
   "cell_type": "code",
   "execution_count": null,
   "id": "d2ffa150",
   "metadata": {},
   "outputs": [],
   "source": []
  },
  {
   "cell_type": "code",
   "execution_count": null,
   "id": "fc399fd2",
   "metadata": {},
   "outputs": [],
   "source": []
  },
  {
   "cell_type": "code",
   "execution_count": null,
   "id": "5c683aaa",
   "metadata": {},
   "outputs": [],
   "source": []
  }
 ],
 "metadata": {
  "kernelspec": {
   "display_name": "Python 3 (ipykernel)",
   "language": "python",
   "name": "python3"
  },
  "language_info": {
   "codemirror_mode": {
    "name": "ipython",
    "version": 3
   },
   "file_extension": ".py",
   "mimetype": "text/x-python",
   "name": "python",
   "nbconvert_exporter": "python",
   "pygments_lexer": "ipython3",
   "version": "3.10.9"
  },
  "toc": {
   "base_numbering": 1,
   "nav_menu": {},
   "number_sections": false,
   "sideBar": true,
   "skip_h1_title": false,
   "title_cell": "Table of Contents",
   "title_sidebar": "Contents",
   "toc_cell": false,
   "toc_position": {
    "height": "calc(100% - 180px)",
    "left": "10px",
    "top": "150px",
    "width": "165px"
   },
   "toc_section_display": true,
   "toc_window_display": true
  }
 },
 "nbformat": 4,
 "nbformat_minor": 5
}
