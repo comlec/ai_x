{
 "cells": [
  {
   "cell_type": "code",
   "execution_count": 1,
   "id": "6a6deea3",
   "metadata": {},
   "outputs": [
    {
     "data": {
      "text/html": [
       "\n",
       "<style>\n",
       "div.container{width:100% !important;}\n",
       "div.cell.code_cell.rendered{width:85%;}\n",
       "div.input_prompt{padding:0px;}\n",
       "div.CodeMirror {font-family:Consolas; font-size:15pt;}\n",
       "div.output {font-size:15pt; font-weight:bold;}\n",
       "div.input {font-family:Consolas; font-size:15pt;}\n",
       "div.prompt {min-width:70px;}\n",
       "div#toc-wrapper{padding-top:120px;}\n",
       "div.text_cell_render ul li{font-size:12pt;padding:5px;}\n",
       "table.dataframe{font-size:15px;}\n",
       "</style>\n"
      ],
      "text/plain": [
       "<IPython.core.display.HTML object>"
      ]
     },
     "metadata": {},
     "output_type": "display_data"
    }
   ],
   "source": [
    "from IPython.display import display, HTML\n",
    "display(HTML(\"\"\"\n",
    "<style>\n",
    "div.container{width:100% !important;}\n",
    "div.cell.code_cell.rendered{width:85%;}\n",
    "div.input_prompt{padding:0px;}\n",
    "div.CodeMirror {font-family:Consolas; font-size:15pt;}\n",
    "div.output {font-size:15pt; font-weight:bold;}\n",
    "div.input {font-family:Consolas; font-size:15pt;}\n",
    "div.prompt {min-width:70px;}\n",
    "div#toc-wrapper{padding-top:120px;}\n",
    "div.text_cell_render ul li{font-size:12pt;padding:5px;}\n",
    "table.dataframe{font-size:15px;}\n",
    "</style>\n",
    "\"\"\"))"
   ]
  },
  {
   "cell_type": "markdown",
   "id": "2e350478",
   "metadata": {},
   "source": [
    "<b><font color=\"red\" size=\"5\">ch04. 제어문</font></b>\n",
    "- 조건문 : if문\n",
    "- 반복문 : for문, while문, 중첩가능"
   ]
  },
  {
   "cell_type": "markdown",
   "id": "1f40f82f",
   "metadata": {},
   "source": [
    "# 1절. 조건문(if)\n",
    "```\n",
    "if 조건1:\n",
    "    조건1이 참일 경우 수행할 명령어들\n",
    "elif 조건2:\n",
    "    조건1이 거짓이고, 조건2가 참일 경우 수행할 명령어들\n",
    "else:\n",
    "    모든 조건을 만족하지 않을 때 수행할 명령어들\n",
    "```"
   ]
  },
  {
   "cell_type": "code",
   "execution_count": 4,
   "id": "23b0f45a",
   "metadata": {},
   "outputs": [
    {
     "name": "stdout",
     "output_type": "stream",
     "text": [
      "점수는 :120\n",
      "참 잘했어요\n",
      "다음에도 기대할께요\n",
      "화이팅\n"
     ]
    }
   ],
   "source": [
    "score = int(input('점수는 :'))\n",
    "if score >= 90:\n",
    "    print('참 잘했어요')\n",
    "    print('다음에도 기대할께요')\n",
    "elif score>=60:\n",
    "    print('분발하세요')\n",
    "    print('뭐 그래도 고생하셨어요')\n",
    "else:\n",
    "    print('재시험 응시하셔야 합니다')\n",
    "print('화이팅')"
   ]
  },
  {
   "cell_type": "code",
   "execution_count": 3,
   "id": "305c6131",
   "metadata": {},
   "outputs": [
    {
     "name": "stdout",
     "output_type": "stream",
     "text": [
      "점수는 >120\n",
      "입력하신 점수는 120점이고, 유효하지 않은 점수등급입니다\n"
     ]
    }
   ],
   "source": [
    "# 점수(0~100점)를 입력받아 학점을 출력하시오(A, B, C, D, F, 유효하지 않은 점수)\n",
    "score = int(input('점수는 >'))\n",
    "if 90 <= score <= 100 : # (score>=90) & (score<=100):\n",
    "    grade = 'A'\n",
    "elif 80 <= score < 90:\n",
    "    grade = 'B'\n",
    "elif 70 <= score < 80:\n",
    "    grade = 'C'\n",
    "elif 60 <= score < 70:\n",
    "    grade ='D'\n",
    "elif 0 <= score < 60:\n",
    "    grade = 'F'\n",
    "else:\n",
    "    grade = '유효하지 않은 점수'\n",
    "print(\"입력하신 점수는 {}점이고, {}등급입니다\".format(score, grade))"
   ]
  },
  {
   "cell_type": "markdown",
   "id": "9656b9a2",
   "metadata": {},
   "source": [
    "# 2절. 반복문\n",
    "## 2.1 for-in문\n",
    "```\n",
    "for 임시변수 in 나열가능한자료:\n",
    "    반복할명령어1\n",
    "    반복할명령어2\n",
    "else:\n",
    "    나열가능한자료가 다 소요하여 for블록을 다 수행한 후 최종 한번 수행할 명령어\n",
    "    for문안에 break를 수행할 경우 else블록은 수행되지 않음\n",
    "```"
   ]
  },
  {
   "cell_type": "code",
   "execution_count": 7,
   "id": "2c7503b0",
   "metadata": {},
   "outputs": [
    {
     "name": "stdout",
     "output_type": "stream",
     "text": [
      "1\t3\t5\t7\t9\t\n",
      "DONE\n",
      "END\n"
     ]
    }
   ],
   "source": [
    "for i in range(1, 10, 2):\n",
    "    print(i, end='\\t')\n",
    "else:\n",
    "    print('\\nDONE')\n",
    "print('END')"
   ]
  },
  {
   "cell_type": "code",
   "execution_count": 10,
   "id": "d9b7cd43",
   "metadata": {},
   "outputs": [
    {
     "name": "stdout",
     "output_type": "stream",
     "text": [
      "1\t3\tEND\n"
     ]
    }
   ],
   "source": [
    "for i in range(1, 10, 2):\n",
    "    if i==5:\n",
    "        break\n",
    "    print(i, end='\\t')\n",
    "else:\n",
    "    print('\\nDONE')\n",
    "print('END')"
   ]
  },
  {
   "cell_type": "code",
   "execution_count": 16,
   "id": "7d59a893",
   "metadata": {},
   "outputs": [
    {
     "name": "stdout",
     "output_type": "stream",
     "text": [
      "1~100까지 합은 5050 100\n"
     ]
    }
   ],
   "source": [
    "# 1~100까지 누적합을 출력하시오(for문)\n",
    "tot = 0 # 누적변수\n",
    "for i in range(1, 101):\n",
    "    tot += i # tot = tot + i\n",
    "print('1~100까지 합은', tot, i)"
   ]
  },
  {
   "cell_type": "code",
   "execution_count": 12,
   "id": "bd937603",
   "metadata": {},
   "outputs": [
    {
     "name": "stdout",
     "output_type": "stream",
     "text": [
      "1~100까지 짝수들의 합은 2550\n"
     ]
    }
   ],
   "source": [
    "# 1~100까지의 짝수들의 합을 출력하시오(for문)\n",
    "tot = 0 # 누적변수\n",
    "for i in range(1, 101):\n",
    "    if i%2==0:\n",
    "        tot += i # tot = tot + i\n",
    "print('1~100까지 짝수들의 합은', tot)"
   ]
  },
  {
   "cell_type": "markdown",
   "id": "f949ae12",
   "metadata": {},
   "source": [
    "## 2.2 while문\n",
    "```\n",
    "while 조건:\n",
    "    조건이 참일 경우 반복할 문장들\n",
    "else:\n",
    "    조건이 거짓일 경우 한번 실행할 문장(else구문 선택사항)\n",
    "```"
   ]
  },
  {
   "cell_type": "code",
   "execution_count": 17,
   "id": "29cbab7f",
   "metadata": {},
   "outputs": [
    {
     "name": "stdout",
     "output_type": "stream",
     "text": [
      "1~100까지 누적합은 5050 101\n"
     ]
    }
   ],
   "source": [
    "# 1~100까지 누적합 출력\n",
    "tot = 0\n",
    "i = 1\n",
    "while i<=100:\n",
    "    tot += i\n",
    "    i += 1\n",
    "print(\"1~100까지 누적합은\", tot, i)"
   ]
  },
  {
   "cell_type": "code",
   "execution_count": 18,
   "id": "39e1111b",
   "metadata": {},
   "outputs": [
    {
     "name": "stdout",
     "output_type": "stream",
     "text": [
      "1~100까지의 짝수합은 2550 101\n"
     ]
    }
   ],
   "source": [
    "# 1~100까지의 짝수들의 합 출력\n",
    "tot = 0\n",
    "i = 1\n",
    "while i<=100:\n",
    "    if i%2==0:\n",
    "        tot += i\n",
    "    i += 1\n",
    "print(\"1~100까지의 짝수합은\", tot, i)"
   ]
  },
  {
   "cell_type": "code",
   "execution_count": 63,
   "id": "e9c31332",
   "metadata": {},
   "outputs": [
    {
     "name": "stdout",
     "output_type": "stream",
     "text": [
      "첫번째 정수는 >10\n",
      "두번째 정수는 >2\n",
      "first=2, second=10\n",
      "2부터 10까지 홀수 누적합은 24입니다\n"
     ]
    }
   ],
   "source": [
    "# ex1. 사용자에게 두 정수를 입력받아, 작은수부터 큰수까지 홀수의 합을 누적해서 출력\n",
    "first = int(input(\"첫번째 정수는 >\"))\n",
    "second = int(input(\"두번째 정수는 >\"))\n",
    "# # (1-1) 두 수 중 작은 수는 min_에 큰수는 max_에 할당\n",
    "# if first<second:\n",
    "#     min_ = first\n",
    "#     max_ = second\n",
    "# else:\n",
    "#     min_ = second\n",
    "#     max_ = first\n",
    "# # (2-1) min_부터 max_까지 홀수합 누적\n",
    "# tot = 0\n",
    "# for i in range(min_, max_+1):\n",
    "#     if i%2: # i%2!=0: #(i%2==1) | (i%2==-1):\n",
    "#         tot += i\n",
    "# # (3-1) 출력\n",
    "# print(f\"{min_}부터 {max_}까지 홀수들의 합은 {tot}입니다\")\n",
    "# (1-2) first에 작은수로 second에 큰수가 되도록 함\n",
    "if first > second:\n",
    "    # 바꿔\n",
    "#     temp = first\n",
    "#     first = second\n",
    "#     second = temp\n",
    "    first, second = second, first\n",
    "print(\"first={}, second={}\".format(first, second))\n",
    "# (2-2) first부터 second까지 홀수들 누적\n",
    "tot = 0\n",
    "for i in range(first, second+1):\n",
    "    if i%2:\n",
    "        tot += i\n",
    "# (3-3) 출력\n",
    "print(\"{}부터 {}까지 홀수 누적합은 {}입니다\".format(first, second, tot))"
   ]
  },
  {
   "cell_type": "code",
   "execution_count": 111,
   "id": "583e4cfc",
   "metadata": {},
   "outputs": [
    {
     "name": "stdout",
     "output_type": "stream",
     "text": [
      "0번째까지 정렬 내용 : [11] / [11, 27, 32, 26, 25, 12]\n",
      "1번째까지 정렬 내용 : [11, 12] / [11, 12, 32, 27, 26, 25]\n",
      "2번째까지 정렬 내용 : [11, 12, 25] / [11, 12, 25, 32, 27, 26]\n",
      "3번째까지 정렬 내용 : [11, 12, 25, 26] / [11, 12, 25, 26, 32, 27]\n",
      "4번째까지 정렬 내용 : [11, 12, 25, 26, 27] / [11, 12, 25, 26, 27, 32]\n",
      "난수 7번 뽑아서 로또는 [11, 12, 25, 26, 27, 32]\n"
     ]
    }
   ],
   "source": [
    "# ex2. 1~45까지의 로또번호 6개를 추출하여 출력(오름차순 정렬결과를 출력) - 리스트 이용\n",
    "# 난수 발생\n",
    "import random\n",
    "# random.random() : 0<=실수난수<1\n",
    "# random.randint(a, b) : a~b의 정수 난수\n",
    "# int(random.random()*b)+a : a~b의 정수 난수\n",
    "# 실행할 때마다 난수의 순서를 일치시키려면 random.seed(특정수)\n",
    "lotto = []\n",
    "cnt = 0\n",
    "while len(lotto) < 6:\n",
    "    cnt += 1\n",
    "    temp = random.randint(1, 45)\n",
    "    if temp not in lotto:\n",
    "        lotto.append(temp)\n",
    "# 정렬하기\n",
    "for i in range(0, len(lotto)-1):\n",
    "    for j in range(i, len(lotto)):\n",
    "        if lotto[i] > lotto[j]:\n",
    "            lotto[i], lotto[j] = lotto[j], lotto[i]\n",
    "    print(f\"{i}번째까지 정렬 내용 : {lotto[:i+1]} / {lotto}\")\n",
    "# lotto.sort()\n",
    "print(\"난수 {}번 뽑아서 로또는 {}\".format(cnt, lotto))"
   ]
  },
  {
   "cell_type": "code",
   "execution_count": 120,
   "id": "a26837c4",
   "metadata": {},
   "outputs": [
    {
     "data": {
      "text/plain": [
       "[9, 26, 32, 33, 41, 42]"
      ]
     },
     "execution_count": 120,
     "metadata": {},
     "output_type": "execute_result"
    }
   ],
   "source": [
    "# ex2. 1~45까지의 로또번호 6개를 추출하여 출력(오름차순 정렬결과를 출력) - set 이용\n",
    "lotto = set()\n",
    "while len(lotto)<6:\n",
    "    lotto.add(random.randint(1, 45))\n",
    "sorted(lotto)"
   ]
  },
  {
   "cell_type": "code",
   "execution_count": 124,
   "id": "5d4639de",
   "metadata": {},
   "outputs": [
    {
     "data": {
      "text/plain": [
       "[7, 24, 26, 28, 32, 36]"
      ]
     },
     "execution_count": 124,
     "metadata": {},
     "output_type": "execute_result"
    }
   ],
   "source": [
    "# 1~45중 6개 뽑기\n",
    "sorted(random.sample(range(1, 45), 6))"
   ]
  },
  {
   "cell_type": "markdown",
   "id": "5e92ec1c",
   "metadata": {},
   "source": [
    "## 2.3 break, continue"
   ]
  },
  {
   "cell_type": "code",
   "execution_count": 5,
   "id": "7cd41a40",
   "metadata": {},
   "outputs": [
    {
     "name": "stdout",
     "output_type": "stream",
     "text": [
      "1\t2\t3\t4\tDONE\n"
     ]
    }
   ],
   "source": [
    "num = 0\n",
    "while num<10:\n",
    "    num += 1\n",
    "    if num == 5:\n",
    "        break # 반복문을 탈출\n",
    "        # continue # while블록 수행을 중단하고 조건으로 감\n",
    "    print(num, end='\\t')\n",
    "print('DONE')"
   ]
  },
  {
   "cell_type": "code",
   "execution_count": 23,
   "id": "ad771a19",
   "metadata": {},
   "outputs": [
    {
     "name": "stdout",
     "output_type": "stream",
     "text": [
      "컴퓨터가 발생한 임의의 수 : 100\n",
      "1~100사이의 수를 맞춰 보세요 :50\n",
      "UP ↑\n",
      "1~100사이의 수를 맞춰 보세요 :60\n",
      "UP ↑\n",
      "1~100사이의 수를 맞춰 보세요 :80\n",
      "UP ↑\n",
      "1~100사이의 수를 맞춰 보세요 :90\n",
      "UP ↑\n",
      "1~100사이의 수를 맞춰 보세요 :91\n",
      "UP ↑\n",
      "1~100사이의 수를 맞춰 보세요 :92\n",
      "UP ↑\n",
      "1~100사이의 수를 맞춰 보세요 :101\n",
      "수의 범위를 벗어났습니다\n",
      "1~100사이의 수를 맞춰 보세요 :100\n",
      "축하 축하 맞추셨습니다\n",
      "끝\n"
     ]
    }
   ],
   "source": [
    "'''\n",
    "1~100사이의 정수를 맞추는 프로그램을 구현하시오\n",
    "(프로그램안에 임의의 숫자가 만들어지고 그 숫자를 맞추도록 합니다)\n",
    "1단계. 입력된 숫자가 틀리면 UP/DOWN 메시지를 출력하고 \n",
    "      숫자를 맞추면 축하메세지와 함께 종료합니다(맞출 때까지 반복)\n",
    "'''\n",
    "import random\n",
    "# (1) 1~100사이의 난수 발생\n",
    "randomNum = random.randint(1, 100)\n",
    "print('컴퓨터가 발생한 임의의 수 :', randomNum)\n",
    "# (2) 수를 입력받아 틀리면 UP/DOWN메시지를 출력, 맞추면 축하축하 메세지와 break하는 반복문\n",
    "while True:\n",
    "    inputNum = int(input(\"1~100사이의 수를 맞춰 보세요 :\"))\n",
    "    if (inputNum<1) | (inputNum>100):\n",
    "        print('수의 범위를 벗어났습니다')\n",
    "    elif randomNum < inputNum:\n",
    "        print('DOWN ↓')\n",
    "    elif randomNum > inputNum:\n",
    "        print('UP ↑')\n",
    "    else:\n",
    "        print('축하 축하 맞추셨습니다')\n",
    "        break\n",
    "print('끝')"
   ]
  },
  {
   "cell_type": "code",
   "execution_count": null,
   "id": "6f5d8a2a",
   "metadata": {},
   "outputs": [],
   "source": []
  },
  {
   "cell_type": "code",
   "execution_count": null,
   "id": "922a23c0",
   "metadata": {},
   "outputs": [],
   "source": []
  },
  {
   "cell_type": "code",
   "execution_count": null,
   "id": "dac45342",
   "metadata": {},
   "outputs": [],
   "source": []
  },
  {
   "cell_type": "code",
   "execution_count": null,
   "id": "a87d3f67",
   "metadata": {},
   "outputs": [],
   "source": []
  },
  {
   "cell_type": "code",
   "execution_count": null,
   "id": "9da8a5ea",
   "metadata": {},
   "outputs": [],
   "source": []
  },
  {
   "cell_type": "code",
   "execution_count": null,
   "id": "666751b5",
   "metadata": {},
   "outputs": [],
   "source": []
  },
  {
   "cell_type": "code",
   "execution_count": null,
   "id": "5d11d6d0",
   "metadata": {},
   "outputs": [],
   "source": []
  },
  {
   "cell_type": "code",
   "execution_count": null,
   "id": "1f767dc5",
   "metadata": {},
   "outputs": [],
   "source": []
  }
 ],
 "metadata": {
  "kernelspec": {
   "display_name": "Python 3 (ipykernel)",
   "language": "python",
   "name": "python3"
  },
  "language_info": {
   "codemirror_mode": {
    "name": "ipython",
    "version": 3
   },
   "file_extension": ".py",
   "mimetype": "text/x-python",
   "name": "python",
   "nbconvert_exporter": "python",
   "pygments_lexer": "ipython3",
   "version": "3.10.9"
  },
  "toc": {
   "base_numbering": 1,
   "nav_menu": {},
   "number_sections": false,
   "sideBar": true,
   "skip_h1_title": false,
   "title_cell": "Table of Contents",
   "title_sidebar": "Contents",
   "toc_cell": false,
   "toc_position": {
    "height": "calc(100% - 180px)",
    "left": "10px",
    "top": "150px",
    "width": "165px"
   },
   "toc_section_display": true,
   "toc_window_display": true
  }
 },
 "nbformat": 4,
 "nbformat_minor": 5
}
