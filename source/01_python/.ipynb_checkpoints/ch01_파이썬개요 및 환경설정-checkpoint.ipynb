{
 "cells": [
  {
   "cell_type": "code",
   "execution_count": 1,
   "id": "8ed80385",
   "metadata": {},
   "outputs": [
    {
     "data": {
      "text/html": [
       "\n",
       "<style>\n",
       "div.container{width:86% !important;}\n",
       "div.cell.code_cell.rendered{width:100%;}\n",
       "div.CodeMirror {font-family:Consolas; font-size:15pt;}\n",
       "div.output {font-size:15pt; font-weight:bold;}\n",
       "div.input {font-family:Consolas; font-size:15pt;}\n",
       "div.prompt {min-width:70px;}\n",
       "div#toc-wrapper{padding-top:120px;}\n",
       "div.text_cell_render ul li{font-size:12pt;padding:5px;}\n",
       "table.dataframe{font-size:15px;}\n",
       "</style>\n"
      ],
      "text/plain": [
       "<IPython.core.display.HTML object>"
      ]
     },
     "metadata": {},
     "output_type": "display_data"
    }
   ],
   "source": [
    "from IPython.display import display, HTML\n",
    "display(HTML(\"\"\"\n",
    "<style>\n",
    "div.container{width:86% !important;}\n",
    "div.cell.code_cell.rendered{width:100%;}\n",
    "div.CodeMirror {font-family:Consolas; font-size:15pt;}\n",
    "div.output {font-size:15pt; font-weight:bold;}\n",
    "div.input {font-family:Consolas; font-size:15pt;}\n",
    "div.prompt {min-width:70px;}\n",
    "div#toc-wrapper{padding-top:120px;}\n",
    "div.text_cell_render ul li{font-size:12pt;padding:5px;}\n",
    "table.dataframe{font-size:15px;}\n",
    "</style>\n",
    "\"\"\"))"
   ]
  },
  {
   "cell_type": "markdown",
   "id": "7315f152",
   "metadata": {},
   "source": [
    "<font size=\"5\" color=\"red\">ch01 파이썬 개요 및 환경 설정</font>\n",
    "\n",
    "# 1. 주피터 노트북 사용법\n",
    "- shift+Enter : 선택된 셀이 실행되고, 다음셀로 이동\n",
    "- alt+Enter   : 선택된 셀이 실행되고 다음셀이 생성된 후 다음셀로 이동\n",
    "- ctrl + Enter : 선택된 셀이 실행되고, 해당셀에 있음\n",
    "- Enter(셀 클릭) : 다시 편집상태로 돌아감"
   ]
  },
  {
   "cell_type": "code",
   "execution_count": null,
   "id": "2dad5a48",
   "metadata": {},
   "outputs": [],
   "source": [
    "print(\"Hello, World\\n홍길동\")"
   ]
  },
  {
   "cell_type": "code",
   "execution_count": null,
   "id": "adeffe93",
   "metadata": {},
   "outputs": [],
   "source": [
    "age = 25\n",
    "duration = \"2\"\n",
    "print(str(age) + duration)\n",
    "print( age + int(duration))"
   ]
  },
  {
   "cell_type": "code",
   "execution_count": null,
   "id": "b5dc4f6b",
   "metadata": {},
   "outputs": [],
   "source": [
    "# 반복하는 명령(주석:실행하지 않고 개발자가 보는 용도)\n",
    "# for i in range(1000000000000000000):\n",
    "#     print(i)"
   ]
  },
  {
   "cell_type": "code",
   "execution_count": 1,
   "id": "94ff7f67",
   "metadata": {},
   "outputs": [],
   "source": [
    "print = 10"
   ]
  },
  {
   "cell_type": "code",
   "execution_count": 2,
   "id": "bd08ce07",
   "metadata": {},
   "outputs": [
    {
     "data": {
      "text/plain": [
       "10"
      ]
     },
     "execution_count": 2,
     "metadata": {},
     "output_type": "execute_result"
    }
   ],
   "source": [
    "print"
   ]
  },
  {
   "cell_type": "code",
   "execution_count": 3,
   "id": "3c2c99c1",
   "metadata": {},
   "outputs": [
    {
     "ename": "TypeError",
     "evalue": "'int' object is not callable",
     "output_type": "error",
     "traceback": [
      "\u001b[1;31m--------------------------------------------------------------------------\u001b[0m",
      "\u001b[1;31mTypeError\u001b[0m                                Traceback (most recent call last)",
      "Cell \u001b[1;32mIn[3], line 1\u001b[0m\n\u001b[1;32m----> 1\u001b[0m \u001b[38;5;28;43mprint\u001b[39;49m\u001b[43m(\u001b[49m\u001b[38;5;124;43m\"\u001b[39;49m\u001b[38;5;124;43mHello\u001b[39;49m\u001b[38;5;124;43m\"\u001b[39;49m\u001b[43m)\u001b[49m\n",
      "\u001b[1;31mTypeError\u001b[0m: 'int' object is not callable"
     ]
    }
   ],
   "source": [
    "print(\"Hello\")"
   ]
  },
  {
   "cell_type": "code",
   "execution_count": 4,
   "id": "ab81258a",
   "metadata": {},
   "outputs": [],
   "source": [
    "# 실수로 print에 10 할당을 취소하는 방법\n",
    "# 1. 커널 재시작\n",
    "# print 변수만 제거\n",
    "del print"
   ]
  },
  {
   "cell_type": "code",
   "execution_count": null,
   "id": "6c7501c9",
   "metadata": {},
   "outputs": [],
   "source": []
  },
  {
   "cell_type": "code",
   "execution_count": null,
   "id": "f543373d",
   "metadata": {},
   "outputs": [],
   "source": []
  },
  {
   "cell_type": "code",
   "execution_count": null,
   "id": "d8f32d17",
   "metadata": {},
   "outputs": [],
   "source": []
  }
 ],
 "metadata": {
  "kernelspec": {
   "display_name": "Python 3 (ipykernel)",
   "language": "python",
   "name": "python3"
  },
  "language_info": {
   "codemirror_mode": {
    "name": "ipython",
    "version": 3
   },
   "file_extension": ".py",
   "mimetype": "text/x-python",
   "name": "python",
   "nbconvert_exporter": "python",
   "pygments_lexer": "ipython3",
   "version": "3.10.9"
  },
  "toc": {
   "base_numbering": 1,
   "nav_menu": {},
   "number_sections": false,
   "sideBar": true,
   "skip_h1_title": false,
   "title_cell": "Table of Contents",
   "title_sidebar": "Contents",
   "toc_cell": false,
   "toc_position": {
    "height": "calc(100% - 180px)",
    "left": "10px",
    "top": "150px",
    "width": "165px"
   },
   "toc_section_display": true,
   "toc_window_display": true
  }
 },
 "nbformat": 4,
 "nbformat_minor": 5
}
