{
 "cells": [
  {
   "cell_type": "code",
   "execution_count": 1,
   "id": "b1f5cc9f",
   "metadata": {},
   "outputs": [
    {
     "data": {
      "text/html": [
       "\n",
       "<style>\n",
       "div.container{width:90% !important;}\n",
       "div.cell.code_cell.rendered{width:100%;}\n",
       "div.input_prompt{padding:0px;}\n",
       "div.CodeMirror {font-family:Consolas; font-size:25pt;}\n",
       "div.text_cell_render.rendered_html{font-size:18pt;}\n",
       "div.output {font-size:24pt; font-weight:bold;}\n",
       "div.input {font-family:Consolas; font-size:12pt;}\n",
       "div.prompt {min-width:70px;}\n",
       "div#toc-wrapper{padding-top:120px;}\n",
       "div.text_cell_render ul li{font-size:21pt;padding:5px;}\n",
       "table.dataframe{font-size:24px;}\n",
       "</style>\n"
      ],
      "text/plain": [
       "<IPython.core.display.HTML object>"
      ]
     },
     "metadata": {},
     "output_type": "display_data"
    }
   ],
   "source": [
    "from IPython.display import display, HTML\n",
    "display(HTML(\"\"\"\n",
    "<style>\n",
    "div.container{width:90% !important;}\n",
    "div.cell.code_cell.rendered{width:100%;}\n",
    "div.input_prompt{padding:0px;}\n",
    "div.CodeMirror {font-family:Consolas; font-size:25pt;}\n",
    "div.text_cell_render.rendered_html{font-size:18pt;}\n",
    "div.output {font-size:24pt; font-weight:bold;}\n",
    "div.input {font-family:Consolas; font-size:12pt;}\n",
    "div.prompt {min-width:70px;}\n",
    "div#toc-wrapper{padding-top:120px;}\n",
    "div.text_cell_render ul li{font-size:21pt;padding:5px;}\n",
    "table.dataframe{font-size:24px;}\n",
    "</style>\n",
    "\"\"\"))"
   ]
  },
  {
   "cell_type": "markdown",
   "id": "41bdf146",
   "metadata": {},
   "source": [
    "<b><font color=\"red\" size=\"6\">ch06. 모듈과 패키지</font></b>\n",
    "- 모듈 : 함수, 변수, 클래스 등을 담고 있는 파이썬 코드 파일(*.py)\n",
    "- 패키지는 : 모듈들이 포함된 폴더\n",
    "\n",
    "# 1절. 파이썬 모듈 사용\n",
    "- anaconda는 1500개 이상의 패키지 install(정확한 갯수는 버전에 따라 상이)\n",
    "- miniconda : python.org버전보다 조금 많이 install(최소한의 것만)\n",
    "- python.org : 파이썬 인터프리터와 함께 파이썬 표준 모듈 200여개 install(re,datetime.. )"
   ]
  },
  {
   "cell_type": "code",
   "execution_count": 9,
   "id": "67ba782d",
   "metadata": {},
   "outputs": [
    {
     "data": {
      "text/plain": [
       "'Fri Apr 18 10:46:12 2025'"
      ]
     },
     "execution_count": 9,
     "metadata": {},
     "output_type": "execute_result"
    }
   ],
   "source": [
    "# 1. import 모듈명 : 모듈안의 함수, 클래스, 변수를 모듈명.함수명().. 사용가능\n",
    "import time # time모듈안의 모든 함수, 클래스, 변수를 메모리 load\n",
    "time.ctime()"
   ]
  },
  {
   "cell_type": "code",
   "execution_count": 10,
   "id": "7fdfc3bf",
   "metadata": {},
   "outputs": [
    {
     "data": {
      "text/plain": [
       "1744940776.8689363"
      ]
     },
     "execution_count": 10,
     "metadata": {},
     "output_type": "execute_result"
    }
   ],
   "source": [
    "time.time() # 1970.1.1부터의 밀리세컨 수"
   ]
  },
  {
   "cell_type": "code",
   "execution_count": 11,
   "id": "da380841",
   "metadata": {},
   "outputs": [],
   "source": [
    "del time # time 모듈에서 unload"
   ]
  },
  {
   "cell_type": "code",
   "execution_count": null,
   "id": "5df5d89a",
   "metadata": {},
   "outputs": [],
   "source": [
    "# 2. from 모듈(A) import 함수|클래스|변수(B) : A모듈안의 B만 load\n",
    "#    from 패키지(A) import 모듈(B) : A패키지안의 B모듈을 load\n",
    "#    from 패키지(A).모듈명(B) import 함수|클래스|변수(C) : A패키지밑의 B모듈의 C만 load"
   ]
  },
  {
   "cell_type": "code",
   "execution_count": 12,
   "id": "946b99b6",
   "metadata": {},
   "outputs": [],
   "source": [
    "from time import ctime, time"
   ]
  },
  {
   "cell_type": "code",
   "execution_count": 13,
   "id": "e9466fed",
   "metadata": {},
   "outputs": [
    {
     "data": {
      "text/plain": [
       "'Fri Apr 18 10:51:44 2025'"
      ]
     },
     "execution_count": 13,
     "metadata": {},
     "output_type": "execute_result"
    }
   ],
   "source": [
    "ctime()"
   ]
  },
  {
   "cell_type": "code",
   "execution_count": 14,
   "id": "81451921",
   "metadata": {},
   "outputs": [
    {
     "data": {
      "text/plain": [
       "1744941107.349682"
      ]
     },
     "execution_count": 14,
     "metadata": {},
     "output_type": "execute_result"
    }
   ],
   "source": [
    "time()"
   ]
  },
  {
   "cell_type": "code",
   "execution_count": 15,
   "id": "30bba832",
   "metadata": {},
   "outputs": [],
   "source": [
    "del ctime, time"
   ]
  },
  {
   "cell_type": "code",
   "execution_count": 16,
   "id": "9b65b7be",
   "metadata": {},
   "outputs": [],
   "source": [
    "# 3. import 모듈명 as 별칭 : 모듈을 메모리에서 load하고 별칭으로 사용\n",
    "import time as t"
   ]
  },
  {
   "cell_type": "code",
   "execution_count": 17,
   "id": "bb1fad80",
   "metadata": {},
   "outputs": [
    {
     "data": {
      "text/plain": [
       "'Fri Apr 18 10:56:02 2025'"
      ]
     },
     "execution_count": 17,
     "metadata": {},
     "output_type": "execute_result"
    }
   ],
   "source": [
    "t.ctime()"
   ]
  },
  {
   "cell_type": "code",
   "execution_count": 18,
   "id": "0b322220",
   "metadata": {},
   "outputs": [
    {
     "data": {
      "text/plain": [
       "1744941385.3424191"
      ]
     },
     "execution_count": 18,
     "metadata": {},
     "output_type": "execute_result"
    }
   ],
   "source": [
    "t.time()"
   ]
  },
  {
   "cell_type": "code",
   "execution_count": 19,
   "id": "88259a0d",
   "metadata": {},
   "outputs": [],
   "source": [
    "del t"
   ]
  },
  {
   "cell_type": "code",
   "execution_count": 20,
   "id": "875fea95",
   "metadata": {},
   "outputs": [],
   "source": [
    "# 4. from 모듈명 import 함수 as 별칭\n",
    "#    from 패키지명 import 모듈명 as 별칭\n",
    "#    from 패키지명.모듈명 import 함수 as 별칭\n",
    "from time import ctime as ct, time as ti"
   ]
  },
  {
   "cell_type": "code",
   "execution_count": 21,
   "id": "2704d98c",
   "metadata": {},
   "outputs": [
    {
     "data": {
      "text/plain": [
       "'Fri Apr 18 10:59:48 2025'"
      ]
     },
     "execution_count": 21,
     "metadata": {},
     "output_type": "execute_result"
    }
   ],
   "source": [
    "ct()"
   ]
  },
  {
   "cell_type": "code",
   "execution_count": 22,
   "id": "ef83dd62",
   "metadata": {},
   "outputs": [
    {
     "data": {
      "text/plain": [
       "1744941591.0947752"
      ]
     },
     "execution_count": 22,
     "metadata": {},
     "output_type": "execute_result"
    }
   ],
   "source": [
    "ti()"
   ]
  },
  {
   "cell_type": "markdown",
   "id": "a66bdc41",
   "metadata": {},
   "source": [
    "# 2절. 사용자 정의 모듈\n",
    "- 모듈 가져오는 순서 (1)파이썬 표준 모듈 (2)sys.path변수에 저장된 경로"
   ]
  },
  {
   "cell_type": "code",
   "execution_count": 25,
   "id": "4958fc73",
   "metadata": {},
   "outputs": [
    {
     "data": {
      "text/plain": [
       "['D:\\\\ai_x\\\\source\\\\01_python',\n",
       " 'C:\\\\Users\\\\901-00\\\\anaconda3\\\\python310.zip',\n",
       " 'C:\\\\Users\\\\901-00\\\\anaconda3\\\\DLLs',\n",
       " 'C:\\\\Users\\\\901-00\\\\anaconda3\\\\lib',\n",
       " 'C:\\\\Users\\\\901-00\\\\anaconda3',\n",
       " '',\n",
       " 'C:\\\\Users\\\\901-00\\\\anaconda3\\\\lib\\\\site-packages',\n",
       " 'C:\\\\Users\\\\901-00\\\\anaconda3\\\\lib\\\\site-packages\\\\win32',\n",
       " 'C:\\\\Users\\\\901-00\\\\anaconda3\\\\lib\\\\site-packages\\\\win32\\\\lib',\n",
       " 'C:\\\\Users\\\\901-00\\\\anaconda3\\\\lib\\\\site-packages\\\\Pythonwin']"
      ]
     },
     "execution_count": 25,
     "metadata": {},
     "output_type": "execute_result"
    }
   ],
   "source": [
    "import sys\n",
    "sys.path"
   ]
  },
  {
   "cell_type": "code",
   "execution_count": 26,
   "id": "55f8d50f",
   "metadata": {},
   "outputs": [
    {
     "data": {
      "text/plain": [
       "['D:\\\\ai_x\\\\source\\\\01_python',\n",
       " 'C:\\\\Users\\\\901-00\\\\anaconda3\\\\python310.zip',\n",
       " 'C:\\\\Users\\\\901-00\\\\anaconda3\\\\DLLs',\n",
       " 'C:\\\\Users\\\\901-00\\\\anaconda3\\\\lib',\n",
       " 'C:\\\\Users\\\\901-00\\\\anaconda3',\n",
       " '',\n",
       " 'C:\\\\Users\\\\901-00\\\\anaconda3\\\\lib\\\\site-packages',\n",
       " 'C:\\\\Users\\\\901-00\\\\anaconda3\\\\lib\\\\site-packages\\\\win32',\n",
       " 'C:\\\\Users\\\\901-00\\\\anaconda3\\\\lib\\\\site-packages\\\\win32\\\\lib',\n",
       " 'C:\\\\Users\\\\901-00\\\\anaconda3\\\\lib\\\\site-packages\\\\Pythonwin',\n",
       " 'D:\\\\ai_x\\\\source\\\\pylib']"
      ]
     },
     "execution_count": 26,
     "metadata": {},
     "output_type": "execute_result"
    }
   ],
   "source": [
    "sys.path.append(r'D:\\ai_x\\source\\pylib')\n",
    "sys.path"
   ]
  },
  {
   "cell_type": "markdown",
   "id": "602b362d",
   "metadata": {},
   "source": [
    "## 사용자 정의 모듈"
   ]
  },
  {
   "cell_type": "code",
   "execution_count": 32,
   "id": "c17c96a9",
   "metadata": {},
   "outputs": [
    {
     "name": "stdout",
     "output_type": "stream",
     "text": [
      "0 1 1 2 3 5 8 13 21 34 55 89 144 \n",
      "[0, 1, 1, 2, 3, 5, 8, 13, 21, 34, 55, 89]\n"
     ]
    }
   ],
   "source": [
    "# 1\n",
    "import fibo\n",
    "fibo.fibonacci_print(200)\n",
    "print(fibo.fibonacci_return(100))"
   ]
  },
  {
   "cell_type": "code",
   "execution_count": 33,
   "id": "6313d9dd",
   "metadata": {},
   "outputs": [],
   "source": [
    "del fibo"
   ]
  },
  {
   "cell_type": "code",
   "execution_count": 34,
   "id": "76e80199",
   "metadata": {},
   "outputs": [
    {
     "name": "stdout",
     "output_type": "stream",
     "text": [
      "0 1 1 2 3 5 8 13 21 34 55 89 \n"
     ]
    }
   ],
   "source": [
    "# 2\n",
    "from fibo import fibonacci_print\n",
    "fibonacci_print(100)"
   ]
  },
  {
   "cell_type": "code",
   "execution_count": 35,
   "id": "0407ae63",
   "metadata": {},
   "outputs": [],
   "source": [
    "del fibonacci_print"
   ]
  },
  {
   "cell_type": "code",
   "execution_count": 36,
   "id": "957ad0c1",
   "metadata": {},
   "outputs": [
    {
     "name": "stdout",
     "output_type": "stream",
     "text": [
      "0 1 1 2 3 5 8 13 21 34 55 89 144 \n",
      "[0, 1, 1, 2, 3, 5, 8, 13, 21, 34, 55, 89]\n"
     ]
    }
   ],
   "source": [
    "# 3\n",
    "import fibo as f\n",
    "f.fibonacci_print(200)\n",
    "print(f.fibonacci_return(100))"
   ]
  },
  {
   "cell_type": "code",
   "execution_count": 37,
   "id": "7733601f",
   "metadata": {},
   "outputs": [
    {
     "data": {
      "text/plain": [
       "[0, 1, 1, 2, 3, 5, 8, 13, 21, 34, 55, 89, 144]"
      ]
     },
     "execution_count": 37,
     "metadata": {},
     "output_type": "execute_result"
    }
   ],
   "source": [
    "# 4\n",
    "from fibo import fibonacci_return as fibo_r\n",
    "fibo_r(200)"
   ]
  },
  {
   "cell_type": "markdown",
   "id": "a7069287",
   "metadata": {},
   "source": [
    "# 3절 패키지"
   ]
  },
  {
   "cell_type": "code",
   "execution_count": 1,
   "id": "4e61b4f0",
   "metadata": {},
   "outputs": [],
   "source": [
    "import sys\n",
    "sys.path.append(r'D:\\ai_x\\source\\pylib')"
   ]
  },
  {
   "cell_type": "code",
   "execution_count": 2,
   "id": "28d9acfd",
   "metadata": {},
   "outputs": [
    {
     "name": "stdout",
     "output_type": "stream",
     "text": [
      "sample_pac 패키지를 로드 했습니다.\n"
     ]
    }
   ],
   "source": [
    "import sample_pac"
   ]
  },
  {
   "cell_type": "code",
   "execution_count": 3,
   "id": "cd4e80bf",
   "metadata": {},
   "outputs": [
    {
     "name": "stdout",
     "output_type": "stream",
     "text": [
      "sample_pac패키지 안의 ab패키지 로드됩니다\n"
     ]
    }
   ],
   "source": [
    "from sample_pac.ab import *"
   ]
  },
  {
   "cell_type": "code",
   "execution_count": 4,
   "id": "6ff0a2c7",
   "metadata": {},
   "outputs": [
    {
     "name": "stdout",
     "output_type": "stream",
     "text": [
      "sample_pac/ab/a모듈의 hello\n"
     ]
    }
   ],
   "source": [
    "a.hello()"
   ]
  },
  {
   "cell_type": "code",
   "execution_count": 5,
   "id": "eb6f000a",
   "metadata": {},
   "outputs": [
    {
     "ename": "NameError",
     "evalue": "name 'b' is not defined",
     "output_type": "error",
     "traceback": [
      "\u001b[1;31m-----------------------------------------\u001b[0m",
      "\u001b[1;31mNameError\u001b[0mTraceback (most recent call last)",
      "Cell \u001b[1;32mIn[5], line 1\u001b[0m\n\u001b[1;32m----> 1\u001b[0m \u001b[43mb\u001b[49m\u001b[38;5;241m.\u001b[39mworld()\n",
      "\u001b[1;31mNameError\u001b[0m: name 'b' is not defined"
     ]
    }
   ],
   "source": [
    "b.world()"
   ]
  },
  {
   "cell_type": "code",
   "execution_count": 6,
   "id": "fef74423",
   "metadata": {},
   "outputs": [
    {
     "name": "stdout",
     "output_type": "stream",
     "text": [
      "sample_pac/ab/b모듈안의 world\n"
     ]
    }
   ],
   "source": [
    "from sample_pac.ab.b import world\n",
    "world()"
   ]
  },
  {
   "cell_type": "code",
   "execution_count": 7,
   "id": "b7496a19",
   "metadata": {},
   "outputs": [
    {
     "name": "stdout",
     "output_type": "stream",
     "text": [
      "samplec_pac/cd/c모듈안의 nice\n",
      "sample_pac/ab/a모듈의 hello\n"
     ]
    }
   ],
   "source": [
    "import sample_pac.cd.c as c\n",
    "c.nice()"
   ]
  },
  {
   "cell_type": "code",
   "execution_count": 8,
   "id": "7112eb3f",
   "metadata": {},
   "outputs": [
    {
     "name": "stdout",
     "output_type": "stream",
     "text": [
      "sample_pac/ab/a모듈의 hello\n"
     ]
    }
   ],
   "source": [
    "c.a.hello()"
   ]
  },
  {
   "cell_type": "markdown",
   "id": "d966efbc",
   "metadata": {},
   "source": [
    "# 4절. 패키지 설치 및 삭제\n",
    "\n",
    "* 아나콘다 프롬프트에서 실행\n",
    "- 패키지 설치 : pip install 패키지명[==버전] / conda install 패키지명[==버전]\n",
    "               pip install 패키지화일명(*.whl 출처:pypi.org)\n",
    "- 패키지 확인 : pip show 패키지명            / conda list 패키지명\n",
    "- 패키지 삭제 : pip uninstall 패키지명       / conda remove 패키지명"
   ]
  },
  {
   "cell_type": "code",
   "execution_count": 4,
   "id": "d97ccac0",
   "metadata": {},
   "outputs": [],
   "source": [
    "import objgraph # 메모리 사용량 출력하는 함수"
   ]
  },
  {
   "cell_type": "code",
   "execution_count": 5,
   "id": "425e2a4d",
   "metadata": {},
   "outputs": [
    {
     "name": "stdout",
     "output_type": "stream",
     "text": [
      "dict          34201\n",
      "list          27956\n",
      "function      18542\n",
      "Token         16775\n",
      "tuple         13073\n",
      "Operator      10461\n",
      "Name          9416\n",
      "PythonNode    6698\n",
      "ReferenceType 5464\n",
      "DFAPlan       5418\n"
     ]
    }
   ],
   "source": [
    "objgraph.show_most_common_types()"
   ]
  },
  {
   "cell_type": "markdown",
   "id": "a05e70da",
   "metadata": {},
   "source": [
    "# 5절. 연습문제"
   ]
  },
  {
   "cell_type": "code",
   "execution_count": 7,
   "id": "59e30557",
   "metadata": {},
   "outputs": [],
   "source": [
    "# 1 (3)\n",
    "# 2 (4)\n",
    "# 3 __init__.py\n",
    "# 4 __all__\n",
    "# 5 (1)python -m pip install --upgrade pip (pip 최신버전 업그레이드)"
   ]
  },
  {
   "cell_type": "code",
   "execution_count": null,
   "id": "9ff0f719",
   "metadata": {},
   "outputs": [],
   "source": []
  }
 ],
 "metadata": {
  "kernelspec": {
   "display_name": "Python 3 (ipykernel)",
   "language": "python",
   "name": "python3"
  },
  "language_info": {
   "codemirror_mode": {
    "name": "ipython",
    "version": 3
   },
   "file_extension": ".py",
   "mimetype": "text/x-python",
   "name": "python",
   "nbconvert_exporter": "python",
   "pygments_lexer": "ipython3",
   "version": "3.10.9"
  },
  "toc": {
   "base_numbering": 1,
   "nav_menu": {},
   "number_sections": false,
   "sideBar": true,
   "skip_h1_title": false,
   "title_cell": "Table of Contents",
   "title_sidebar": "Contents",
   "toc_cell": false,
   "toc_position": {
    "height": "calc(100% - 180px)",
    "left": "10px",
    "top": "150px",
    "width": "165px"
   },
   "toc_section_display": true,
   "toc_window_display": true
  }
 },
 "nbformat": 4,
 "nbformat_minor": 5
}
