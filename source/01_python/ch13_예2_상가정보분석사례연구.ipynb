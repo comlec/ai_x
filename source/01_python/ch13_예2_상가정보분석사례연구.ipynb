{
 "cells": [
  {
   "cell_type": "code",
   "execution_count": 1,
   "id": "491f2162",
   "metadata": {},
   "outputs": [
    {
     "data": {
      "text/html": [
       "\n",
       "<style>\n",
       "div.container{width:90% !important;}\n",
       "div.cell.code_cell.rendered{width:100%;}\n",
       "div.input_prompt{padding:0px;}\n",
       "div.CodeMirror {font-family:Consolas; font-size:25pt;}\n",
       "div.text_cell_render.rendered_html{font-size:18pt;}\n",
       "div.output {font-size:24pt; font-weight:bold;}\n",
       "div.input {font-family:Consolas; font-size:12pt;}\n",
       "div.prompt {min-width:70px;}\n",
       "div#toc-wrapper{padding-top:120px;}\n",
       "div.text_cell_render ul li{font-size:21pt;padding:5px;}\n",
       "table.dataframe{font-size:24px;}\n",
       "</style>\n"
      ],
      "text/plain": [
       "<IPython.core.display.HTML object>"
      ]
     },
     "metadata": {},
     "output_type": "display_data"
    }
   ],
   "source": [
    "from IPython.display import display, HTML\n",
    "display(HTML(\"\"\"\n",
    "<style>\n",
    "div.container{width:90% !important;}\n",
    "div.cell.code_cell.rendered{width:100%;}\n",
    "div.input_prompt{padding:0px;}\n",
    "div.CodeMirror {font-family:Consolas; font-size:25pt;}\n",
    "div.text_cell_render.rendered_html{font-size:18pt;}\n",
    "div.output {font-size:24pt; font-weight:bold;}\n",
    "div.input {font-family:Consolas; font-size:12pt;}\n",
    "div.prompt {min-width:70px;}\n",
    "div#toc-wrapper{padding-top:120px;}\n",
    "div.text_cell_render ul li{font-size:21pt;padding:5px;}\n",
    "table.dataframe{font-size:24px;}\n",
    "</style>\n",
    "\"\"\"))"
   ]
  },
  {
   "cell_type": "markdown",
   "id": "72aa2f87",
   "metadata": {},
   "source": [
    "# 1. import & 한글설정 & 경고메세지 ignore"
   ]
  },
  {
   "cell_type": "code",
   "execution_count": 2,
   "id": "54fd161a",
   "metadata": {},
   "outputs": [],
   "source": [
    "# 패키지 import\n",
    "import matplotlib.pyplot as plt\n",
    "import seaborn as sns\n",
    "import pandas as pd\n",
    "import numpy as np\n",
    "\n",
    "# 시각화의 선명도를 높임\n",
    "%config InlineBackend.figure_format = \"retina\"\n",
    "\n",
    "# 한글설정\n",
    "plt.rc('font', family='Malgun Gothic') # 윈도우즈\n",
    "plt.rc('axes', unicode_minus=False) # 축의 - 깨짐 방지\n",
    "\n",
    "# warning(경고) 안보이게\n",
    "import warnings\n",
    "warnings.filterwarnings(action='ignore')\n",
    "#warnings.filterwarnings(action='default')"
   ]
  },
  {
   "cell_type": "markdown",
   "id": "b277d657",
   "metadata": {},
   "source": [
    "# 2. 서울과 부산데이터만 df 변수"
   ]
  },
  {
   "cell_type": "code",
   "execution_count": 3,
   "id": "32828762",
   "metadata": {},
   "outputs": [
    {
     "name": "stdout",
     "output_type": "stream",
     "text": [
      " D 드라이브의 볼륨: 새 볼륨\n",
      " 볼륨 일련 번호: BE7A-ADFF\n",
      "\n",
      " d:\\ai_x\\download\\shareData\\상가정보_250331 디렉터리\n",
      "\n",
      "2025-05-07  오후 05:04    <DIR>          .\n",
      "2025-05-07  오후 05:04    <DIR>          ..\n",
      "2025-04-27  오후 11:07             1,011 [필독]파일열람방법.txt\n",
      "2025-04-27  오후 11:07        84,550,600 소상공인시장진흥공단_상가(상권)정보_부산_202503.csv\n",
      "2025-04-27  오후 11:07       294,549,483 소상공인시장진흥공단_상가(상권)정보_서울_202503.csv\n",
      "               3개 파일         379,101,094 바이트\n",
      "               2개 디렉터리  492,793,503,744 바이트 남음\n"
     ]
    }
   ],
   "source": [
    "%ls \"d:/ai_x/download/shareData/상가정보_250331/\""
   ]
  },
  {
   "cell_type": "code",
   "execution_count": 4,
   "id": "7c27d841",
   "metadata": {},
   "outputs": [
    {
     "data": {
      "text/plain": [
       "(540517, 39)"
      ]
     },
     "execution_count": 4,
     "metadata": {},
     "output_type": "execute_result"
    }
   ],
   "source": [
    "# 서울 소상공인 데이터\n",
    "df_seoul = pd.read_csv('d:/ai_x/download/shareData/상가정보_250331/소상공인시장진흥공단_상가(상권)정보_서울_202503.csv',\n",
    "                      #encoding='utf-8',\n",
    "                      #sep=',',\n",
    "                      #low_memory=False \n",
    "                      )\n",
    "df_seoul.shape"
   ]
  },
  {
   "cell_type": "code",
   "execution_count": 6,
   "id": "d16491e8",
   "metadata": {},
   "outputs": [
    {
     "data": {
      "text/plain": [
       "(155537, 39)"
      ]
     },
     "execution_count": 6,
     "metadata": {},
     "output_type": "execute_result"
    }
   ],
   "source": [
    "# 부산 소상공인 데이터\n",
    "df_busan = pd.read_csv('d:/ai_x/download/shareData/상가정보_250331/소상공인시장진흥공단_상가(상권)정보_부산_202503.csv')\n",
    "df_busan.shape"
   ]
  },
  {
   "cell_type": "code",
   "execution_count": null,
   "id": "ed2f24e1",
   "metadata": {},
   "outputs": [],
   "source": []
  },
  {
   "cell_type": "code",
   "execution_count": null,
   "id": "604d4904",
   "metadata": {},
   "outputs": [],
   "source": []
  },
  {
   "cell_type": "code",
   "execution_count": null,
   "id": "456593a2",
   "metadata": {},
   "outputs": [],
   "source": []
  },
  {
   "cell_type": "code",
   "execution_count": null,
   "id": "fe9ef32f",
   "metadata": {},
   "outputs": [],
   "source": []
  },
  {
   "cell_type": "code",
   "execution_count": null,
   "id": "5aa2581e",
   "metadata": {},
   "outputs": [],
   "source": []
  }
 ],
 "metadata": {
  "kernelspec": {
   "display_name": "Python 3 (ipykernel)",
   "language": "python",
   "name": "python3"
  },
  "language_info": {
   "codemirror_mode": {
    "name": "ipython",
    "version": 3
   },
   "file_extension": ".py",
   "mimetype": "text/x-python",
   "name": "python",
   "nbconvert_exporter": "python",
   "pygments_lexer": "ipython3",
   "version": "3.10.9"
  },
  "toc": {
   "base_numbering": 1,
   "nav_menu": {},
   "number_sections": false,
   "sideBar": true,
   "skip_h1_title": false,
   "title_cell": "Table of Contents",
   "title_sidebar": "Contents",
   "toc_cell": false,
   "toc_position": {
    "height": "calc(100% - 180px)",
    "left": "10px",
    "top": "150px",
    "width": "165px"
   },
   "toc_section_display": true,
   "toc_window_display": true
  }
 },
 "nbformat": 4,
 "nbformat_minor": 5
}
